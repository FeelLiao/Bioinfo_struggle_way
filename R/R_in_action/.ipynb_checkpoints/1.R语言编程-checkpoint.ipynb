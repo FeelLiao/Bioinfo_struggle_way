{
 "cells": [
  {
   "cell_type": "markdown",
   "metadata": {},
   "source": [
    "# 课后习题"
   ]
  },
  {
   "cell_type": "code",
   "execution_count": 2,
   "metadata": {},
   "outputs": [],
   "source": [
    "# read the loans data from file\n",
    "loans_FILE_PATH <- \"~/Documents/R_learn/exercise_data/loans.csv\"\n",
    "loans_all <- read.csv(loans_FILE_PATH,header = TRUE)\n",
    "loans <- subset(loans_all,select = c(loan_id,account_id,status))"
   ]
  },
  {
   "cell_type": "code",
   "execution_count": 3,
   "metadata": {},
   "outputs": [
    {
     "data": {
      "text/html": [
       "<table>\n",
       "<thead><tr><th scope=col>loan_id</th><th scope=col>account_id</th><th scope=col>status</th></tr></thead>\n",
       "<tbody>\n",
       "\t<tr><td>5314 </td><td> 1787</td><td>B    </td></tr>\n",
       "\t<tr><td>5316 </td><td> 1801</td><td>A    </td></tr>\n",
       "\t<tr><td>6863 </td><td> 9188</td><td>A    </td></tr>\n",
       "\t<tr><td>5325 </td><td> 1843</td><td>A    </td></tr>\n",
       "\t<tr><td>7240 </td><td>11013</td><td>A    </td></tr>\n",
       "\t<tr><td>6687 </td><td> 8261</td><td>A    </td></tr>\n",
       "</tbody>\n",
       "</table>\n"
      ],
      "text/latex": [
       "\\begin{tabular}{r|lll}\n",
       " loan\\_id & account\\_id & status\\\\\n",
       "\\hline\n",
       "\t 5314  &  1787 & B    \\\\\n",
       "\t 5316  &  1801 & A    \\\\\n",
       "\t 6863  &  9188 & A    \\\\\n",
       "\t 5325  &  1843 & A    \\\\\n",
       "\t 7240  & 11013 & A    \\\\\n",
       "\t 6687  &  8261 & A    \\\\\n",
       "\\end{tabular}\n"
      ],
      "text/markdown": [
       "\n",
       "| loan_id | account_id | status |\n",
       "|---|---|---|\n",
       "| 5314  |  1787 | B     |\n",
       "| 5316  |  1801 | A     |\n",
       "| 6863  |  9188 | A     |\n",
       "| 5325  |  1843 | A     |\n",
       "| 7240  | 11013 | A     |\n",
       "| 6687  |  8261 | A     |\n",
       "\n"
      ],
      "text/plain": [
       "  loan_id account_id status\n",
       "1 5314     1787      B     \n",
       "2 5316     1801      A     \n",
       "3 6863     9188      A     \n",
       "4 5325     1843      A     \n",
       "5 7240    11013      A     \n",
       "6 6687     8261      A     "
      ]
     },
     "metadata": {},
     "output_type": "display_data"
    }
   ],
   "source": [
    "head(loans)"
   ]
  },
  {
   "cell_type": "code",
   "execution_count": 4,
   "metadata": {},
   "outputs": [],
   "source": [
    "# judge the bad or good \n",
    "# status A for 0, B and D for 1, C for NA\n",
    "loans$bad_good <- NA\n",
    "loans[loans$status==\"A\",\"bad_good\"]<-0\n",
    "loans[loans$status==\"B\"|loans$status==\"D\",\"bad_good\"] <-1"
   ]
  },
  {
   "cell_type": "code",
   "execution_count": 9,
   "metadata": {},
   "outputs": [
    {
     "data": {
      "text/html": [
       "<table>\n",
       "<thead><tr><th scope=col>loan_id</th><th scope=col>account_id</th><th scope=col>status</th><th scope=col>bad_good</th></tr></thead>\n",
       "<tbody>\n",
       "\t<tr><td>5314 </td><td> 1787</td><td>B    </td><td>1    </td></tr>\n",
       "\t<tr><td>5316 </td><td> 1801</td><td>A    </td><td>0    </td></tr>\n",
       "\t<tr><td>6863 </td><td> 9188</td><td>A    </td><td>0    </td></tr>\n",
       "\t<tr><td>5325 </td><td> 1843</td><td>A    </td><td>0    </td></tr>\n",
       "\t<tr><td>7240 </td><td>11013</td><td>A    </td><td>0    </td></tr>\n",
       "\t<tr><td>6687 </td><td> 8261</td><td>A    </td><td>0    </td></tr>\n",
       "</tbody>\n",
       "</table>\n"
      ],
      "text/latex": [
       "\\begin{tabular}{r|llll}\n",
       " loan\\_id & account\\_id & status & bad\\_good\\\\\n",
       "\\hline\n",
       "\t 5314  &  1787 & B     & 1    \\\\\n",
       "\t 5316  &  1801 & A     & 0    \\\\\n",
       "\t 6863  &  9188 & A     & 0    \\\\\n",
       "\t 5325  &  1843 & A     & 0    \\\\\n",
       "\t 7240  & 11013 & A     & 0    \\\\\n",
       "\t 6687  &  8261 & A     & 0    \\\\\n",
       "\\end{tabular}\n"
      ],
      "text/markdown": [
       "\n",
       "| loan_id | account_id | status | bad_good |\n",
       "|---|---|---|---|\n",
       "| 5314  |  1787 | B     | 1     |\n",
       "| 5316  |  1801 | A     | 0     |\n",
       "| 6863  |  9188 | A     | 0     |\n",
       "| 5325  |  1843 | A     | 0     |\n",
       "| 7240  | 11013 | A     | 0     |\n",
       "| 6687  |  8261 | A     | 0     |\n",
       "\n"
      ],
      "text/plain": [
       "  loan_id account_id status bad_good\n",
       "1 5314     1787      B      1       \n",
       "2 5316     1801      A      0       \n",
       "3 6863     9188      A      0       \n",
       "4 5325     1843      A      0       \n",
       "5 7240    11013      A      0       \n",
       "6 6687     8261      A      0       "
      ]
     },
     "metadata": {},
     "output_type": "display_data"
    }
   ],
   "source": [
    "head(loans)"
   ]
  },
  {
   "cell_type": "code",
   "execution_count": 13,
   "metadata": {},
   "outputs": [],
   "source": [
    "# read the clients data from file\n",
    "clients_FILE_PATH <-\"~/Documents/R_learn/exercise_data/clients.csv\"\n",
    "clients <- read.csv(clients_FILE_PATH,header = TRUE,fileEncoding = \"gbk\")\n",
    "# use fileEncoding key to refer to the gbk encode"
   ]
  },
  {
   "cell_type": "code",
   "execution_count": 15,
   "metadata": {},
   "outputs": [
    {
     "data": {
      "text/html": [
       "<table>\n",
       "<thead><tr><th scope=col>client_id</th><th scope=col>sex</th><th scope=col>birth_date</th><th scope=col>district_id</th></tr></thead>\n",
       "<tbody>\n",
       "\t<tr><td>1         </td><td>女        </td><td>1970-12-13</td><td>18        </td></tr>\n",
       "\t<tr><td>2         </td><td>男        </td><td>1945-02-04</td><td> 1        </td></tr>\n",
       "\t<tr><td>3         </td><td>女        </td><td>1940-10-09</td><td> 1        </td></tr>\n",
       "\t<tr><td>4         </td><td>男        </td><td>1956-12-01</td><td> 5        </td></tr>\n",
       "\t<tr><td>5         </td><td>女        </td><td>1960-07-03</td><td> 5        </td></tr>\n",
       "\t<tr><td>6         </td><td>男        </td><td>1919-09-22</td><td>12        </td></tr>\n",
       "</tbody>\n",
       "</table>\n"
      ],
      "text/latex": [
       "\\begin{tabular}{r|llll}\n",
       " client\\_id & sex & birth\\_date & district\\_id\\\\\n",
       "\\hline\n",
       "\t 1          & 女         & 1970-12-13 & 18        \\\\\n",
       "\t 2          & 男         & 1945-02-04 &  1        \\\\\n",
       "\t 3          & 女         & 1940-10-09 &  1        \\\\\n",
       "\t 4          & 男         & 1956-12-01 &  5        \\\\\n",
       "\t 5          & 女         & 1960-07-03 &  5        \\\\\n",
       "\t 6          & 男         & 1919-09-22 & 12        \\\\\n",
       "\\end{tabular}\n"
      ],
      "text/markdown": [
       "\n",
       "| client_id | sex | birth_date | district_id |\n",
       "|---|---|---|---|\n",
       "| 1          | 女         | 1970-12-13 | 18         |\n",
       "| 2          | 男         | 1945-02-04 |  1         |\n",
       "| 3          | 女         | 1940-10-09 |  1         |\n",
       "| 4          | 男         | 1956-12-01 |  5         |\n",
       "| 5          | 女         | 1960-07-03 |  5         |\n",
       "| 6          | 男         | 1919-09-22 | 12         |\n",
       "\n"
      ],
      "text/plain": [
       "  client_id sex birth_date district_id\n",
       "1 1         女  1970-12-13 18         \n",
       "2 2         男  1945-02-04  1         \n",
       "3 3         女  1940-10-09  1         \n",
       "4 4         男  1956-12-01  5         \n",
       "5 5         女  1960-07-03  5         \n",
       "6 6         男  1919-09-22 12         "
      ]
     },
     "metadata": {},
     "output_type": "display_data"
    }
   ],
   "source": [
    "head(clients)"
   ]
  },
  {
   "cell_type": "code",
   "execution_count": 16,
   "metadata": {},
   "outputs": [],
   "source": [
    "# calculate the age \n",
    "clients$age <- round((as.Date(\"2010-01-01\")-as.Date(clients$birth_date))/365)"
   ]
  },
  {
   "cell_type": "code",
   "execution_count": 18,
   "metadata": {},
   "outputs": [],
   "source": [
    "clients$age <- as.numeric(clients$age)"
   ]
  },
  {
   "cell_type": "code",
   "execution_count": 19,
   "metadata": {},
   "outputs": [
    {
     "data": {
      "text/html": [
       "<table>\n",
       "<thead><tr><th scope=col>client_id</th><th scope=col>sex</th><th scope=col>birth_date</th><th scope=col>district_id</th><th scope=col>age</th></tr></thead>\n",
       "<tbody>\n",
       "\t<tr><td>1         </td><td>女        </td><td>1970-12-13</td><td>18        </td><td>39        </td></tr>\n",
       "\t<tr><td>2         </td><td>男        </td><td>1945-02-04</td><td> 1        </td><td>65        </td></tr>\n",
       "\t<tr><td>3         </td><td>女        </td><td>1940-10-09</td><td> 1        </td><td>69        </td></tr>\n",
       "\t<tr><td>4         </td><td>男        </td><td>1956-12-01</td><td> 5        </td><td>53        </td></tr>\n",
       "\t<tr><td>5         </td><td>女        </td><td>1960-07-03</td><td> 5        </td><td>50        </td></tr>\n",
       "\t<tr><td>6         </td><td>男        </td><td>1919-09-22</td><td>12        </td><td>90        </td></tr>\n",
       "</tbody>\n",
       "</table>\n"
      ],
      "text/latex": [
       "\\begin{tabular}{r|lllll}\n",
       " client\\_id & sex & birth\\_date & district\\_id & age\\\\\n",
       "\\hline\n",
       "\t 1          & 女         & 1970-12-13 & 18         & 39        \\\\\n",
       "\t 2          & 男         & 1945-02-04 &  1         & 65        \\\\\n",
       "\t 3          & 女         & 1940-10-09 &  1         & 69        \\\\\n",
       "\t 4          & 男         & 1956-12-01 &  5         & 53        \\\\\n",
       "\t 5          & 女         & 1960-07-03 &  5         & 50        \\\\\n",
       "\t 6          & 男         & 1919-09-22 & 12         & 90        \\\\\n",
       "\\end{tabular}\n"
      ],
      "text/markdown": [
       "\n",
       "| client_id | sex | birth_date | district_id | age |\n",
       "|---|---|---|---|---|\n",
       "| 1          | 女         | 1970-12-13 | 18         | 39         |\n",
       "| 2          | 男         | 1945-02-04 |  1         | 65         |\n",
       "| 3          | 女         | 1940-10-09 |  1         | 69         |\n",
       "| 4          | 男         | 1956-12-01 |  5         | 53         |\n",
       "| 5          | 女         | 1960-07-03 |  5         | 50         |\n",
       "| 6          | 男         | 1919-09-22 | 12         | 90         |\n",
       "\n"
      ],
      "text/plain": [
       "  client_id sex birth_date district_id age\n",
       "1 1         女  1970-12-13 18          39 \n",
       "2 2         男  1945-02-04  1          65 \n",
       "3 3         女  1940-10-09  1          69 \n",
       "4 4         男  1956-12-01  5          53 \n",
       "5 5         女  1960-07-03  5          50 \n",
       "6 6         男  1919-09-22 12          90 "
      ]
     },
     "metadata": {},
     "output_type": "display_data"
    }
   ],
   "source": [
    "head(clients)"
   ]
  },
  {
   "cell_type": "code",
   "execution_count": 20,
   "metadata": {},
   "outputs": [],
   "source": [
    "# read the disp data from file\n",
    "disp_FILE_PATH <- \"~/Documents/R_learn/exercise_data/disp.csv\"\n",
    "disp <- read.csv(disp_FILE_PATH,header = TRUE,fileEncoding = \"GBK\")"
   ]
  },
  {
   "cell_type": "code",
   "execution_count": 21,
   "metadata": {},
   "outputs": [
    {
     "data": {
      "text/html": [
       "<table>\n",
       "<thead><tr><th scope=col>disp_id</th><th scope=col>client_id</th><th scope=col>account_id</th><th scope=col>type</th></tr></thead>\n",
       "<tbody>\n",
       "\t<tr><td>1     </td><td>1     </td><td>1     </td><td>所有者</td></tr>\n",
       "\t<tr><td>2     </td><td>2     </td><td>2     </td><td>所有者</td></tr>\n",
       "\t<tr><td>3     </td><td>3     </td><td>2     </td><td>用户  </td></tr>\n",
       "\t<tr><td>4     </td><td>4     </td><td>3     </td><td>所有者</td></tr>\n",
       "\t<tr><td>5     </td><td>5     </td><td>3     </td><td>用户  </td></tr>\n",
       "\t<tr><td>6     </td><td>6     </td><td>4     </td><td>所有者</td></tr>\n",
       "</tbody>\n",
       "</table>\n"
      ],
      "text/latex": [
       "\\begin{tabular}{r|llll}\n",
       " disp\\_id & client\\_id & account\\_id & type\\\\\n",
       "\\hline\n",
       "\t 1      & 1      & 1      & 所有者\\\\\n",
       "\t 2      & 2      & 2      & 所有者\\\\\n",
       "\t 3      & 3      & 2      & 用户  \\\\\n",
       "\t 4      & 4      & 3      & 所有者\\\\\n",
       "\t 5      & 5      & 3      & 用户  \\\\\n",
       "\t 6      & 6      & 4      & 所有者\\\\\n",
       "\\end{tabular}\n"
      ],
      "text/markdown": [
       "\n",
       "| disp_id | client_id | account_id | type |\n",
       "|---|---|---|---|\n",
       "| 1      | 1      | 1      | 所有者 |\n",
       "| 2      | 2      | 2      | 所有者 |\n",
       "| 3      | 3      | 2      | 用户   |\n",
       "| 4      | 4      | 3      | 所有者 |\n",
       "| 5      | 5      | 3      | 用户   |\n",
       "| 6      | 6      | 4      | 所有者 |\n",
       "\n"
      ],
      "text/plain": [
       "  disp_id client_id account_id type  \n",
       "1 1       1         1          所有者\n",
       "2 2       2         2          所有者\n",
       "3 3       3         2          用户  \n",
       "4 4       4         3          所有者\n",
       "5 5       5         3          用户  \n",
       "6 6       6         4          所有者"
      ]
     },
     "metadata": {},
     "output_type": "display_data"
    }
   ],
   "source": [
    "head(disp)"
   ]
  },
  {
   "cell_type": "code",
   "execution_count": null,
   "metadata": {},
   "outputs": [],
   "source": [
    "# merge the two dataframe\n",
    "table1 <- dplyr::left_join(loans,disp[disp$type=='所有者',],by='account_id')\n",
    "table2 <- dplyr::left_join(table1,clients,by='client_id')"
   ]
  },
  {
   "cell_type": "code",
   "execution_count": 34,
   "metadata": {},
   "outputs": [
    {
     "data": {
      "text/html": [
       "<table>\n",
       "<thead><tr><th scope=col>loan_id</th><th scope=col>account_id</th><th scope=col>status</th><th scope=col>bad_good</th><th scope=col>disp_id</th><th scope=col>client_id</th><th scope=col>type</th><th scope=col>sex</th><th scope=col>birth_date</th><th scope=col>district_id</th><th scope=col>age</th></tr></thead>\n",
       "<tbody>\n",
       "\t<tr><td>5314      </td><td> 1787     </td><td>B         </td><td>1         </td><td> 2166     </td><td> 2166     </td><td>所有者    </td><td>女        </td><td>1947-07-22</td><td>30        </td><td>62        </td></tr>\n",
       "\t<tr><td>5316      </td><td> 1801     </td><td>A         </td><td>0         </td><td> 2181     </td><td> 2181     </td><td>所有者    </td><td>男        </td><td>1968-07-22</td><td>46        </td><td>41        </td></tr>\n",
       "\t<tr><td>6863      </td><td> 9188     </td><td>A         </td><td>0         </td><td>11006     </td><td>11314     </td><td>所有者    </td><td>男        </td><td>1936-06-02</td><td>45        </td><td>74        </td></tr>\n",
       "\t<tr><td>5325      </td><td> 1843     </td><td>A         </td><td>0         </td><td> 2235     </td><td> 2235     </td><td>所有者    </td><td>女        </td><td>1940-04-20</td><td>14        </td><td>70        </td></tr>\n",
       "\t<tr><td>7240      </td><td>11013     </td><td>A         </td><td>0         </td><td>13231     </td><td>13539     </td><td>所有者    </td><td>男        </td><td>1978-09-07</td><td>63        </td><td>31        </td></tr>\n",
       "\t<tr><td>6687      </td><td> 8261     </td><td>A         </td><td>0         </td><td> 9892     </td><td>10200     </td><td>所有者    </td><td>女        </td><td>1980-02-16</td><td>13        </td><td>30        </td></tr>\n",
       "</tbody>\n",
       "</table>\n"
      ],
      "text/latex": [
       "\\begin{tabular}{r|lllllllllll}\n",
       " loan\\_id & account\\_id & status & bad\\_good & disp\\_id & client\\_id & type & sex & birth\\_date & district\\_id & age\\\\\n",
       "\\hline\n",
       "\t 5314       &  1787      & B          & 1          &  2166      &  2166      & 所有者     & 女         & 1947-07-22 & 30         & 62        \\\\\n",
       "\t 5316       &  1801      & A          & 0          &  2181      &  2181      & 所有者     & 男         & 1968-07-22 & 46         & 41        \\\\\n",
       "\t 6863       &  9188      & A          & 0          & 11006      & 11314      & 所有者     & 男         & 1936-06-02 & 45         & 74        \\\\\n",
       "\t 5325       &  1843      & A          & 0          &  2235      &  2235      & 所有者     & 女         & 1940-04-20 & 14         & 70        \\\\\n",
       "\t 7240       & 11013      & A          & 0          & 13231      & 13539      & 所有者     & 男         & 1978-09-07 & 63         & 31        \\\\\n",
       "\t 6687       &  8261      & A          & 0          &  9892      & 10200      & 所有者     & 女         & 1980-02-16 & 13         & 30        \\\\\n",
       "\\end{tabular}\n"
      ],
      "text/markdown": [
       "\n",
       "| loan_id | account_id | status | bad_good | disp_id | client_id | type | sex | birth_date | district_id | age |\n",
       "|---|---|---|---|---|---|---|---|---|---|---|\n",
       "| 5314       |  1787      | B          | 1          |  2166      |  2166      | 所有者     | 女         | 1947-07-22 | 30         | 62         |\n",
       "| 5316       |  1801      | A          | 0          |  2181      |  2181      | 所有者     | 男         | 1968-07-22 | 46         | 41         |\n",
       "| 6863       |  9188      | A          | 0          | 11006      | 11314      | 所有者     | 男         | 1936-06-02 | 45         | 74         |\n",
       "| 5325       |  1843      | A          | 0          |  2235      |  2235      | 所有者     | 女         | 1940-04-20 | 14         | 70         |\n",
       "| 7240       | 11013      | A          | 0          | 13231      | 13539      | 所有者     | 男         | 1978-09-07 | 63         | 31         |\n",
       "| 6687       |  8261      | A          | 0          |  9892      | 10200      | 所有者     | 女         | 1980-02-16 | 13         | 30         |\n",
       "\n"
      ],
      "text/plain": [
       "  loan_id account_id status bad_good disp_id client_id type   sex birth_date\n",
       "1 5314     1787      B      1         2166    2166     所有者 女  1947-07-22\n",
       "2 5316     1801      A      0         2181    2181     所有者 男  1968-07-22\n",
       "3 6863     9188      A      0        11006   11314     所有者 男  1936-06-02\n",
       "4 5325     1843      A      0         2235    2235     所有者 女  1940-04-20\n",
       "5 7240    11013      A      0        13231   13539     所有者 男  1978-09-07\n",
       "6 6687     8261      A      0         9892   10200     所有者 女  1980-02-16\n",
       "  district_id age\n",
       "1 30          62 \n",
       "2 46          41 \n",
       "3 45          74 \n",
       "4 14          70 \n",
       "5 63          31 \n",
       "6 13          30 "
      ]
     },
     "metadata": {},
     "output_type": "display_data"
    }
   ],
   "source": [
    "head(table2)"
   ]
  },
  {
   "cell_type": "code",
   "execution_count": null,
   "metadata": {},
   "outputs": [],
   "source": []
  }
 ],
 "metadata": {
  "kernelspec": {
   "display_name": "R",
   "language": "R",
   "name": "ir"
  },
  "language_info": {
   "codemirror_mode": "r",
   "file_extension": ".r",
   "mimetype": "text/x-r-source",
   "name": "R",
   "pygments_lexer": "r",
   "version": "4.1.0"
  }
 },
 "nbformat": 4,
 "nbformat_minor": 4
}
