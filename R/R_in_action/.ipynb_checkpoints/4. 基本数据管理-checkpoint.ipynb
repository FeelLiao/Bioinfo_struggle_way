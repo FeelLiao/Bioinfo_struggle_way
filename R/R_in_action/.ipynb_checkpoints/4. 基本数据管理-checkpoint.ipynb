{
 "cells": [
  {
   "cell_type": "code",
   "execution_count": 8,
   "id": "federal-calculator",
   "metadata": {},
   "outputs": [],
   "source": [
    "# preparation for data\n",
    "manager <- c(1, 2, 3, 4, 5)\n",
    "date <- c(\"10/24/08\", \"10/28/08\", \"10/1/08\", \"10/12/08\", \"5/1/09\")\n",
    "country <- c(\"US\", \"US\", \"UK\", \"UK\", \"UK\")\n",
    "gender <- c(\"M\", \"F\", \"F\", \"M\", \"F\")\n",
    "age <- c(32, 45, 25, 39, 99)\n",
    "q1 <- c(5, 3, 3, 3, 2)\n",
    "q2 <- c(4, 5, 5, 3, 2)\n",
    "q3 <- c(5, 2, 5, 4, 1)\n",
    "q4 <- c(5, 5, 5, NA, 2)\n",
    "q5 <- c(5, 5, 2, NA, 1)\n",
    "leadership <- data.frame(manager, date, country, gender, age,q1, q2, q3, q4, q5, stringsAsFactors=FALSE)"
   ]
  },
  {
   "cell_type": "code",
   "execution_count": 9,
   "id": "advisory-verse",
   "metadata": {},
   "outputs": [
    {
     "data": {
      "text/html": [
       "<table class=\"dataframe\">\n",
       "<caption>A data.frame: 4 × 4</caption>\n",
       "<thead>\n",
       "\t<tr><th scope=col>x1</th><th scope=col>x2</th><th scope=col>sumx</th><th scope=col>meanx</th></tr>\n",
       "\t<tr><th scope=col>&lt;dbl&gt;</th><th scope=col>&lt;dbl&gt;</th><th scope=col>&lt;dbl&gt;</th><th scope=col>&lt;dbl&gt;</th></tr>\n",
       "</thead>\n",
       "<tbody>\n",
       "\t<tr><td>2</td><td>3</td><td> 5</td><td>2.5</td></tr>\n",
       "\t<tr><td>2</td><td>4</td><td> 6</td><td>3.0</td></tr>\n",
       "\t<tr><td>6</td><td>2</td><td> 8</td><td>4.0</td></tr>\n",
       "\t<tr><td>4</td><td>8</td><td>12</td><td>6.0</td></tr>\n",
       "</tbody>\n",
       "</table>\n"
      ],
      "text/latex": [
       "A data.frame: 4 × 4\n",
       "\\begin{tabular}{llll}\n",
       " x1 & x2 & sumx & meanx\\\\\n",
       " <dbl> & <dbl> & <dbl> & <dbl>\\\\\n",
       "\\hline\n",
       "\t 2 & 3 &  5 & 2.5\\\\\n",
       "\t 2 & 4 &  6 & 3.0\\\\\n",
       "\t 6 & 2 &  8 & 4.0\\\\\n",
       "\t 4 & 8 & 12 & 6.0\\\\\n",
       "\\end{tabular}\n"
      ],
      "text/markdown": [
       "\n",
       "A data.frame: 4 × 4\n",
       "\n",
       "| x1 &lt;dbl&gt; | x2 &lt;dbl&gt; | sumx &lt;dbl&gt; | meanx &lt;dbl&gt; |\n",
       "|---|---|---|---|\n",
       "| 2 | 3 |  5 | 2.5 |\n",
       "| 2 | 4 |  6 | 3.0 |\n",
       "| 6 | 2 |  8 | 4.0 |\n",
       "| 4 | 8 | 12 | 6.0 |\n",
       "\n"
      ],
      "text/plain": [
       "  x1 x2 sumx meanx\n",
       "1 2  3   5   2.5  \n",
       "2 2  4   6   3.0  \n",
       "3 6  2   8   4.0  \n",
       "4 4  8  12   6.0  "
      ]
     },
     "metadata": {},
     "output_type": "display_data"
    }
   ],
   "source": [
    "# creating new variables\n",
    "\n",
    "mydata <- data.frame(x1 = c(2,2,6,4),\n",
    "                    x2 = c(3,4,2,8))\n",
    "\n",
    "mydata <- transform(mydata, sumx = x1+x2, meanx = (x1+x2)/2)\n",
    "mydata"
   ]
  },
  {
   "cell_type": "code",
   "execution_count": 10,
   "id": "martial-collar",
   "metadata": {},
   "outputs": [
    {
     "data": {
      "text/html": [
       "<table class=\"dataframe\">\n",
       "<caption>A data.frame: 5 × 11</caption>\n",
       "<thead>\n",
       "\t<tr><th scope=col>manager</th><th scope=col>date</th><th scope=col>country</th><th scope=col>gender</th><th scope=col>age</th><th scope=col>q1</th><th scope=col>q2</th><th scope=col>q3</th><th scope=col>q4</th><th scope=col>q5</th><th scope=col>agecat</th></tr>\n",
       "\t<tr><th scope=col>&lt;dbl&gt;</th><th scope=col>&lt;chr&gt;</th><th scope=col>&lt;chr&gt;</th><th scope=col>&lt;chr&gt;</th><th scope=col>&lt;dbl&gt;</th><th scope=col>&lt;dbl&gt;</th><th scope=col>&lt;dbl&gt;</th><th scope=col>&lt;dbl&gt;</th><th scope=col>&lt;dbl&gt;</th><th scope=col>&lt;dbl&gt;</th><th scope=col>&lt;chr&gt;</th></tr>\n",
       "</thead>\n",
       "<tbody>\n",
       "\t<tr><td>1</td><td>10/24/08</td><td>US</td><td>M</td><td>32</td><td>5</td><td>4</td><td>5</td><td> 5</td><td> 5</td><td>Young</td></tr>\n",
       "\t<tr><td>2</td><td>10/28/08</td><td>US</td><td>F</td><td>45</td><td>3</td><td>5</td><td>2</td><td> 5</td><td> 5</td><td>Young</td></tr>\n",
       "\t<tr><td>3</td><td>10/1/08 </td><td>UK</td><td>F</td><td>25</td><td>3</td><td>5</td><td>5</td><td> 5</td><td> 2</td><td>Young</td></tr>\n",
       "\t<tr><td>4</td><td>10/12/08</td><td>UK</td><td>M</td><td>39</td><td>3</td><td>3</td><td>4</td><td>NA</td><td>NA</td><td>Young</td></tr>\n",
       "\t<tr><td>5</td><td>5/1/09  </td><td>UK</td><td>F</td><td>NA</td><td>2</td><td>2</td><td>1</td><td> 2</td><td> 1</td><td>NA   </td></tr>\n",
       "</tbody>\n",
       "</table>\n"
      ],
      "text/latex": [
       "A data.frame: 5 × 11\n",
       "\\begin{tabular}{lllllllllll}\n",
       " manager & date & country & gender & age & q1 & q2 & q3 & q4 & q5 & agecat\\\\\n",
       " <dbl> & <chr> & <chr> & <chr> & <dbl> & <dbl> & <dbl> & <dbl> & <dbl> & <dbl> & <chr>\\\\\n",
       "\\hline\n",
       "\t 1 & 10/24/08 & US & M & 32 & 5 & 4 & 5 &  5 &  5 & Young\\\\\n",
       "\t 2 & 10/28/08 & US & F & 45 & 3 & 5 & 2 &  5 &  5 & Young\\\\\n",
       "\t 3 & 10/1/08  & UK & F & 25 & 3 & 5 & 5 &  5 &  2 & Young\\\\\n",
       "\t 4 & 10/12/08 & UK & M & 39 & 3 & 3 & 4 & NA & NA & Young\\\\\n",
       "\t 5 & 5/1/09   & UK & F & NA & 2 & 2 & 1 &  2 &  1 & NA   \\\\\n",
       "\\end{tabular}\n"
      ],
      "text/markdown": [
       "\n",
       "A data.frame: 5 × 11\n",
       "\n",
       "| manager &lt;dbl&gt; | date &lt;chr&gt; | country &lt;chr&gt; | gender &lt;chr&gt; | age &lt;dbl&gt; | q1 &lt;dbl&gt; | q2 &lt;dbl&gt; | q3 &lt;dbl&gt; | q4 &lt;dbl&gt; | q5 &lt;dbl&gt; | agecat &lt;chr&gt; |\n",
       "|---|---|---|---|---|---|---|---|---|---|---|\n",
       "| 1 | 10/24/08 | US | M | 32 | 5 | 4 | 5 |  5 |  5 | Young |\n",
       "| 2 | 10/28/08 | US | F | 45 | 3 | 5 | 2 |  5 |  5 | Young |\n",
       "| 3 | 10/1/08  | UK | F | 25 | 3 | 5 | 5 |  5 |  2 | Young |\n",
       "| 4 | 10/12/08 | UK | M | 39 | 3 | 3 | 4 | NA | NA | Young |\n",
       "| 5 | 5/1/09   | UK | F | NA | 2 | 2 | 1 |  2 |  1 | NA    |\n",
       "\n"
      ],
      "text/plain": [
       "  manager date     country gender age q1 q2 q3 q4 q5 agecat\n",
       "1 1       10/24/08 US      M      32  5  4  5   5  5 Young \n",
       "2 2       10/28/08 US      F      45  3  5  2   5  5 Young \n",
       "3 3       10/1/08  UK      F      25  3  5  5   5  2 Young \n",
       "4 4       10/12/08 UK      M      39  3  3  4  NA NA Young \n",
       "5 5       5/1/09   UK      F      NA  2  2  1   2  1 NA    "
      ]
     },
     "metadata": {},
     "output_type": "display_data"
    }
   ],
   "source": [
    "leadership$age[leadership$age == 99] <- NA\n",
    "\n",
    "leadership <- within(leadership, {agecat <- NA\n",
    "                                  agecat[age > 75] <- \"Elder\"\n",
    "                                 agecat[age >= 55 & age <= 75] <- \"Middle Age\"\n",
    "                                 agecat[age < 55] <- \"Young\"})\n",
    "# within() 代码将一行一行执行\n",
    "leadership"
   ]
  },
  {
   "cell_type": "code",
   "execution_count": 11,
   "id": "altered-smart",
   "metadata": {},
   "outputs": [
    {
     "data": {
      "text/html": [
       "<style>\n",
       ".list-inline {list-style: none; margin:0; padding: 0}\n",
       ".list-inline>li {display: inline-block}\n",
       ".list-inline>li:not(:last-child)::after {content: \"\\00b7\"; padding: 0 .5ex}\n",
       "</style>\n",
       "<ol class=list-inline><li>'manager'</li><li>'date'</li><li>'country'</li><li>'gender'</li><li>'age'</li><li>'q1'</li><li>'q2'</li><li>'q3'</li><li>'q4'</li><li>'q5'</li><li>'agecat'</li></ol>\n"
      ],
      "text/latex": [
       "\\begin{enumerate*}\n",
       "\\item 'manager'\n",
       "\\item 'date'\n",
       "\\item 'country'\n",
       "\\item 'gender'\n",
       "\\item 'age'\n",
       "\\item 'q1'\n",
       "\\item 'q2'\n",
       "\\item 'q3'\n",
       "\\item 'q4'\n",
       "\\item 'q5'\n",
       "\\item 'agecat'\n",
       "\\end{enumerate*}\n"
      ],
      "text/markdown": [
       "1. 'manager'\n",
       "2. 'date'\n",
       "3. 'country'\n",
       "4. 'gender'\n",
       "5. 'age'\n",
       "6. 'q1'\n",
       "7. 'q2'\n",
       "8. 'q3'\n",
       "9. 'q4'\n",
       "10. 'q5'\n",
       "11. 'agecat'\n",
       "\n",
       "\n"
      ],
      "text/plain": [
       " [1] \"manager\" \"date\"    \"country\" \"gender\"  \"age\"     \"q1\"      \"q2\"     \n",
       " [8] \"q3\"      \"q4\"      \"q5\"      \"agecat\" "
      ]
     },
     "metadata": {},
     "output_type": "display_data"
    }
   ],
   "source": [
    "# renaming variables\n",
    "names(leadership)"
   ]
  },
  {
   "cell_type": "code",
   "execution_count": 12,
   "id": "stuffed-subscription",
   "metadata": {},
   "outputs": [
    {
     "data": {
      "text/html": [
       "<table class=\"dataframe\">\n",
       "<caption>A data.frame: 5 × 11</caption>\n",
       "<thead>\n",
       "\t<tr><th scope=col>manager</th><th scope=col>TestDate</th><th scope=col>country</th><th scope=col>gender</th><th scope=col>age</th><th scope=col>q1</th><th scope=col>q2</th><th scope=col>q3</th><th scope=col>q4</th><th scope=col>q5</th><th scope=col>agecat</th></tr>\n",
       "\t<tr><th scope=col>&lt;dbl&gt;</th><th scope=col>&lt;chr&gt;</th><th scope=col>&lt;chr&gt;</th><th scope=col>&lt;chr&gt;</th><th scope=col>&lt;dbl&gt;</th><th scope=col>&lt;dbl&gt;</th><th scope=col>&lt;dbl&gt;</th><th scope=col>&lt;dbl&gt;</th><th scope=col>&lt;dbl&gt;</th><th scope=col>&lt;dbl&gt;</th><th scope=col>&lt;chr&gt;</th></tr>\n",
       "</thead>\n",
       "<tbody>\n",
       "\t<tr><td>1</td><td>10/24/08</td><td>US</td><td>M</td><td>32</td><td>5</td><td>4</td><td>5</td><td> 5</td><td> 5</td><td>Young</td></tr>\n",
       "\t<tr><td>2</td><td>10/28/08</td><td>US</td><td>F</td><td>45</td><td>3</td><td>5</td><td>2</td><td> 5</td><td> 5</td><td>Young</td></tr>\n",
       "\t<tr><td>3</td><td>10/1/08 </td><td>UK</td><td>F</td><td>25</td><td>3</td><td>5</td><td>5</td><td> 5</td><td> 2</td><td>Young</td></tr>\n",
       "\t<tr><td>4</td><td>10/12/08</td><td>UK</td><td>M</td><td>39</td><td>3</td><td>3</td><td>4</td><td>NA</td><td>NA</td><td>Young</td></tr>\n",
       "\t<tr><td>5</td><td>5/1/09  </td><td>UK</td><td>F</td><td>NA</td><td>2</td><td>2</td><td>1</td><td> 2</td><td> 1</td><td>NA   </td></tr>\n",
       "</tbody>\n",
       "</table>\n"
      ],
      "text/latex": [
       "A data.frame: 5 × 11\n",
       "\\begin{tabular}{lllllllllll}\n",
       " manager & TestDate & country & gender & age & q1 & q2 & q3 & q4 & q5 & agecat\\\\\n",
       " <dbl> & <chr> & <chr> & <chr> & <dbl> & <dbl> & <dbl> & <dbl> & <dbl> & <dbl> & <chr>\\\\\n",
       "\\hline\n",
       "\t 1 & 10/24/08 & US & M & 32 & 5 & 4 & 5 &  5 &  5 & Young\\\\\n",
       "\t 2 & 10/28/08 & US & F & 45 & 3 & 5 & 2 &  5 &  5 & Young\\\\\n",
       "\t 3 & 10/1/08  & UK & F & 25 & 3 & 5 & 5 &  5 &  2 & Young\\\\\n",
       "\t 4 & 10/12/08 & UK & M & 39 & 3 & 3 & 4 & NA & NA & Young\\\\\n",
       "\t 5 & 5/1/09   & UK & F & NA & 2 & 2 & 1 &  2 &  1 & NA   \\\\\n",
       "\\end{tabular}\n"
      ],
      "text/markdown": [
       "\n",
       "A data.frame: 5 × 11\n",
       "\n",
       "| manager &lt;dbl&gt; | TestDate &lt;chr&gt; | country &lt;chr&gt; | gender &lt;chr&gt; | age &lt;dbl&gt; | q1 &lt;dbl&gt; | q2 &lt;dbl&gt; | q3 &lt;dbl&gt; | q4 &lt;dbl&gt; | q5 &lt;dbl&gt; | agecat &lt;chr&gt; |\n",
       "|---|---|---|---|---|---|---|---|---|---|---|\n",
       "| 1 | 10/24/08 | US | M | 32 | 5 | 4 | 5 |  5 |  5 | Young |\n",
       "| 2 | 10/28/08 | US | F | 45 | 3 | 5 | 2 |  5 |  5 | Young |\n",
       "| 3 | 10/1/08  | UK | F | 25 | 3 | 5 | 5 |  5 |  2 | Young |\n",
       "| 4 | 10/12/08 | UK | M | 39 | 3 | 3 | 4 | NA | NA | Young |\n",
       "| 5 | 5/1/09   | UK | F | NA | 2 | 2 | 1 |  2 |  1 | NA    |\n",
       "\n"
      ],
      "text/plain": [
       "  manager TestDate country gender age q1 q2 q3 q4 q5 agecat\n",
       "1 1       10/24/08 US      M      32  5  4  5   5  5 Young \n",
       "2 2       10/28/08 US      F      45  3  5  2   5  5 Young \n",
       "3 3       10/1/08  UK      F      25  3  5  5   5  2 Young \n",
       "4 4       10/12/08 UK      M      39  3  3  4  NA NA Young \n",
       "5 5       5/1/09   UK      F      NA  2  2  1   2  1 NA    "
      ]
     },
     "metadata": {},
     "output_type": "display_data"
    }
   ],
   "source": [
    "names(leadership)[2] <- \"TestDate\"\n",
    "leadership"
   ]
  },
  {
   "cell_type": "code",
   "execution_count": 13,
   "id": "agricultural-typing",
   "metadata": {},
   "outputs": [
    {
     "data": {
      "text/html": [
       "<table class=\"dataframe\">\n",
       "<caption>A data.frame: 5 × 11</caption>\n",
       "<thead>\n",
       "\t<tr><th scope=col>managerID</th><th scope=col>testDate</th><th scope=col>country</th><th scope=col>gender</th><th scope=col>age</th><th scope=col>q1</th><th scope=col>q2</th><th scope=col>q3</th><th scope=col>q4</th><th scope=col>q5</th><th scope=col>agecat</th></tr>\n",
       "\t<tr><th scope=col>&lt;dbl&gt;</th><th scope=col>&lt;chr&gt;</th><th scope=col>&lt;chr&gt;</th><th scope=col>&lt;chr&gt;</th><th scope=col>&lt;dbl&gt;</th><th scope=col>&lt;dbl&gt;</th><th scope=col>&lt;dbl&gt;</th><th scope=col>&lt;dbl&gt;</th><th scope=col>&lt;dbl&gt;</th><th scope=col>&lt;dbl&gt;</th><th scope=col>&lt;chr&gt;</th></tr>\n",
       "</thead>\n",
       "<tbody>\n",
       "\t<tr><td>1</td><td>10/24/08</td><td>US</td><td>M</td><td>32</td><td>5</td><td>4</td><td>5</td><td> 5</td><td> 5</td><td>Young</td></tr>\n",
       "\t<tr><td>2</td><td>10/28/08</td><td>US</td><td>F</td><td>45</td><td>3</td><td>5</td><td>2</td><td> 5</td><td> 5</td><td>Young</td></tr>\n",
       "\t<tr><td>3</td><td>10/1/08 </td><td>UK</td><td>F</td><td>25</td><td>3</td><td>5</td><td>5</td><td> 5</td><td> 2</td><td>Young</td></tr>\n",
       "\t<tr><td>4</td><td>10/12/08</td><td>UK</td><td>M</td><td>39</td><td>3</td><td>3</td><td>4</td><td>NA</td><td>NA</td><td>Young</td></tr>\n",
       "\t<tr><td>5</td><td>5/1/09  </td><td>UK</td><td>F</td><td>NA</td><td>2</td><td>2</td><td>1</td><td> 2</td><td> 1</td><td>NA   </td></tr>\n",
       "</tbody>\n",
       "</table>\n"
      ],
      "text/latex": [
       "A data.frame: 5 × 11\n",
       "\\begin{tabular}{lllllllllll}\n",
       " managerID & testDate & country & gender & age & q1 & q2 & q3 & q4 & q5 & agecat\\\\\n",
       " <dbl> & <chr> & <chr> & <chr> & <dbl> & <dbl> & <dbl> & <dbl> & <dbl> & <dbl> & <chr>\\\\\n",
       "\\hline\n",
       "\t 1 & 10/24/08 & US & M & 32 & 5 & 4 & 5 &  5 &  5 & Young\\\\\n",
       "\t 2 & 10/28/08 & US & F & 45 & 3 & 5 & 2 &  5 &  5 & Young\\\\\n",
       "\t 3 & 10/1/08  & UK & F & 25 & 3 & 5 & 5 &  5 &  2 & Young\\\\\n",
       "\t 4 & 10/12/08 & UK & M & 39 & 3 & 3 & 4 & NA & NA & Young\\\\\n",
       "\t 5 & 5/1/09   & UK & F & NA & 2 & 2 & 1 &  2 &  1 & NA   \\\\\n",
       "\\end{tabular}\n"
      ],
      "text/markdown": [
       "\n",
       "A data.frame: 5 × 11\n",
       "\n",
       "| managerID &lt;dbl&gt; | testDate &lt;chr&gt; | country &lt;chr&gt; | gender &lt;chr&gt; | age &lt;dbl&gt; | q1 &lt;dbl&gt; | q2 &lt;dbl&gt; | q3 &lt;dbl&gt; | q4 &lt;dbl&gt; | q5 &lt;dbl&gt; | agecat &lt;chr&gt; |\n",
       "|---|---|---|---|---|---|---|---|---|---|---|\n",
       "| 1 | 10/24/08 | US | M | 32 | 5 | 4 | 5 |  5 |  5 | Young |\n",
       "| 2 | 10/28/08 | US | F | 45 | 3 | 5 | 2 |  5 |  5 | Young |\n",
       "| 3 | 10/1/08  | UK | F | 25 | 3 | 5 | 5 |  5 |  2 | Young |\n",
       "| 4 | 10/12/08 | UK | M | 39 | 3 | 3 | 4 | NA | NA | Young |\n",
       "| 5 | 5/1/09   | UK | F | NA | 2 | 2 | 1 |  2 |  1 | NA    |\n",
       "\n"
      ],
      "text/plain": [
       "  managerID testDate country gender age q1 q2 q3 q4 q5 agecat\n",
       "1 1         10/24/08 US      M      32  5  4  5   5  5 Young \n",
       "2 2         10/28/08 US      F      45  3  5  2   5  5 Young \n",
       "3 3         10/1/08  UK      F      25  3  5  5   5  2 Young \n",
       "4 4         10/12/08 UK      M      39  3  3  4  NA NA Young \n",
       "5 5         5/1/09   UK      F      NA  2  2  1   2  1 NA    "
      ]
     },
     "metadata": {},
     "output_type": "display_data"
    }
   ],
   "source": [
    "library(plyr)\n",
    "leadership <- rename(leadership, replace = c(manager = \"managerID\", TestDate = \"testDate\"))\n",
    "leadership"
   ]
  },
  {
   "cell_type": "code",
   "execution_count": 14,
   "id": "talented-least",
   "metadata": {},
   "outputs": [
    {
     "data": {
      "text/html": [
       "<table class=\"dataframe\">\n",
       "<caption>A matrix: 5 × 5 of type lgl</caption>\n",
       "<thead>\n",
       "\t<tr><th scope=col>q1</th><th scope=col>q2</th><th scope=col>q3</th><th scope=col>q4</th><th scope=col>q5</th></tr>\n",
       "</thead>\n",
       "<tbody>\n",
       "\t<tr><td>FALSE</td><td>FALSE</td><td>FALSE</td><td>FALSE</td><td>FALSE</td></tr>\n",
       "\t<tr><td>FALSE</td><td>FALSE</td><td>FALSE</td><td>FALSE</td><td>FALSE</td></tr>\n",
       "\t<tr><td>FALSE</td><td>FALSE</td><td>FALSE</td><td>FALSE</td><td>FALSE</td></tr>\n",
       "\t<tr><td>FALSE</td><td>FALSE</td><td>FALSE</td><td> TRUE</td><td> TRUE</td></tr>\n",
       "\t<tr><td>FALSE</td><td>FALSE</td><td>FALSE</td><td>FALSE</td><td>FALSE</td></tr>\n",
       "</tbody>\n",
       "</table>\n"
      ],
      "text/latex": [
       "A matrix: 5 × 5 of type lgl\n",
       "\\begin{tabular}{lllll}\n",
       " q1 & q2 & q3 & q4 & q5\\\\\n",
       "\\hline\n",
       "\t FALSE & FALSE & FALSE & FALSE & FALSE\\\\\n",
       "\t FALSE & FALSE & FALSE & FALSE & FALSE\\\\\n",
       "\t FALSE & FALSE & FALSE & FALSE & FALSE\\\\\n",
       "\t FALSE & FALSE & FALSE &  TRUE &  TRUE\\\\\n",
       "\t FALSE & FALSE & FALSE & FALSE & FALSE\\\\\n",
       "\\end{tabular}\n"
      ],
      "text/markdown": [
       "\n",
       "A matrix: 5 × 5 of type lgl\n",
       "\n",
       "| q1 | q2 | q3 | q4 | q5 |\n",
       "|---|---|---|---|---|\n",
       "| FALSE | FALSE | FALSE | FALSE | FALSE |\n",
       "| FALSE | FALSE | FALSE | FALSE | FALSE |\n",
       "| FALSE | FALSE | FALSE | FALSE | FALSE |\n",
       "| FALSE | FALSE | FALSE |  TRUE |  TRUE |\n",
       "| FALSE | FALSE | FALSE | FALSE | FALSE |\n",
       "\n"
      ],
      "text/plain": [
       "     q1    q2    q3    q4    q5   \n",
       "[1,] FALSE FALSE FALSE FALSE FALSE\n",
       "[2,] FALSE FALSE FALSE FALSE FALSE\n",
       "[3,] FALSE FALSE FALSE FALSE FALSE\n",
       "[4,] FALSE FALSE FALSE  TRUE  TRUE\n",
       "[5,] FALSE FALSE FALSE FALSE FALSE"
      ]
     },
     "metadata": {},
     "output_type": "display_data"
    }
   ],
   "source": [
    "# missing values\n",
    "is.na(leadership[,6:10])"
   ]
  },
  {
   "cell_type": "code",
   "execution_count": 15,
   "id": "focal-attraction",
   "metadata": {},
   "outputs": [
    {
     "data": {
      "text/html": [
       "&lt;NA&gt;"
      ],
      "text/latex": [
       "<NA>"
      ],
      "text/markdown": [
       "&lt;NA&gt;"
      ],
      "text/plain": [
       "[1] NA"
      ]
     },
     "metadata": {},
     "output_type": "display_data"
    }
   ],
   "source": [
    "x <- c(1,2,3,NA)\n",
    "z <- sum(x)\n",
    "z"
   ]
  },
  {
   "cell_type": "code",
   "execution_count": 16,
   "id": "moved-soviet",
   "metadata": {},
   "outputs": [
    {
     "data": {
      "text/html": [
       "6"
      ],
      "text/latex": [
       "6"
      ],
      "text/markdown": [
       "6"
      ],
      "text/plain": [
       "[1] 6"
      ]
     },
     "metadata": {},
     "output_type": "display_data"
    }
   ],
   "source": [
    "z <- sum(x, na.rm = TRUE)\n",
    "z"
   ]
  },
  {
   "cell_type": "code",
   "execution_count": 17,
   "id": "assigned-consortium",
   "metadata": {},
   "outputs": [
    {
     "data": {
      "text/html": [
       "<table class=\"dataframe\">\n",
       "<caption>A data.frame: 3 × 11</caption>\n",
       "<thead>\n",
       "\t<tr><th></th><th scope=col>managerID</th><th scope=col>testDate</th><th scope=col>country</th><th scope=col>gender</th><th scope=col>age</th><th scope=col>q1</th><th scope=col>q2</th><th scope=col>q3</th><th scope=col>q4</th><th scope=col>q5</th><th scope=col>agecat</th></tr>\n",
       "\t<tr><th></th><th scope=col>&lt;dbl&gt;</th><th scope=col>&lt;chr&gt;</th><th scope=col>&lt;chr&gt;</th><th scope=col>&lt;chr&gt;</th><th scope=col>&lt;dbl&gt;</th><th scope=col>&lt;dbl&gt;</th><th scope=col>&lt;dbl&gt;</th><th scope=col>&lt;dbl&gt;</th><th scope=col>&lt;dbl&gt;</th><th scope=col>&lt;dbl&gt;</th><th scope=col>&lt;chr&gt;</th></tr>\n",
       "</thead>\n",
       "<tbody>\n",
       "\t<tr><th scope=row>1</th><td>1</td><td>10/24/08</td><td>US</td><td>M</td><td>32</td><td>5</td><td>4</td><td>5</td><td>5</td><td>5</td><td>Young</td></tr>\n",
       "\t<tr><th scope=row>2</th><td>2</td><td>10/28/08</td><td>US</td><td>F</td><td>45</td><td>3</td><td>5</td><td>2</td><td>5</td><td>5</td><td>Young</td></tr>\n",
       "\t<tr><th scope=row>3</th><td>3</td><td>10/1/08 </td><td>UK</td><td>F</td><td>25</td><td>3</td><td>5</td><td>5</td><td>5</td><td>2</td><td>Young</td></tr>\n",
       "</tbody>\n",
       "</table>\n"
      ],
      "text/latex": [
       "A data.frame: 3 × 11\n",
       "\\begin{tabular}{r|lllllllllll}\n",
       "  & managerID & testDate & country & gender & age & q1 & q2 & q3 & q4 & q5 & agecat\\\\\n",
       "  & <dbl> & <chr> & <chr> & <chr> & <dbl> & <dbl> & <dbl> & <dbl> & <dbl> & <dbl> & <chr>\\\\\n",
       "\\hline\n",
       "\t1 & 1 & 10/24/08 & US & M & 32 & 5 & 4 & 5 & 5 & 5 & Young\\\\\n",
       "\t2 & 2 & 10/28/08 & US & F & 45 & 3 & 5 & 2 & 5 & 5 & Young\\\\\n",
       "\t3 & 3 & 10/1/08  & UK & F & 25 & 3 & 5 & 5 & 5 & 2 & Young\\\\\n",
       "\\end{tabular}\n"
      ],
      "text/markdown": [
       "\n",
       "A data.frame: 3 × 11\n",
       "\n",
       "| <!--/--> | managerID &lt;dbl&gt; | testDate &lt;chr&gt; | country &lt;chr&gt; | gender &lt;chr&gt; | age &lt;dbl&gt; | q1 &lt;dbl&gt; | q2 &lt;dbl&gt; | q3 &lt;dbl&gt; | q4 &lt;dbl&gt; | q5 &lt;dbl&gt; | agecat &lt;chr&gt; |\n",
       "|---|---|---|---|---|---|---|---|---|---|---|---|\n",
       "| 1 | 1 | 10/24/08 | US | M | 32 | 5 | 4 | 5 | 5 | 5 | Young |\n",
       "| 2 | 2 | 10/28/08 | US | F | 45 | 3 | 5 | 2 | 5 | 5 | Young |\n",
       "| 3 | 3 | 10/1/08  | UK | F | 25 | 3 | 5 | 5 | 5 | 2 | Young |\n",
       "\n"
      ],
      "text/plain": [
       "  managerID testDate country gender age q1 q2 q3 q4 q5 agecat\n",
       "1 1         10/24/08 US      M      32  5  4  5  5  5  Young \n",
       "2 2         10/28/08 US      F      45  3  5  2  5  5  Young \n",
       "3 3         10/1/08  UK      F      25  3  5  5  5  2  Young "
      ]
     },
     "metadata": {},
     "output_type": "display_data"
    }
   ],
   "source": [
    "newdata <- na.omit(leadership) # 去掉数据中存在缺失值的行\n",
    "newdata"
   ]
  },
  {
   "cell_type": "code",
   "execution_count": 18,
   "id": "blind-lambda",
   "metadata": {},
   "outputs": [
    {
     "data": {
      "text/html": [
       "<table class=\"dataframe\">\n",
       "<caption>A data.frame: 5 × 11</caption>\n",
       "<thead>\n",
       "\t<tr><th scope=col>managerID</th><th scope=col>testDate</th><th scope=col>country</th><th scope=col>gender</th><th scope=col>age</th><th scope=col>q1</th><th scope=col>q2</th><th scope=col>q3</th><th scope=col>q4</th><th scope=col>q5</th><th scope=col>agecat</th></tr>\n",
       "\t<tr><th scope=col>&lt;dbl&gt;</th><th scope=col>&lt;date&gt;</th><th scope=col>&lt;chr&gt;</th><th scope=col>&lt;chr&gt;</th><th scope=col>&lt;dbl&gt;</th><th scope=col>&lt;dbl&gt;</th><th scope=col>&lt;dbl&gt;</th><th scope=col>&lt;dbl&gt;</th><th scope=col>&lt;dbl&gt;</th><th scope=col>&lt;dbl&gt;</th><th scope=col>&lt;chr&gt;</th></tr>\n",
       "</thead>\n",
       "<tbody>\n",
       "\t<tr><td>1</td><td>2008-10-24</td><td>US</td><td>M</td><td>32</td><td>5</td><td>4</td><td>5</td><td> 5</td><td> 5</td><td>Young</td></tr>\n",
       "\t<tr><td>2</td><td>2008-10-28</td><td>US</td><td>F</td><td>45</td><td>3</td><td>5</td><td>2</td><td> 5</td><td> 5</td><td>Young</td></tr>\n",
       "\t<tr><td>3</td><td>2008-10-01</td><td>UK</td><td>F</td><td>25</td><td>3</td><td>5</td><td>5</td><td> 5</td><td> 2</td><td>Young</td></tr>\n",
       "\t<tr><td>4</td><td>2008-10-12</td><td>UK</td><td>M</td><td>39</td><td>3</td><td>3</td><td>4</td><td>NA</td><td>NA</td><td>Young</td></tr>\n",
       "\t<tr><td>5</td><td>2009-05-01</td><td>UK</td><td>F</td><td>NA</td><td>2</td><td>2</td><td>1</td><td> 2</td><td> 1</td><td>NA   </td></tr>\n",
       "</tbody>\n",
       "</table>\n"
      ],
      "text/latex": [
       "A data.frame: 5 × 11\n",
       "\\begin{tabular}{lllllllllll}\n",
       " managerID & testDate & country & gender & age & q1 & q2 & q3 & q4 & q5 & agecat\\\\\n",
       " <dbl> & <date> & <chr> & <chr> & <dbl> & <dbl> & <dbl> & <dbl> & <dbl> & <dbl> & <chr>\\\\\n",
       "\\hline\n",
       "\t 1 & 2008-10-24 & US & M & 32 & 5 & 4 & 5 &  5 &  5 & Young\\\\\n",
       "\t 2 & 2008-10-28 & US & F & 45 & 3 & 5 & 2 &  5 &  5 & Young\\\\\n",
       "\t 3 & 2008-10-01 & UK & F & 25 & 3 & 5 & 5 &  5 &  2 & Young\\\\\n",
       "\t 4 & 2008-10-12 & UK & M & 39 & 3 & 3 & 4 & NA & NA & Young\\\\\n",
       "\t 5 & 2009-05-01 & UK & F & NA & 2 & 2 & 1 &  2 &  1 & NA   \\\\\n",
       "\\end{tabular}\n"
      ],
      "text/markdown": [
       "\n",
       "A data.frame: 5 × 11\n",
       "\n",
       "| managerID &lt;dbl&gt; | testDate &lt;date&gt; | country &lt;chr&gt; | gender &lt;chr&gt; | age &lt;dbl&gt; | q1 &lt;dbl&gt; | q2 &lt;dbl&gt; | q3 &lt;dbl&gt; | q4 &lt;dbl&gt; | q5 &lt;dbl&gt; | agecat &lt;chr&gt; |\n",
       "|---|---|---|---|---|---|---|---|---|---|---|\n",
       "| 1 | 2008-10-24 | US | M | 32 | 5 | 4 | 5 |  5 |  5 | Young |\n",
       "| 2 | 2008-10-28 | US | F | 45 | 3 | 5 | 2 |  5 |  5 | Young |\n",
       "| 3 | 2008-10-01 | UK | F | 25 | 3 | 5 | 5 |  5 |  2 | Young |\n",
       "| 4 | 2008-10-12 | UK | M | 39 | 3 | 3 | 4 | NA | NA | Young |\n",
       "| 5 | 2009-05-01 | UK | F | NA | 2 | 2 | 1 |  2 |  1 | NA    |\n",
       "\n"
      ],
      "text/plain": [
       "  managerID testDate   country gender age q1 q2 q3 q4 q5 agecat\n",
       "1 1         2008-10-24 US      M      32  5  4  5   5  5 Young \n",
       "2 2         2008-10-28 US      F      45  3  5  2   5  5 Young \n",
       "3 3         2008-10-01 UK      F      25  3  5  5   5  2 Young \n",
       "4 4         2008-10-12 UK      M      39  3  3  4  NA NA Young \n",
       "5 5         2009-05-01 UK      F      NA  2  2  1   2  1 NA    "
      ]
     },
     "metadata": {},
     "output_type": "display_data"
    }
   ],
   "source": [
    "# date values\n",
    "myformat <- \"%m/%d/%y\"\n",
    "leadership$testDate <- as.Date(leadership$testDate, myformat)\n",
    "leadership"
   ]
  },
  {
   "cell_type": "code",
   "execution_count": 19,
   "id": "vanilla-trainer",
   "metadata": {},
   "outputs": [
    {
     "data": {
      "text/html": [
       "'2021-03-19'"
      ],
      "text/latex": [
       "'2021-03-19'"
      ],
      "text/markdown": [
       "'2021-03-19'"
      ],
      "text/plain": [
       "[1] \"2021-03-19\""
      ]
     },
     "metadata": {},
     "output_type": "display_data"
    }
   ],
   "source": [
    "today <- Sys.Date()\n",
    "format(today, \"%Y-%m-%d\")\n",
    "# 日期可以做加减运算"
   ]
  },
  {
   "cell_type": "code",
   "execution_count": 20,
   "id": "respected-diana",
   "metadata": {},
   "outputs": [
    {
     "data": {
      "text/html": [
       "<style>\n",
       ".list-inline {list-style: none; margin:0; padding: 0}\n",
       ".list-inline>li {display: inline-block}\n",
       ".list-inline>li:not(:last-child)::after {content: \"\\00b7\"; padding: 0 .5ex}\n",
       "</style>\n",
       "<ol class=list-inline><li>2</li><li>3</li><li>5</li></ol>\n"
      ],
      "text/latex": [
       "\\begin{enumerate*}\n",
       "\\item 2\n",
       "\\item 3\n",
       "\\item 5\n",
       "\\end{enumerate*}\n"
      ],
      "text/markdown": [
       "1. 2\n",
       "2. 3\n",
       "3. 5\n",
       "\n",
       "\n"
      ],
      "text/plain": [
       "[1] 2 3 5"
      ]
     },
     "metadata": {},
     "output_type": "display_data"
    }
   ],
   "source": [
    "a <- c(2,3,5)\n",
    "a "
   ]
  },
  {
   "cell_type": "code",
   "execution_count": 21,
   "id": "extra-webster",
   "metadata": {},
   "outputs": [
    {
     "data": {
      "text/html": [
       "TRUE"
      ],
      "text/latex": [
       "TRUE"
      ],
      "text/markdown": [
       "TRUE"
      ],
      "text/plain": [
       "[1] TRUE"
      ]
     },
     "metadata": {},
     "output_type": "display_data"
    }
   ],
   "source": [
    "is.numeric(a)"
   ]
  },
  {
   "cell_type": "code",
   "execution_count": 22,
   "id": "smoking-phase",
   "metadata": {},
   "outputs": [
    {
     "data": {
      "text/html": [
       "TRUE"
      ],
      "text/latex": [
       "TRUE"
      ],
      "text/markdown": [
       "TRUE"
      ],
      "text/plain": [
       "[1] TRUE"
      ]
     },
     "metadata": {},
     "output_type": "display_data"
    }
   ],
   "source": [
    "is.vector(a)"
   ]
  },
  {
   "cell_type": "code",
   "execution_count": 23,
   "id": "smooth-steal",
   "metadata": {},
   "outputs": [],
   "source": [
    "a <- as.character(a)"
   ]
  },
  {
   "cell_type": "code",
   "execution_count": 24,
   "id": "immune-compensation",
   "metadata": {},
   "outputs": [
    {
     "data": {
      "text/html": [
       "<style>\n",
       ".list-inline {list-style: none; margin:0; padding: 0}\n",
       ".list-inline>li {display: inline-block}\n",
       ".list-inline>li:not(:last-child)::after {content: \"\\00b7\"; padding: 0 .5ex}\n",
       "</style>\n",
       "<ol class=list-inline><li>'2'</li><li>'3'</li><li>'5'</li></ol>\n"
      ],
      "text/latex": [
       "\\begin{enumerate*}\n",
       "\\item '2'\n",
       "\\item '3'\n",
       "\\item '5'\n",
       "\\end{enumerate*}\n"
      ],
      "text/markdown": [
       "1. '2'\n",
       "2. '3'\n",
       "3. '5'\n",
       "\n",
       "\n"
      ],
      "text/plain": [
       "[1] \"2\" \"3\" \"5\""
      ]
     },
     "metadata": {},
     "output_type": "display_data"
    }
   ],
   "source": [
    "a"
   ]
  },
  {
   "cell_type": "code",
   "execution_count": 25,
   "id": "bibliographic-explanation",
   "metadata": {},
   "outputs": [
    {
     "data": {
      "text/html": [
       "TRUE"
      ],
      "text/latex": [
       "TRUE"
      ],
      "text/markdown": [
       "TRUE"
      ],
      "text/plain": [
       "[1] TRUE"
      ]
     },
     "metadata": {},
     "output_type": "display_data"
    }
   ],
   "source": [
    "is.character(a)"
   ]
  },
  {
   "cell_type": "code",
   "execution_count": 28,
   "id": "french-substance",
   "metadata": {},
   "outputs": [
    {
     "data": {
      "text/html": [
       "<table class=\"dataframe\">\n",
       "<caption>A data.frame: 5 × 11</caption>\n",
       "<thead>\n",
       "\t<tr><th></th><th scope=col>managerID</th><th scope=col>testDate</th><th scope=col>country</th><th scope=col>gender</th><th scope=col>age</th><th scope=col>q1</th><th scope=col>q2</th><th scope=col>q3</th><th scope=col>q4</th><th scope=col>q5</th><th scope=col>agecat</th></tr>\n",
       "\t<tr><th></th><th scope=col>&lt;dbl&gt;</th><th scope=col>&lt;date&gt;</th><th scope=col>&lt;chr&gt;</th><th scope=col>&lt;chr&gt;</th><th scope=col>&lt;dbl&gt;</th><th scope=col>&lt;dbl&gt;</th><th scope=col>&lt;dbl&gt;</th><th scope=col>&lt;dbl&gt;</th><th scope=col>&lt;dbl&gt;</th><th scope=col>&lt;dbl&gt;</th><th scope=col>&lt;chr&gt;</th></tr>\n",
       "</thead>\n",
       "<tbody>\n",
       "\t<tr><th scope=row>3</th><td>3</td><td>2008-10-01</td><td>UK</td><td>F</td><td>25</td><td>3</td><td>5</td><td>5</td><td> 5</td><td> 2</td><td>Young</td></tr>\n",
       "\t<tr><th scope=row>1</th><td>1</td><td>2008-10-24</td><td>US</td><td>M</td><td>32</td><td>5</td><td>4</td><td>5</td><td> 5</td><td> 5</td><td>Young</td></tr>\n",
       "\t<tr><th scope=row>4</th><td>4</td><td>2008-10-12</td><td>UK</td><td>M</td><td>39</td><td>3</td><td>3</td><td>4</td><td>NA</td><td>NA</td><td>Young</td></tr>\n",
       "\t<tr><th scope=row>2</th><td>2</td><td>2008-10-28</td><td>US</td><td>F</td><td>45</td><td>3</td><td>5</td><td>2</td><td> 5</td><td> 5</td><td>Young</td></tr>\n",
       "\t<tr><th scope=row>5</th><td>5</td><td>2009-05-01</td><td>UK</td><td>F</td><td>NA</td><td>2</td><td>2</td><td>1</td><td> 2</td><td> 1</td><td>NA   </td></tr>\n",
       "</tbody>\n",
       "</table>\n"
      ],
      "text/latex": [
       "A data.frame: 5 × 11\n",
       "\\begin{tabular}{r|lllllllllll}\n",
       "  & managerID & testDate & country & gender & age & q1 & q2 & q3 & q4 & q5 & agecat\\\\\n",
       "  & <dbl> & <date> & <chr> & <chr> & <dbl> & <dbl> & <dbl> & <dbl> & <dbl> & <dbl> & <chr>\\\\\n",
       "\\hline\n",
       "\t3 & 3 & 2008-10-01 & UK & F & 25 & 3 & 5 & 5 &  5 &  2 & Young\\\\\n",
       "\t1 & 1 & 2008-10-24 & US & M & 32 & 5 & 4 & 5 &  5 &  5 & Young\\\\\n",
       "\t4 & 4 & 2008-10-12 & UK & M & 39 & 3 & 3 & 4 & NA & NA & Young\\\\\n",
       "\t2 & 2 & 2008-10-28 & US & F & 45 & 3 & 5 & 2 &  5 &  5 & Young\\\\\n",
       "\t5 & 5 & 2009-05-01 & UK & F & NA & 2 & 2 & 1 &  2 &  1 & NA   \\\\\n",
       "\\end{tabular}\n"
      ],
      "text/markdown": [
       "\n",
       "A data.frame: 5 × 11\n",
       "\n",
       "| <!--/--> | managerID &lt;dbl&gt; | testDate &lt;date&gt; | country &lt;chr&gt; | gender &lt;chr&gt; | age &lt;dbl&gt; | q1 &lt;dbl&gt; | q2 &lt;dbl&gt; | q3 &lt;dbl&gt; | q4 &lt;dbl&gt; | q5 &lt;dbl&gt; | agecat &lt;chr&gt; |\n",
       "|---|---|---|---|---|---|---|---|---|---|---|---|\n",
       "| 3 | 3 | 2008-10-01 | UK | F | 25 | 3 | 5 | 5 |  5 |  2 | Young |\n",
       "| 1 | 1 | 2008-10-24 | US | M | 32 | 5 | 4 | 5 |  5 |  5 | Young |\n",
       "| 4 | 4 | 2008-10-12 | UK | M | 39 | 3 | 3 | 4 | NA | NA | Young |\n",
       "| 2 | 2 | 2008-10-28 | US | F | 45 | 3 | 5 | 2 |  5 |  5 | Young |\n",
       "| 5 | 5 | 2009-05-01 | UK | F | NA | 2 | 2 | 1 |  2 |  1 | NA    |\n",
       "\n"
      ],
      "text/plain": [
       "  managerID testDate   country gender age q1 q2 q3 q4 q5 agecat\n",
       "3 3         2008-10-01 UK      F      25  3  5  5   5  2 Young \n",
       "1 1         2008-10-24 US      M      32  5  4  5   5  5 Young \n",
       "4 4         2008-10-12 UK      M      39  3  3  4  NA NA Young \n",
       "2 2         2008-10-28 US      F      45  3  5  2   5  5 Young \n",
       "5 5         2009-05-01 UK      F      NA  2  2  1   2  1 NA    "
      ]
     },
     "metadata": {},
     "output_type": "display_data"
    }
   ],
   "source": [
    "# sorting data\n",
    "newdata <- leadership[order(leadership$age),]\n",
    "newdata"
   ]
  },
  {
   "cell_type": "code",
   "execution_count": 30,
   "id": "charming-illinois",
   "metadata": {},
   "outputs": [
    {
     "data": {
      "text/html": [
       "<table class=\"dataframe\">\n",
       "<caption>A data.frame: 3 × 4</caption>\n",
       "<thead>\n",
       "\t<tr><th></th><th scope=col>q1</th><th scope=col>q2</th><th scope=col>q3</th><th scope=col>q4</th></tr>\n",
       "\t<tr><th></th><th scope=col>&lt;dbl&gt;</th><th scope=col>&lt;dbl&gt;</th><th scope=col>&lt;dbl&gt;</th><th scope=col>&lt;dbl&gt;</th></tr>\n",
       "</thead>\n",
       "<tbody>\n",
       "\t<tr><th scope=row>2</th><td>3</td><td>5</td><td>2</td><td> 5</td></tr>\n",
       "\t<tr><th scope=row>3</th><td>3</td><td>5</td><td>5</td><td> 5</td></tr>\n",
       "\t<tr><th scope=row>4</th><td>3</td><td>3</td><td>4</td><td>NA</td></tr>\n",
       "</tbody>\n",
       "</table>\n"
      ],
      "text/latex": [
       "A data.frame: 3 × 4\n",
       "\\begin{tabular}{r|llll}\n",
       "  & q1 & q2 & q3 & q4\\\\\n",
       "  & <dbl> & <dbl> & <dbl> & <dbl>\\\\\n",
       "\\hline\n",
       "\t2 & 3 & 5 & 2 &  5\\\\\n",
       "\t3 & 3 & 5 & 5 &  5\\\\\n",
       "\t4 & 3 & 3 & 4 & NA\\\\\n",
       "\\end{tabular}\n"
      ],
      "text/markdown": [
       "\n",
       "A data.frame: 3 × 4\n",
       "\n",
       "| <!--/--> | q1 &lt;dbl&gt; | q2 &lt;dbl&gt; | q3 &lt;dbl&gt; | q4 &lt;dbl&gt; |\n",
       "|---|---|---|---|---|\n",
       "| 2 | 3 | 5 | 2 |  5 |\n",
       "| 3 | 3 | 5 | 5 |  5 |\n",
       "| 4 | 3 | 3 | 4 | NA |\n",
       "\n"
      ],
      "text/plain": [
       "  q1 q2 q3 q4\n",
       "2 3  5  2   5\n",
       "3 3  5  5   5\n",
       "4 3  3  4  NA"
      ]
     },
     "metadata": {},
     "output_type": "display_data"
    }
   ],
   "source": [
    "newdata <- subset(leadership, age >=35 | age <26 , select = c(q1,q2,q3,q4))\n",
    "newdata"
   ]
  },
  {
   "cell_type": "code",
   "execution_count": 32,
   "id": "cooked-candle",
   "metadata": {},
   "outputs": [
    {
     "data": {
      "text/html": [
       "<table class=\"dataframe\">\n",
       "<caption>A data.frame: 3 × 6</caption>\n",
       "<thead>\n",
       "\t<tr><th></th><th scope=col>gender</th><th scope=col>age</th><th scope=col>q1</th><th scope=col>q2</th><th scope=col>q3</th><th scope=col>q4</th></tr>\n",
       "\t<tr><th></th><th scope=col>&lt;chr&gt;</th><th scope=col>&lt;dbl&gt;</th><th scope=col>&lt;dbl&gt;</th><th scope=col>&lt;dbl&gt;</th><th scope=col>&lt;dbl&gt;</th><th scope=col>&lt;dbl&gt;</th></tr>\n",
       "</thead>\n",
       "<tbody>\n",
       "\t<tr><th scope=row>2</th><td>F</td><td>45</td><td>3</td><td>5</td><td>2</td><td> 5</td></tr>\n",
       "\t<tr><th scope=row>3</th><td>F</td><td>25</td><td>3</td><td>5</td><td>5</td><td> 5</td></tr>\n",
       "\t<tr><th scope=row>4</th><td>M</td><td>39</td><td>3</td><td>3</td><td>4</td><td>NA</td></tr>\n",
       "</tbody>\n",
       "</table>\n"
      ],
      "text/latex": [
       "A data.frame: 3 × 6\n",
       "\\begin{tabular}{r|llllll}\n",
       "  & gender & age & q1 & q2 & q3 & q4\\\\\n",
       "  & <chr> & <dbl> & <dbl> & <dbl> & <dbl> & <dbl>\\\\\n",
       "\\hline\n",
       "\t2 & F & 45 & 3 & 5 & 2 &  5\\\\\n",
       "\t3 & F & 25 & 3 & 5 & 5 &  5\\\\\n",
       "\t4 & M & 39 & 3 & 3 & 4 & NA\\\\\n",
       "\\end{tabular}\n"
      ],
      "text/markdown": [
       "\n",
       "A data.frame: 3 × 6\n",
       "\n",
       "| <!--/--> | gender &lt;chr&gt; | age &lt;dbl&gt; | q1 &lt;dbl&gt; | q2 &lt;dbl&gt; | q3 &lt;dbl&gt; | q4 &lt;dbl&gt; |\n",
       "|---|---|---|---|---|---|---|\n",
       "| 2 | F | 45 | 3 | 5 | 2 |  5 |\n",
       "| 3 | F | 25 | 3 | 5 | 5 |  5 |\n",
       "| 4 | M | 39 | 3 | 3 | 4 | NA |\n",
       "\n"
      ],
      "text/plain": [
       "  gender age q1 q2 q3 q4\n",
       "2 F      45  3  5  2   5\n",
       "3 F      25  3  5  5   5\n",
       "4 M      39  3  3  4  NA"
      ]
     },
     "metadata": {},
     "output_type": "display_data"
    }
   ],
   "source": [
    "newdata <- subset(leadership, age >=35 | age <26 , select = gender:q4)\n",
    "newdata"
   ]
  },
  {
   "cell_type": "code",
   "execution_count": null,
   "id": "killing-right",
   "metadata": {},
   "outputs": [],
   "source": []
  }
 ],
 "metadata": {
  "kernelspec": {
   "display_name": "R",
   "language": "R",
   "name": "ir"
  },
  "language_info": {
   "codemirror_mode": "r",
   "file_extension": ".r",
   "mimetype": "text/x-r-source",
   "name": "R",
   "pygments_lexer": "r",
   "version": "4.1.0"
  }
 },
 "nbformat": 4,
 "nbformat_minor": 5
}
