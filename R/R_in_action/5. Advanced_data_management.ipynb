{
 "cells": [
  {
   "cell_type": "code",
   "execution_count": 1,
   "id": "alternate-allowance",
   "metadata": {},
   "outputs": [
    {
     "data": {
      "text/html": [
       "4.71428571428571"
      ],
      "text/latex": [
       "4.71428571428571"
      ],
      "text/markdown": [
       "4.71428571428571"
      ],
      "text/plain": [
       "[1] 4.714286"
      ]
     },
     "metadata": {},
     "output_type": "display_data"
    }
   ],
   "source": [
    "x <- c(1,2,4,5,6,7,8)\n",
    "mean(x)"
   ]
  },
  {
   "cell_type": "code",
   "execution_count": 2,
   "id": "focal-advertiser",
   "metadata": {},
   "outputs": [
    {
     "data": {
      "text/html": [
       "2.56347977784662"
      ],
      "text/latex": [
       "2.56347977784662"
      ],
      "text/markdown": [
       "2.56347977784662"
      ],
      "text/plain": [
       "[1] 2.56348"
      ]
     },
     "metadata": {},
     "output_type": "display_data"
    }
   ],
   "source": [
    "sd(x)"
   ]
  },
  {
   "cell_type": "code",
   "execution_count": 3,
   "id": "generic-builder",
   "metadata": {},
   "outputs": [
    {
     "data": {
      "text/html": [
       "<style>\n",
       ".list-inline {list-style: none; margin:0; padding: 0}\n",
       ".list-inline>li {display: inline-block}\n",
       ".list-inline>li:not(:last-child)::after {content: \"\\00b7\"; padding: 0 .5ex}\n",
       "</style>\n",
       "<ol class=list-inline><li>0.248699451098219</li><li>0.101853541098535</li><li>0.342940722825006</li><li>0.738113701110706</li><li>0.0412135680671781</li></ol>\n"
      ],
      "text/latex": [
       "\\begin{enumerate*}\n",
       "\\item 0.248699451098219\n",
       "\\item 0.101853541098535\n",
       "\\item 0.342940722825006\n",
       "\\item 0.738113701110706\n",
       "\\item 0.0412135680671781\n",
       "\\end{enumerate*}\n"
      ],
      "text/markdown": [
       "1. 0.248699451098219\n",
       "2. 0.101853541098535\n",
       "3. 0.342940722825006\n",
       "4. 0.738113701110706\n",
       "5. 0.0412135680671781\n",
       "\n",
       "\n"
      ],
      "text/plain": [
       "[1] 0.24869945 0.10185354 0.34294072 0.73811370 0.04121357"
      ]
     },
     "metadata": {},
     "output_type": "display_data"
    }
   ],
   "source": [
    "# setting the seed for random number generation\n",
    "runif(5) # generate pseudo-random numbers from a uniform distribution on the interval 0 to 1"
   ]
  },
  {
   "cell_type": "code",
   "execution_count": 4,
   "id": "junior-orleans",
   "metadata": {},
   "outputs": [
    {
     "data": {
      "text/html": [
       "<style>\n",
       ".list-inline {list-style: none; margin:0; padding: 0}\n",
       ".list-inline>li {display: inline-block}\n",
       ".list-inline>li:not(:last-child)::after {content: \"\\00b7\"; padding: 0 .5ex}\n",
       "</style>\n",
       "<ol class=list-inline><li>0.348874527029693</li><li>0.137963810702786</li><li>0.874715705635026</li><li>0.769237946020439</li><li>0.781868559774011</li></ol>\n"
      ],
      "text/latex": [
       "\\begin{enumerate*}\n",
       "\\item 0.348874527029693\n",
       "\\item 0.137963810702786\n",
       "\\item 0.874715705635026\n",
       "\\item 0.769237946020439\n",
       "\\item 0.781868559774011\n",
       "\\end{enumerate*}\n"
      ],
      "text/markdown": [
       "1. 0.348874527029693\n",
       "2. 0.137963810702786\n",
       "3. 0.874715705635026\n",
       "4. 0.769237946020439\n",
       "5. 0.781868559774011\n",
       "\n",
       "\n"
      ],
      "text/plain": [
       "[1] 0.3488745 0.1379638 0.8747157 0.7692379 0.7818686"
      ]
     },
     "metadata": {},
     "output_type": "display_data"
    }
   ],
   "source": [
    "runif(5)"
   ]
  },
  {
   "cell_type": "code",
   "execution_count": 5,
   "id": "complimentary-spice",
   "metadata": {},
   "outputs": [
    {
     "data": {
      "text/html": [
       "<style>\n",
       ".list-inline {list-style: none; margin:0; padding: 0}\n",
       ".list-inline>li {display: inline-block}\n",
       ".list-inline>li:not(:last-child)::after {content: \"\\00b7\"; padding: 0 .5ex}\n",
       "</style>\n",
       "<ol class=list-inline><li>0.113703411305323</li><li>0.622299404814839</li><li>0.609274732880294</li><li>0.623379441676661</li><li>0.860915383556858</li></ol>\n"
      ],
      "text/latex": [
       "\\begin{enumerate*}\n",
       "\\item 0.113703411305323\n",
       "\\item 0.622299404814839\n",
       "\\item 0.609274732880294\n",
       "\\item 0.623379441676661\n",
       "\\item 0.860915383556858\n",
       "\\end{enumerate*}\n"
      ],
      "text/markdown": [
       "1. 0.113703411305323\n",
       "2. 0.622299404814839\n",
       "3. 0.609274732880294\n",
       "4. 0.623379441676661\n",
       "5. 0.860915383556858\n",
       "\n",
       "\n"
      ],
      "text/plain": [
       "[1] 0.1137034 0.6222994 0.6092747 0.6233794 0.8609154"
      ]
     },
     "metadata": {},
     "output_type": "display_data"
    }
   ],
   "source": [
    "set.seed(1234)\n",
    "runif(5)"
   ]
  },
  {
   "cell_type": "code",
   "execution_count": 6,
   "id": "steady-indie",
   "metadata": {},
   "outputs": [
    {
     "data": {
      "text/html": [
       "<style>\n",
       ".list-inline {list-style: none; margin:0; padding: 0}\n",
       ".list-inline>li {display: inline-block}\n",
       ".list-inline>li:not(:last-child)::after {content: \"\\00b7\"; padding: 0 .5ex}\n",
       "</style>\n",
       "<ol class=list-inline><li>0.113703411305323</li><li>0.622299404814839</li><li>0.609274732880294</li><li>0.623379441676661</li><li>0.860915383556858</li></ol>\n"
      ],
      "text/latex": [
       "\\begin{enumerate*}\n",
       "\\item 0.113703411305323\n",
       "\\item 0.622299404814839\n",
       "\\item 0.609274732880294\n",
       "\\item 0.623379441676661\n",
       "\\item 0.860915383556858\n",
       "\\end{enumerate*}\n"
      ],
      "text/markdown": [
       "1. 0.113703411305323\n",
       "2. 0.622299404814839\n",
       "3. 0.609274732880294\n",
       "4. 0.623379441676661\n",
       "5. 0.860915383556858\n",
       "\n",
       "\n"
      ],
      "text/plain": [
       "[1] 0.1137034 0.6222994 0.6092747 0.6233794 0.8609154"
      ]
     },
     "metadata": {},
     "output_type": "display_data"
    }
   ],
   "source": [
    "set.seed(1234)\n",
    "runif(5)"
   ]
  },
  {
   "cell_type": "code",
   "execution_count": 7,
   "id": "small-shirt",
   "metadata": {},
   "outputs": [],
   "source": [
    "# generating data from a multivariate normal distribution\n",
    "library(MASS)\n",
    "options(digits = 3)\n",
    "set.seed(1234)\n",
    "\n",
    "mean <- c(230.7, 146.7, 3.6)\n",
    "sigma <- matrix(c(15360.8, 6721.2, -47.1,6721.2,4700.9,-16.5,-47.1,-16.5,0.3), nrow = 3, ncol = 3)\n",
    "mydata <- mvrnorm(500,mean,sigma)\n",
    "mydata <- as.data.frame(mydata)\n",
    "names(mydata) <- c(\"y\", \"x1\", \"x2\")"
   ]
  },
  {
   "cell_type": "code",
   "execution_count": 8,
   "id": "exotic-thickness",
   "metadata": {},
   "outputs": [
    {
     "data": {
      "text/html": [
       "<style>\n",
       ".list-inline {list-style: none; margin:0; padding: 0}\n",
       ".list-inline>li {display: inline-block}\n",
       ".list-inline>li:not(:last-child)::after {content: \"\\00b7\"; padding: 0 .5ex}\n",
       "</style>\n",
       "<ol class=list-inline><li>500</li><li>3</li></ol>\n"
      ],
      "text/latex": [
       "\\begin{enumerate*}\n",
       "\\item 500\n",
       "\\item 3\n",
       "\\end{enumerate*}\n"
      ],
      "text/markdown": [
       "1. 500\n",
       "2. 3\n",
       "\n",
       "\n"
      ],
      "text/plain": [
       "[1] 500   3"
      ]
     },
     "metadata": {},
     "output_type": "display_data"
    }
   ],
   "source": [
    "dim(mydata)"
   ]
  },
  {
   "cell_type": "code",
   "execution_count": 9,
   "id": "satisfied-style",
   "metadata": {},
   "outputs": [
    {
     "data": {
      "text/html": [
       "<table class=\"dataframe\">\n",
       "<caption>A data.frame: 10 × 3</caption>\n",
       "<thead>\n",
       "\t<tr><th></th><th scope=col>y</th><th scope=col>x1</th><th scope=col>x2</th></tr>\n",
       "\t<tr><th></th><th scope=col>&lt;dbl&gt;</th><th scope=col>&lt;dbl&gt;</th><th scope=col>&lt;dbl&gt;</th></tr>\n",
       "</thead>\n",
       "<tbody>\n",
       "\t<tr><th scope=row>1</th><td> 98.8</td><td> 41.3</td><td>3.43</td></tr>\n",
       "\t<tr><th scope=row>2</th><td>244.5</td><td>205.2</td><td>3.80</td></tr>\n",
       "\t<tr><th scope=row>3</th><td>375.7</td><td>186.7</td><td>2.51</td></tr>\n",
       "\t<tr><th scope=row>4</th><td>-59.2</td><td> 11.2</td><td>4.71</td></tr>\n",
       "\t<tr><th scope=row>5</th><td>313.0</td><td>111.0</td><td>3.45</td></tr>\n",
       "\t<tr><th scope=row>6</th><td>288.8</td><td>185.1</td><td>2.72</td></tr>\n",
       "\t<tr><th scope=row>7</th><td>134.8</td><td>165.0</td><td>4.39</td></tr>\n",
       "\t<tr><th scope=row>8</th><td>171.7</td><td> 97.4</td><td>3.64</td></tr>\n",
       "\t<tr><th scope=row>9</th><td>167.2</td><td>101.0</td><td>3.50</td></tr>\n",
       "\t<tr><th scope=row>10</th><td>121.1</td><td> 94.5</td><td>4.10</td></tr>\n",
       "</tbody>\n",
       "</table>\n"
      ],
      "text/latex": [
       "A data.frame: 10 × 3\n",
       "\\begin{tabular}{r|lll}\n",
       "  & y & x1 & x2\\\\\n",
       "  & <dbl> & <dbl> & <dbl>\\\\\n",
       "\\hline\n",
       "\t1 &  98.8 &  41.3 & 3.43\\\\\n",
       "\t2 & 244.5 & 205.2 & 3.80\\\\\n",
       "\t3 & 375.7 & 186.7 & 2.51\\\\\n",
       "\t4 & -59.2 &  11.2 & 4.71\\\\\n",
       "\t5 & 313.0 & 111.0 & 3.45\\\\\n",
       "\t6 & 288.8 & 185.1 & 2.72\\\\\n",
       "\t7 & 134.8 & 165.0 & 4.39\\\\\n",
       "\t8 & 171.7 &  97.4 & 3.64\\\\\n",
       "\t9 & 167.2 & 101.0 & 3.50\\\\\n",
       "\t10 & 121.1 &  94.5 & 4.10\\\\\n",
       "\\end{tabular}\n"
      ],
      "text/markdown": [
       "\n",
       "A data.frame: 10 × 3\n",
       "\n",
       "| <!--/--> | y &lt;dbl&gt; | x1 &lt;dbl&gt; | x2 &lt;dbl&gt; |\n",
       "|---|---|---|---|\n",
       "| 1 |  98.8 |  41.3 | 3.43 |\n",
       "| 2 | 244.5 | 205.2 | 3.80 |\n",
       "| 3 | 375.7 | 186.7 | 2.51 |\n",
       "| 4 | -59.2 |  11.2 | 4.71 |\n",
       "| 5 | 313.0 | 111.0 | 3.45 |\n",
       "| 6 | 288.8 | 185.1 | 2.72 |\n",
       "| 7 | 134.8 | 165.0 | 4.39 |\n",
       "| 8 | 171.7 |  97.4 | 3.64 |\n",
       "| 9 | 167.2 | 101.0 | 3.50 |\n",
       "| 10 | 121.1 |  94.5 | 4.10 |\n",
       "\n"
      ],
      "text/plain": [
       "   y     x1    x2  \n",
       "1   98.8  41.3 3.43\n",
       "2  244.5 205.2 3.80\n",
       "3  375.7 186.7 2.51\n",
       "4  -59.2  11.2 4.71\n",
       "5  313.0 111.0 3.45\n",
       "6  288.8 185.1 2.72\n",
       "7  134.8 165.0 4.39\n",
       "8  171.7  97.4 3.64\n",
       "9  167.2 101.0 3.50\n",
       "10 121.1  94.5 4.10"
      ]
     },
     "metadata": {},
     "output_type": "display_data"
    }
   ],
   "source": [
    "head(mydata, n = 10)"
   ]
  },
  {
   "cell_type": "code",
   "execution_count": 10,
   "id": "hispanic-bracket",
   "metadata": {},
   "outputs": [
    {
     "data": {
      "text/html": [
       "<table class=\"dataframe\">\n",
       "<caption>A matrix: 6 × 5 of type dbl</caption>\n",
       "<tbody>\n",
       "\t<tr><td> 1.794</td><td> 0.459</td><td> 1.203</td><td> 1.234</td><td> 0.591</td></tr>\n",
       "\t<tr><td>-1.365</td><td>-1.261</td><td> 0.769</td><td>-1.891</td><td>-0.435</td></tr>\n",
       "\t<tr><td>-0.707</td><td>-0.527</td><td> 0.238</td><td>-0.223</td><td>-0.251</td></tr>\n",
       "\t<tr><td>-0.556</td><td>-0.557</td><td>-1.415</td><td> 0.768</td><td>-0.926</td></tr>\n",
       "\t<tr><td>-0.310</td><td>-0.374</td><td> 2.934</td><td> 0.388</td><td> 1.087</td></tr>\n",
       "\t<tr><td>-0.376</td><td>-0.604</td><td> 0.935</td><td> 0.609</td><td>-1.944</td></tr>\n",
       "</tbody>\n",
       "</table>\n"
      ],
      "text/latex": [
       "A matrix: 6 × 5 of type dbl\n",
       "\\begin{tabular}{lllll}\n",
       "\t  1.794 &  0.459 &  1.203 &  1.234 &  0.591\\\\\n",
       "\t -1.365 & -1.261 &  0.769 & -1.891 & -0.435\\\\\n",
       "\t -0.707 & -0.527 &  0.238 & -0.223 & -0.251\\\\\n",
       "\t -0.556 & -0.557 & -1.415 &  0.768 & -0.926\\\\\n",
       "\t -0.310 & -0.374 &  2.934 &  0.388 &  1.087\\\\\n",
       "\t -0.376 & -0.604 &  0.935 &  0.609 & -1.944\\\\\n",
       "\\end{tabular}\n"
      ],
      "text/markdown": [
       "\n",
       "A matrix: 6 × 5 of type dbl\n",
       "\n",
       "|  1.794 |  0.459 |  1.203 |  1.234 |  0.591 |\n",
       "| -1.365 | -1.261 |  0.769 | -1.891 | -0.435 |\n",
       "| -0.707 | -0.527 |  0.238 | -0.223 | -0.251 |\n",
       "| -0.556 | -0.557 | -1.415 |  0.768 | -0.926 |\n",
       "| -0.310 | -0.374 |  2.934 |  0.388 |  1.087 |\n",
       "| -0.376 | -0.604 |  0.935 |  0.609 | -1.944 |\n",
       "\n"
      ],
      "text/plain": [
       "     [,1]   [,2]   [,3]   [,4]   [,5]  \n",
       "[1,]  1.794  0.459  1.203  1.234  0.591\n",
       "[2,] -1.365 -1.261  0.769 -1.891 -0.435\n",
       "[3,] -0.707 -0.527  0.238 -0.223 -0.251\n",
       "[4,] -0.556 -0.557 -1.415  0.768 -0.926\n",
       "[5,] -0.310 -0.374  2.934  0.388  1.087\n",
       "[6,] -0.376 -0.604  0.935  0.609 -1.944"
      ]
     },
     "metadata": {},
     "output_type": "display_data"
    }
   ],
   "source": [
    "# Applying a function to the rows(columns) of a matrix\n",
    "mydata <- matrix(rnorm(30), nrow = 6)\n",
    "mydata"
   ]
  },
  {
   "cell_type": "code",
   "execution_count": 11,
   "id": "potential-tournament",
   "metadata": {},
   "outputs": [
    {
     "data": {
      "text/html": [
       "<style>\n",
       ".list-inline {list-style: none; margin:0; padding: 0}\n",
       ".list-inline>li {display: inline-block}\n",
       ".list-inline>li:not(:last-child)::after {content: \"\\00b7\"; padding: 0 .5ex}\n",
       "</style>\n",
       "<ol class=list-inline><li>1.05602614752192</li><li>-0.836670058201122</li><li>-0.293995063316289</li><li>-0.537253712887423</li><li>0.744928805630713</li><li>-0.276075948739391</li></ol>\n"
      ],
      "text/latex": [
       "\\begin{enumerate*}\n",
       "\\item 1.05602614752192\n",
       "\\item -0.836670058201122\n",
       "\\item -0.293995063316289\n",
       "\\item -0.537253712887423\n",
       "\\item 0.744928805630713\n",
       "\\item -0.276075948739391\n",
       "\\end{enumerate*}\n"
      ],
      "text/markdown": [
       "1. 1.05602614752192\n",
       "2. -0.836670058201122\n",
       "3. -0.293995063316289\n",
       "4. -0.537253712887423\n",
       "5. 0.744928805630713\n",
       "6. -0.276075948739391\n",
       "\n",
       "\n"
      ],
      "text/plain": [
       "[1]  1.056 -0.837 -0.294 -0.537  0.745 -0.276"
      ]
     },
     "metadata": {},
     "output_type": "display_data"
    }
   ],
   "source": [
    "apply(mydata,1,mean) # calculates the row means"
   ]
  },
  {
   "cell_type": "code",
   "execution_count": 12,
   "id": "attempted-maple",
   "metadata": {},
   "outputs": [
    {
     "data": {
      "text/html": [
       "<style>\n",
       ".list-inline {list-style: none; margin:0; padding: 0}\n",
       ".list-inline>li {display: inline-block}\n",
       ".list-inline>li:not(:last-child)::after {content: \"\\00b7\"; padding: 0 .5ex}\n",
       "</style>\n",
       "<ol class=list-inline><li>-0.253409855269469</li><li>-0.477623538867673</li><li>0.777353888292525</li><li>0.147510454165328</li><li>-0.313030806647038</li></ol>\n"
      ],
      "text/latex": [
       "\\begin{enumerate*}\n",
       "\\item -0.253409855269469\n",
       "\\item -0.477623538867673\n",
       "\\item 0.777353888292525\n",
       "\\item 0.147510454165328\n",
       "\\item -0.313030806647038\n",
       "\\end{enumerate*}\n"
      ],
      "text/markdown": [
       "1. -0.253409855269469\n",
       "2. -0.477623538867673\n",
       "3. 0.777353888292525\n",
       "4. 0.147510454165328\n",
       "5. -0.313030806647038\n",
       "\n",
       "\n"
      ],
      "text/plain": [
       "[1] -0.253 -0.478  0.777  0.148 -0.313"
      ]
     },
     "metadata": {},
     "output_type": "display_data"
    }
   ],
   "source": [
    "apply(mydata,2,mean) # calculates the column means"
   ]
  },
  {
   "cell_type": "code",
   "execution_count": 13,
   "id": "initial-hypothetical",
   "metadata": {},
   "outputs": [
    {
     "data": {
      "text/html": [
       "<style>\n",
       ".list-inline {list-style: none; margin:0; padding: 0}\n",
       ".list-inline>li {display: inline-block}\n",
       ".list-inline>li:not(:last-child)::after {content: \"\\00b7\"; padding: 0 .5ex}\n",
       "</style>\n",
       "<ol class=list-inline><li>-0.487496190092064</li><li>-0.515779523050443</li><li>0.786344271134455</li><li>0.38564073126604</li><li>-0.255415356807863</li></ol>\n"
      ],
      "text/latex": [
       "\\begin{enumerate*}\n",
       "\\item -0.487496190092064\n",
       "\\item -0.515779523050443\n",
       "\\item 0.786344271134455\n",
       "\\item 0.38564073126604\n",
       "\\item -0.255415356807863\n",
       "\\end{enumerate*}\n"
      ],
      "text/markdown": [
       "1. -0.487496190092064\n",
       "2. -0.515779523050443\n",
       "3. 0.786344271134455\n",
       "4. 0.38564073126604\n",
       "5. -0.255415356807863\n",
       "\n",
       "\n"
      ],
      "text/plain": [
       "[1] -0.487 -0.516  0.786  0.386 -0.255"
      ]
     },
     "metadata": {},
     "output_type": "display_data"
    }
   ],
   "source": [
    "apply(mydata, 2, mean, trim = 0.2)"
   ]
  },
  {
   "cell_type": "code",
   "execution_count": 14,
   "id": "pursuant-hierarchy",
   "metadata": {},
   "outputs": [
    {
     "data": {
      "text/html": [
       "<table class=\"dataframe\">\n",
       "<caption>A data.frame: 10 × 4</caption>\n",
       "<thead>\n",
       "\t<tr><th scope=col>Student</th><th scope=col>Math</th><th scope=col>Science</th><th scope=col>English</th></tr>\n",
       "\t<tr><th scope=col>&lt;chr&gt;</th><th scope=col>&lt;dbl&gt;</th><th scope=col>&lt;dbl&gt;</th><th scope=col>&lt;dbl&gt;</th></tr>\n",
       "</thead>\n",
       "<tbody>\n",
       "\t<tr><td>John Davis       </td><td>502</td><td>95</td><td>25</td></tr>\n",
       "\t<tr><td>Angela Williams  </td><td>600</td><td>99</td><td>22</td></tr>\n",
       "\t<tr><td>Bullwinkle Moose </td><td>412</td><td>80</td><td>18</td></tr>\n",
       "\t<tr><td>David Jones      </td><td>358</td><td>82</td><td>15</td></tr>\n",
       "\t<tr><td>Janice Markhammer</td><td>495</td><td>75</td><td>20</td></tr>\n",
       "\t<tr><td>Cheryl Cushing   </td><td>512</td><td>85</td><td>28</td></tr>\n",
       "\t<tr><td>Reuven Ytzrhak   </td><td>410</td><td>80</td><td>15</td></tr>\n",
       "\t<tr><td>Greg Knox        </td><td>625</td><td>95</td><td>30</td></tr>\n",
       "\t<tr><td>Joel England     </td><td>573</td><td>89</td><td>27</td></tr>\n",
       "\t<tr><td>Mary Rayburn     </td><td>522</td><td>86</td><td>18</td></tr>\n",
       "</tbody>\n",
       "</table>\n"
      ],
      "text/latex": [
       "A data.frame: 10 × 4\n",
       "\\begin{tabular}{llll}\n",
       " Student & Math & Science & English\\\\\n",
       " <chr> & <dbl> & <dbl> & <dbl>\\\\\n",
       "\\hline\n",
       "\t John Davis        & 502 & 95 & 25\\\\\n",
       "\t Angela Williams   & 600 & 99 & 22\\\\\n",
       "\t Bullwinkle Moose  & 412 & 80 & 18\\\\\n",
       "\t David Jones       & 358 & 82 & 15\\\\\n",
       "\t Janice Markhammer & 495 & 75 & 20\\\\\n",
       "\t Cheryl Cushing    & 512 & 85 & 28\\\\\n",
       "\t Reuven Ytzrhak    & 410 & 80 & 15\\\\\n",
       "\t Greg Knox         & 625 & 95 & 30\\\\\n",
       "\t Joel England      & 573 & 89 & 27\\\\\n",
       "\t Mary Rayburn      & 522 & 86 & 18\\\\\n",
       "\\end{tabular}\n"
      ],
      "text/markdown": [
       "\n",
       "A data.frame: 10 × 4\n",
       "\n",
       "| Student &lt;chr&gt; | Math &lt;dbl&gt; | Science &lt;dbl&gt; | English &lt;dbl&gt; |\n",
       "|---|---|---|---|\n",
       "| John Davis        | 502 | 95 | 25 |\n",
       "| Angela Williams   | 600 | 99 | 22 |\n",
       "| Bullwinkle Moose  | 412 | 80 | 18 |\n",
       "| David Jones       | 358 | 82 | 15 |\n",
       "| Janice Markhammer | 495 | 75 | 20 |\n",
       "| Cheryl Cushing    | 512 | 85 | 28 |\n",
       "| Reuven Ytzrhak    | 410 | 80 | 15 |\n",
       "| Greg Knox         | 625 | 95 | 30 |\n",
       "| Joel England      | 573 | 89 | 27 |\n",
       "| Mary Rayburn      | 522 | 86 | 18 |\n",
       "\n"
      ],
      "text/plain": [
       "   Student           Math Science English\n",
       "1  John Davis        502  95      25     \n",
       "2  Angela Williams   600  99      22     \n",
       "3  Bullwinkle Moose  412  80      18     \n",
       "4  David Jones       358  82      15     \n",
       "5  Janice Markhammer 495  75      20     \n",
       "6  Cheryl Cushing    512  85      28     \n",
       "7  Reuven Ytzrhak    410  80      15     \n",
       "8  Greg Knox         625  95      30     \n",
       "9  Joel England      573  89      27     \n",
       "10 Mary Rayburn      522  86      18     "
      ]
     },
     "metadata": {},
     "output_type": "display_data"
    }
   ],
   "source": [
    "# A solution to the learning example\n",
    "options(digits = 2)\n",
    "Student <- c(\"John Davis\", \"Angela Williams\", \"Bullwinkle Moose\",\"David Jones\", \"Janice Markhammer\", \n",
    "             \"Cheryl Cushing\",\"Reuven Ytzrhak\", \"Greg Knox\", \"Joel England\",\"Mary Rayburn\")\n",
    "Math <- c(502, 600, 412, 358, 495, 512, 410, 625, 573, 522)\n",
    "Science <- c(95, 99, 80, 82, 75, 85, 80, 95, 89, 86)\n",
    "English <- c(25, 22, 18, 15, 20, 28, 15, 30, 27, 18)\n",
    "roster <- data.frame(Student, Math, Science, English,stringsAsFactors=FALSE)\n",
    "roster"
   ]
  },
  {
   "cell_type": "code",
   "execution_count": 15,
   "id": "liquid-omaha",
   "metadata": {},
   "outputs": [
    {
     "data": {
      "text/html": [
       "<table class=\"dataframe\">\n",
       "<caption>A data.frame: 10 × 5</caption>\n",
       "<thead>\n",
       "\t<tr><th scope=col>Student</th><th scope=col>Math</th><th scope=col>Science</th><th scope=col>English</th><th scope=col>score</th></tr>\n",
       "\t<tr><th scope=col>&lt;chr&gt;</th><th scope=col>&lt;dbl&gt;</th><th scope=col>&lt;dbl&gt;</th><th scope=col>&lt;dbl&gt;</th><th scope=col>&lt;dbl&gt;</th></tr>\n",
       "</thead>\n",
       "<tbody>\n",
       "\t<tr><td>John Davis       </td><td>502</td><td>95</td><td>25</td><td> 0.56</td></tr>\n",
       "\t<tr><td>Angela Williams  </td><td>600</td><td>99</td><td>22</td><td> 0.92</td></tr>\n",
       "\t<tr><td>Bullwinkle Moose </td><td>412</td><td>80</td><td>18</td><td>-0.86</td></tr>\n",
       "\t<tr><td>David Jones      </td><td>358</td><td>82</td><td>15</td><td>-1.16</td></tr>\n",
       "\t<tr><td>Janice Markhammer</td><td>495</td><td>75</td><td>20</td><td>-0.63</td></tr>\n",
       "\t<tr><td>Cheryl Cushing   </td><td>512</td><td>85</td><td>28</td><td> 0.35</td></tr>\n",
       "\t<tr><td>Reuven Ytzrhak   </td><td>410</td><td>80</td><td>15</td><td>-1.05</td></tr>\n",
       "\t<tr><td>Greg Knox        </td><td>625</td><td>95</td><td>30</td><td> 1.34</td></tr>\n",
       "\t<tr><td>Joel England     </td><td>573</td><td>89</td><td>27</td><td> 0.70</td></tr>\n",
       "\t<tr><td>Mary Rayburn     </td><td>522</td><td>86</td><td>18</td><td>-0.18</td></tr>\n",
       "</tbody>\n",
       "</table>\n"
      ],
      "text/latex": [
       "A data.frame: 10 × 5\n",
       "\\begin{tabular}{lllll}\n",
       " Student & Math & Science & English & score\\\\\n",
       " <chr> & <dbl> & <dbl> & <dbl> & <dbl>\\\\\n",
       "\\hline\n",
       "\t John Davis        & 502 & 95 & 25 &  0.56\\\\\n",
       "\t Angela Williams   & 600 & 99 & 22 &  0.92\\\\\n",
       "\t Bullwinkle Moose  & 412 & 80 & 18 & -0.86\\\\\n",
       "\t David Jones       & 358 & 82 & 15 & -1.16\\\\\n",
       "\t Janice Markhammer & 495 & 75 & 20 & -0.63\\\\\n",
       "\t Cheryl Cushing    & 512 & 85 & 28 &  0.35\\\\\n",
       "\t Reuven Ytzrhak    & 410 & 80 & 15 & -1.05\\\\\n",
       "\t Greg Knox         & 625 & 95 & 30 &  1.34\\\\\n",
       "\t Joel England      & 573 & 89 & 27 &  0.70\\\\\n",
       "\t Mary Rayburn      & 522 & 86 & 18 & -0.18\\\\\n",
       "\\end{tabular}\n"
      ],
      "text/markdown": [
       "\n",
       "A data.frame: 10 × 5\n",
       "\n",
       "| Student &lt;chr&gt; | Math &lt;dbl&gt; | Science &lt;dbl&gt; | English &lt;dbl&gt; | score &lt;dbl&gt; |\n",
       "|---|---|---|---|---|\n",
       "| John Davis        | 502 | 95 | 25 |  0.56 |\n",
       "| Angela Williams   | 600 | 99 | 22 |  0.92 |\n",
       "| Bullwinkle Moose  | 412 | 80 | 18 | -0.86 |\n",
       "| David Jones       | 358 | 82 | 15 | -1.16 |\n",
       "| Janice Markhammer | 495 | 75 | 20 | -0.63 |\n",
       "| Cheryl Cushing    | 512 | 85 | 28 |  0.35 |\n",
       "| Reuven Ytzrhak    | 410 | 80 | 15 | -1.05 |\n",
       "| Greg Knox         | 625 | 95 | 30 |  1.34 |\n",
       "| Joel England      | 573 | 89 | 27 |  0.70 |\n",
       "| Mary Rayburn      | 522 | 86 | 18 | -0.18 |\n",
       "\n"
      ],
      "text/plain": [
       "   Student           Math Science English score\n",
       "1  John Davis        502  95      25       0.56\n",
       "2  Angela Williams   600  99      22       0.92\n",
       "3  Bullwinkle Moose  412  80      18      -0.86\n",
       "4  David Jones       358  82      15      -1.16\n",
       "5  Janice Markhammer 495  75      20      -0.63\n",
       "6  Cheryl Cushing    512  85      28       0.35\n",
       "7  Reuven Ytzrhak    410  80      15      -1.05\n",
       "8  Greg Knox         625  95      30       1.34\n",
       "9  Joel England      573  89      27       0.70\n",
       "10 Mary Rayburn      522  86      18      -0.18"
      ]
     },
     "metadata": {},
     "output_type": "display_data"
    }
   ],
   "source": [
    "z <- scale(roster[,2:4])\n",
    "score <- apply(z,1,mean)\n",
    "roster <- cbind(roster, score)\n",
    "roster"
   ]
  },
  {
   "cell_type": "code",
   "execution_count": 18,
   "id": "limiting-strike",
   "metadata": {},
   "outputs": [
    {
     "data": {
      "text/html": [
       "<style>\n",
       ".dl-inline {width: auto; margin:0; padding: 0}\n",
       ".dl-inline>dt, .dl-inline>dd {float: none; width: auto; display: inline-block}\n",
       ".dl-inline>dt::after {content: \":\\0020\"; padding-right: .5ex}\n",
       ".dl-inline>dt:not(:first-of-type) {padding-left: .5ex}\n",
       "</style><dl class=dl-inline><dt>80%</dt><dd>0.74303408120841</dd><dt>60%</dt><dd>0.435630201373395</dd><dt>40%</dt><dd>-0.357680793747236</dd><dt>20%</dt><dd>-0.894757949476833</dd></dl>\n"
      ],
      "text/latex": [
       "\\begin{description*}\n",
       "\\item[80\\textbackslash{}\\%] 0.74303408120841\n",
       "\\item[60\\textbackslash{}\\%] 0.435630201373395\n",
       "\\item[40\\textbackslash{}\\%] -0.357680793747236\n",
       "\\item[20\\textbackslash{}\\%] -0.894757949476833\n",
       "\\end{description*}\n"
      ],
      "text/markdown": [
       "80%\n",
       ":   0.7430340812084160%\n",
       ":   0.43563020137339540%\n",
       ":   -0.35768079374723620%\n",
       ":   -0.894757949476833\n",
       "\n"
      ],
      "text/plain": [
       "  80%   60%   40%   20% \n",
       " 0.74  0.44 -0.36 -0.89 "
      ]
     },
     "metadata": {},
     "output_type": "display_data"
    }
   ],
   "source": [
    "y <- quantile(score,c(0.8, 0.6, 0.4, 0.2))\n",
    "y "
   ]
  },
  {
   "cell_type": "code",
   "execution_count": 20,
   "id": "interim-harrison",
   "metadata": {},
   "outputs": [
    {
     "data": {
      "text/html": [
       "<table class=\"dataframe\">\n",
       "<caption>A data.frame: 10 × 6</caption>\n",
       "<thead>\n",
       "\t<tr><th scope=col>Student</th><th scope=col>Math</th><th scope=col>Science</th><th scope=col>English</th><th scope=col>score</th><th scope=col>grade</th></tr>\n",
       "\t<tr><th scope=col>&lt;chr&gt;</th><th scope=col>&lt;dbl&gt;</th><th scope=col>&lt;dbl&gt;</th><th scope=col>&lt;dbl&gt;</th><th scope=col>&lt;dbl&gt;</th><th scope=col>&lt;chr&gt;</th></tr>\n",
       "</thead>\n",
       "<tbody>\n",
       "\t<tr><td>John Davis       </td><td>502</td><td>95</td><td>25</td><td> 0.56</td><td>B</td></tr>\n",
       "\t<tr><td>Angela Williams  </td><td>600</td><td>99</td><td>22</td><td> 0.92</td><td>A</td></tr>\n",
       "\t<tr><td>Bullwinkle Moose </td><td>412</td><td>80</td><td>18</td><td>-0.86</td><td>D</td></tr>\n",
       "\t<tr><td>David Jones      </td><td>358</td><td>82</td><td>15</td><td>-1.16</td><td>F</td></tr>\n",
       "\t<tr><td>Janice Markhammer</td><td>495</td><td>75</td><td>20</td><td>-0.63</td><td>D</td></tr>\n",
       "\t<tr><td>Cheryl Cushing   </td><td>512</td><td>85</td><td>28</td><td> 0.35</td><td>C</td></tr>\n",
       "\t<tr><td>Reuven Ytzrhak   </td><td>410</td><td>80</td><td>15</td><td>-1.05</td><td>F</td></tr>\n",
       "\t<tr><td>Greg Knox        </td><td>625</td><td>95</td><td>30</td><td> 1.34</td><td>A</td></tr>\n",
       "\t<tr><td>Joel England     </td><td>573</td><td>89</td><td>27</td><td> 0.70</td><td>B</td></tr>\n",
       "\t<tr><td>Mary Rayburn     </td><td>522</td><td>86</td><td>18</td><td>-0.18</td><td>C</td></tr>\n",
       "</tbody>\n",
       "</table>\n"
      ],
      "text/latex": [
       "A data.frame: 10 × 6\n",
       "\\begin{tabular}{llllll}\n",
       " Student & Math & Science & English & score & grade\\\\\n",
       " <chr> & <dbl> & <dbl> & <dbl> & <dbl> & <chr>\\\\\n",
       "\\hline\n",
       "\t John Davis        & 502 & 95 & 25 &  0.56 & B\\\\\n",
       "\t Angela Williams   & 600 & 99 & 22 &  0.92 & A\\\\\n",
       "\t Bullwinkle Moose  & 412 & 80 & 18 & -0.86 & D\\\\\n",
       "\t David Jones       & 358 & 82 & 15 & -1.16 & F\\\\\n",
       "\t Janice Markhammer & 495 & 75 & 20 & -0.63 & D\\\\\n",
       "\t Cheryl Cushing    & 512 & 85 & 28 &  0.35 & C\\\\\n",
       "\t Reuven Ytzrhak    & 410 & 80 & 15 & -1.05 & F\\\\\n",
       "\t Greg Knox         & 625 & 95 & 30 &  1.34 & A\\\\\n",
       "\t Joel England      & 573 & 89 & 27 &  0.70 & B\\\\\n",
       "\t Mary Rayburn      & 522 & 86 & 18 & -0.18 & C\\\\\n",
       "\\end{tabular}\n"
      ],
      "text/markdown": [
       "\n",
       "A data.frame: 10 × 6\n",
       "\n",
       "| Student &lt;chr&gt; | Math &lt;dbl&gt; | Science &lt;dbl&gt; | English &lt;dbl&gt; | score &lt;dbl&gt; | grade &lt;chr&gt; |\n",
       "|---|---|---|---|---|---|\n",
       "| John Davis        | 502 | 95 | 25 |  0.56 | B |\n",
       "| Angela Williams   | 600 | 99 | 22 |  0.92 | A |\n",
       "| Bullwinkle Moose  | 412 | 80 | 18 | -0.86 | D |\n",
       "| David Jones       | 358 | 82 | 15 | -1.16 | F |\n",
       "| Janice Markhammer | 495 | 75 | 20 | -0.63 | D |\n",
       "| Cheryl Cushing    | 512 | 85 | 28 |  0.35 | C |\n",
       "| Reuven Ytzrhak    | 410 | 80 | 15 | -1.05 | F |\n",
       "| Greg Knox         | 625 | 95 | 30 |  1.34 | A |\n",
       "| Joel England      | 573 | 89 | 27 |  0.70 | B |\n",
       "| Mary Rayburn      | 522 | 86 | 18 | -0.18 | C |\n",
       "\n"
      ],
      "text/plain": [
       "   Student           Math Science English score grade\n",
       "1  John Davis        502  95      25       0.56 B    \n",
       "2  Angela Williams   600  99      22       0.92 A    \n",
       "3  Bullwinkle Moose  412  80      18      -0.86 D    \n",
       "4  David Jones       358  82      15      -1.16 F    \n",
       "5  Janice Markhammer 495  75      20      -0.63 D    \n",
       "6  Cheryl Cushing    512  85      28       0.35 C    \n",
       "7  Reuven Ytzrhak    410  80      15      -1.05 F    \n",
       "8  Greg Knox         625  95      30       1.34 A    \n",
       "9  Joel England      573  89      27       0.70 B    \n",
       "10 Mary Rayburn      522  86      18      -0.18 C    "
      ]
     },
     "metadata": {},
     "output_type": "display_data"
    }
   ],
   "source": [
    "roster$grade[score >= y[1]] <- \"A\"\n",
    "roster$grade[score < y[1] & score >= y[2]] <- \"B\"\n",
    "roster$grade[score < y[2] & score >= y[3]] <- \"C\"\n",
    "roster$grade[score < y[3] & score >= y[4]] <- \"D\"\n",
    "roster$grade[score < y[4]] <- \"F\"\n",
    "roster"
   ]
  },
  {
   "cell_type": "code",
   "execution_count": 21,
   "id": "inclusive-copying",
   "metadata": {},
   "outputs": [
    {
     "data": {
      "text/html": [
       "<ol>\n",
       "\t<li><style>\n",
       ".list-inline {list-style: none; margin:0; padding: 0}\n",
       ".list-inline>li {display: inline-block}\n",
       ".list-inline>li:not(:last-child)::after {content: \"\\00b7\"; padding: 0 .5ex}\n",
       "</style>\n",
       "<ol class=list-inline><li>'John'</li><li>'Davis'</li></ol>\n",
       "</li>\n",
       "\t<li><style>\n",
       ".list-inline {list-style: none; margin:0; padding: 0}\n",
       ".list-inline>li {display: inline-block}\n",
       ".list-inline>li:not(:last-child)::after {content: \"\\00b7\"; padding: 0 .5ex}\n",
       "</style>\n",
       "<ol class=list-inline><li>'Angela'</li><li>'Williams'</li></ol>\n",
       "</li>\n",
       "\t<li><style>\n",
       ".list-inline {list-style: none; margin:0; padding: 0}\n",
       ".list-inline>li {display: inline-block}\n",
       ".list-inline>li:not(:last-child)::after {content: \"\\00b7\"; padding: 0 .5ex}\n",
       "</style>\n",
       "<ol class=list-inline><li>'Bullwinkle'</li><li>'Moose'</li></ol>\n",
       "</li>\n",
       "\t<li><style>\n",
       ".list-inline {list-style: none; margin:0; padding: 0}\n",
       ".list-inline>li {display: inline-block}\n",
       ".list-inline>li:not(:last-child)::after {content: \"\\00b7\"; padding: 0 .5ex}\n",
       "</style>\n",
       "<ol class=list-inline><li>'David'</li><li>'Jones'</li></ol>\n",
       "</li>\n",
       "\t<li><style>\n",
       ".list-inline {list-style: none; margin:0; padding: 0}\n",
       ".list-inline>li {display: inline-block}\n",
       ".list-inline>li:not(:last-child)::after {content: \"\\00b7\"; padding: 0 .5ex}\n",
       "</style>\n",
       "<ol class=list-inline><li>'Janice'</li><li>'Markhammer'</li></ol>\n",
       "</li>\n",
       "\t<li><style>\n",
       ".list-inline {list-style: none; margin:0; padding: 0}\n",
       ".list-inline>li {display: inline-block}\n",
       ".list-inline>li:not(:last-child)::after {content: \"\\00b7\"; padding: 0 .5ex}\n",
       "</style>\n",
       "<ol class=list-inline><li>'Cheryl'</li><li>'Cushing'</li></ol>\n",
       "</li>\n",
       "\t<li><style>\n",
       ".list-inline {list-style: none; margin:0; padding: 0}\n",
       ".list-inline>li {display: inline-block}\n",
       ".list-inline>li:not(:last-child)::after {content: \"\\00b7\"; padding: 0 .5ex}\n",
       "</style>\n",
       "<ol class=list-inline><li>'Reuven'</li><li>'Ytzrhak'</li></ol>\n",
       "</li>\n",
       "\t<li><style>\n",
       ".list-inline {list-style: none; margin:0; padding: 0}\n",
       ".list-inline>li {display: inline-block}\n",
       ".list-inline>li:not(:last-child)::after {content: \"\\00b7\"; padding: 0 .5ex}\n",
       "</style>\n",
       "<ol class=list-inline><li>'Greg'</li><li>'Knox'</li></ol>\n",
       "</li>\n",
       "\t<li><style>\n",
       ".list-inline {list-style: none; margin:0; padding: 0}\n",
       ".list-inline>li {display: inline-block}\n",
       ".list-inline>li:not(:last-child)::after {content: \"\\00b7\"; padding: 0 .5ex}\n",
       "</style>\n",
       "<ol class=list-inline><li>'Joel'</li><li>'England'</li></ol>\n",
       "</li>\n",
       "\t<li><style>\n",
       ".list-inline {list-style: none; margin:0; padding: 0}\n",
       ".list-inline>li {display: inline-block}\n",
       ".list-inline>li:not(:last-child)::after {content: \"\\00b7\"; padding: 0 .5ex}\n",
       "</style>\n",
       "<ol class=list-inline><li>'Mary'</li><li>'Rayburn'</li></ol>\n",
       "</li>\n",
       "</ol>\n"
      ],
      "text/latex": [
       "\\begin{enumerate}\n",
       "\\item \\begin{enumerate*}\n",
       "\\item 'John'\n",
       "\\item 'Davis'\n",
       "\\end{enumerate*}\n",
       "\n",
       "\\item \\begin{enumerate*}\n",
       "\\item 'Angela'\n",
       "\\item 'Williams'\n",
       "\\end{enumerate*}\n",
       "\n",
       "\\item \\begin{enumerate*}\n",
       "\\item 'Bullwinkle'\n",
       "\\item 'Moose'\n",
       "\\end{enumerate*}\n",
       "\n",
       "\\item \\begin{enumerate*}\n",
       "\\item 'David'\n",
       "\\item 'Jones'\n",
       "\\end{enumerate*}\n",
       "\n",
       "\\item \\begin{enumerate*}\n",
       "\\item 'Janice'\n",
       "\\item 'Markhammer'\n",
       "\\end{enumerate*}\n",
       "\n",
       "\\item \\begin{enumerate*}\n",
       "\\item 'Cheryl'\n",
       "\\item 'Cushing'\n",
       "\\end{enumerate*}\n",
       "\n",
       "\\item \\begin{enumerate*}\n",
       "\\item 'Reuven'\n",
       "\\item 'Ytzrhak'\n",
       "\\end{enumerate*}\n",
       "\n",
       "\\item \\begin{enumerate*}\n",
       "\\item 'Greg'\n",
       "\\item 'Knox'\n",
       "\\end{enumerate*}\n",
       "\n",
       "\\item \\begin{enumerate*}\n",
       "\\item 'Joel'\n",
       "\\item 'England'\n",
       "\\end{enumerate*}\n",
       "\n",
       "\\item \\begin{enumerate*}\n",
       "\\item 'Mary'\n",
       "\\item 'Rayburn'\n",
       "\\end{enumerate*}\n",
       "\n",
       "\\end{enumerate}\n"
      ],
      "text/markdown": [
       "1. 1. 'John'\n",
       "2. 'Davis'\n",
       "\n",
       "\n",
       "\n",
       "2. 1. 'Angela'\n",
       "2. 'Williams'\n",
       "\n",
       "\n",
       "\n",
       "3. 1. 'Bullwinkle'\n",
       "2. 'Moose'\n",
       "\n",
       "\n",
       "\n",
       "4. 1. 'David'\n",
       "2. 'Jones'\n",
       "\n",
       "\n",
       "\n",
       "5. 1. 'Janice'\n",
       "2. 'Markhammer'\n",
       "\n",
       "\n",
       "\n",
       "6. 1. 'Cheryl'\n",
       "2. 'Cushing'\n",
       "\n",
       "\n",
       "\n",
       "7. 1. 'Reuven'\n",
       "2. 'Ytzrhak'\n",
       "\n",
       "\n",
       "\n",
       "8. 1. 'Greg'\n",
       "2. 'Knox'\n",
       "\n",
       "\n",
       "\n",
       "9. 1. 'Joel'\n",
       "2. 'England'\n",
       "\n",
       "\n",
       "\n",
       "10. 1. 'Mary'\n",
       "2. 'Rayburn'\n",
       "\n",
       "\n",
       "\n",
       "\n",
       "\n"
      ],
      "text/plain": [
       "[[1]]\n",
       "[1] \"John\"  \"Davis\"\n",
       "\n",
       "[[2]]\n",
       "[1] \"Angela\"   \"Williams\"\n",
       "\n",
       "[[3]]\n",
       "[1] \"Bullwinkle\" \"Moose\"     \n",
       "\n",
       "[[4]]\n",
       "[1] \"David\" \"Jones\"\n",
       "\n",
       "[[5]]\n",
       "[1] \"Janice\"     \"Markhammer\"\n",
       "\n",
       "[[6]]\n",
       "[1] \"Cheryl\"  \"Cushing\"\n",
       "\n",
       "[[7]]\n",
       "[1] \"Reuven\"  \"Ytzrhak\"\n",
       "\n",
       "[[8]]\n",
       "[1] \"Greg\" \"Knox\"\n",
       "\n",
       "[[9]]\n",
       "[1] \"Joel\"    \"England\"\n",
       "\n",
       "[[10]]\n",
       "[1] \"Mary\"    \"Rayburn\"\n"
      ]
     },
     "metadata": {},
     "output_type": "display_data"
    }
   ],
   "source": [
    "name <- strsplit((roster$Student),\" \")\n",
    "name"
   ]
  },
  {
   "cell_type": "code",
   "execution_count": 22,
   "id": "banner-upper",
   "metadata": {},
   "outputs": [
    {
     "data": {
      "text/html": [
       "<table class=\"dataframe\">\n",
       "<caption>A data.frame: 10 × 7</caption>\n",
       "<thead>\n",
       "\t<tr><th scope=col>Firstname</th><th scope=col>Lastname</th><th scope=col>Math</th><th scope=col>Science</th><th scope=col>English</th><th scope=col>score</th><th scope=col>grade</th></tr>\n",
       "\t<tr><th scope=col>&lt;chr&gt;</th><th scope=col>&lt;chr&gt;</th><th scope=col>&lt;dbl&gt;</th><th scope=col>&lt;dbl&gt;</th><th scope=col>&lt;dbl&gt;</th><th scope=col>&lt;dbl&gt;</th><th scope=col>&lt;chr&gt;</th></tr>\n",
       "</thead>\n",
       "<tbody>\n",
       "\t<tr><td>John      </td><td>Davis     </td><td>502</td><td>95</td><td>25</td><td> 0.56</td><td>B</td></tr>\n",
       "\t<tr><td>Angela    </td><td>Williams  </td><td>600</td><td>99</td><td>22</td><td> 0.92</td><td>A</td></tr>\n",
       "\t<tr><td>Bullwinkle</td><td>Moose     </td><td>412</td><td>80</td><td>18</td><td>-0.86</td><td>D</td></tr>\n",
       "\t<tr><td>David     </td><td>Jones     </td><td>358</td><td>82</td><td>15</td><td>-1.16</td><td>F</td></tr>\n",
       "\t<tr><td>Janice    </td><td>Markhammer</td><td>495</td><td>75</td><td>20</td><td>-0.63</td><td>D</td></tr>\n",
       "\t<tr><td>Cheryl    </td><td>Cushing   </td><td>512</td><td>85</td><td>28</td><td> 0.35</td><td>C</td></tr>\n",
       "\t<tr><td>Reuven    </td><td>Ytzrhak   </td><td>410</td><td>80</td><td>15</td><td>-1.05</td><td>F</td></tr>\n",
       "\t<tr><td>Greg      </td><td>Knox      </td><td>625</td><td>95</td><td>30</td><td> 1.34</td><td>A</td></tr>\n",
       "\t<tr><td>Joel      </td><td>England   </td><td>573</td><td>89</td><td>27</td><td> 0.70</td><td>B</td></tr>\n",
       "\t<tr><td>Mary      </td><td>Rayburn   </td><td>522</td><td>86</td><td>18</td><td>-0.18</td><td>C</td></tr>\n",
       "</tbody>\n",
       "</table>\n"
      ],
      "text/latex": [
       "A data.frame: 10 × 7\n",
       "\\begin{tabular}{lllllll}\n",
       " Firstname & Lastname & Math & Science & English & score & grade\\\\\n",
       " <chr> & <chr> & <dbl> & <dbl> & <dbl> & <dbl> & <chr>\\\\\n",
       "\\hline\n",
       "\t John       & Davis      & 502 & 95 & 25 &  0.56 & B\\\\\n",
       "\t Angela     & Williams   & 600 & 99 & 22 &  0.92 & A\\\\\n",
       "\t Bullwinkle & Moose      & 412 & 80 & 18 & -0.86 & D\\\\\n",
       "\t David      & Jones      & 358 & 82 & 15 & -1.16 & F\\\\\n",
       "\t Janice     & Markhammer & 495 & 75 & 20 & -0.63 & D\\\\\n",
       "\t Cheryl     & Cushing    & 512 & 85 & 28 &  0.35 & C\\\\\n",
       "\t Reuven     & Ytzrhak    & 410 & 80 & 15 & -1.05 & F\\\\\n",
       "\t Greg       & Knox       & 625 & 95 & 30 &  1.34 & A\\\\\n",
       "\t Joel       & England    & 573 & 89 & 27 &  0.70 & B\\\\\n",
       "\t Mary       & Rayburn    & 522 & 86 & 18 & -0.18 & C\\\\\n",
       "\\end{tabular}\n"
      ],
      "text/markdown": [
       "\n",
       "A data.frame: 10 × 7\n",
       "\n",
       "| Firstname &lt;chr&gt; | Lastname &lt;chr&gt; | Math &lt;dbl&gt; | Science &lt;dbl&gt; | English &lt;dbl&gt; | score &lt;dbl&gt; | grade &lt;chr&gt; |\n",
       "|---|---|---|---|---|---|---|\n",
       "| John       | Davis      | 502 | 95 | 25 |  0.56 | B |\n",
       "| Angela     | Williams   | 600 | 99 | 22 |  0.92 | A |\n",
       "| Bullwinkle | Moose      | 412 | 80 | 18 | -0.86 | D |\n",
       "| David      | Jones      | 358 | 82 | 15 | -1.16 | F |\n",
       "| Janice     | Markhammer | 495 | 75 | 20 | -0.63 | D |\n",
       "| Cheryl     | Cushing    | 512 | 85 | 28 |  0.35 | C |\n",
       "| Reuven     | Ytzrhak    | 410 | 80 | 15 | -1.05 | F |\n",
       "| Greg       | Knox       | 625 | 95 | 30 |  1.34 | A |\n",
       "| Joel       | England    | 573 | 89 | 27 |  0.70 | B |\n",
       "| Mary       | Rayburn    | 522 | 86 | 18 | -0.18 | C |\n",
       "\n"
      ],
      "text/plain": [
       "   Firstname  Lastname   Math Science English score grade\n",
       "1  John       Davis      502  95      25       0.56 B    \n",
       "2  Angela     Williams   600  99      22       0.92 A    \n",
       "3  Bullwinkle Moose      412  80      18      -0.86 D    \n",
       "4  David      Jones      358  82      15      -1.16 F    \n",
       "5  Janice     Markhammer 495  75      20      -0.63 D    \n",
       "6  Cheryl     Cushing    512  85      28       0.35 C    \n",
       "7  Reuven     Ytzrhak    410  80      15      -1.05 F    \n",
       "8  Greg       Knox       625  95      30       1.34 A    \n",
       "9  Joel       England    573  89      27       0.70 B    \n",
       "10 Mary       Rayburn    522  86      18      -0.18 C    "
      ]
     },
     "metadata": {},
     "output_type": "display_data"
    }
   ],
   "source": [
    "Lastname <- sapply(name, \"[\", 2)\n",
    "Firstname <- sapply(name, \"[\", 1)\n",
    "roster <- cbind(Firstname, Lastname, roster[,-1])\n",
    "roster"
   ]
  },
  {
   "cell_type": "code",
   "execution_count": 29,
   "id": "advisory-closing",
   "metadata": {},
   "outputs": [
    {
     "data": {
      "text/html": [
       "<table class=\"dataframe\">\n",
       "<caption>A data.frame: 10 × 7</caption>\n",
       "<thead>\n",
       "\t<tr><th></th><th scope=col>Firstname</th><th scope=col>Lastname</th><th scope=col>Math</th><th scope=col>Science</th><th scope=col>English</th><th scope=col>score</th><th scope=col>grade</th></tr>\n",
       "\t<tr><th></th><th scope=col>&lt;chr&gt;</th><th scope=col>&lt;chr&gt;</th><th scope=col>&lt;dbl&gt;</th><th scope=col>&lt;dbl&gt;</th><th scope=col>&lt;dbl&gt;</th><th scope=col>&lt;dbl&gt;</th><th scope=col>&lt;chr&gt;</th></tr>\n",
       "</thead>\n",
       "<tbody>\n",
       "\t<tr><th scope=row>6</th><td>Cheryl    </td><td>Cushing   </td><td>512</td><td>85</td><td>28</td><td> 0.35</td><td>C</td></tr>\n",
       "\t<tr><th scope=row>1</th><td>John      </td><td>Davis     </td><td>502</td><td>95</td><td>25</td><td> 0.56</td><td>B</td></tr>\n",
       "\t<tr><th scope=row>9</th><td>Joel      </td><td>England   </td><td>573</td><td>89</td><td>27</td><td> 0.70</td><td>B</td></tr>\n",
       "\t<tr><th scope=row>4</th><td>David     </td><td>Jones     </td><td>358</td><td>82</td><td>15</td><td>-1.16</td><td>F</td></tr>\n",
       "\t<tr><th scope=row>8</th><td>Greg      </td><td>Knox      </td><td>625</td><td>95</td><td>30</td><td> 1.34</td><td>A</td></tr>\n",
       "\t<tr><th scope=row>5</th><td>Janice    </td><td>Markhammer</td><td>495</td><td>75</td><td>20</td><td>-0.63</td><td>D</td></tr>\n",
       "\t<tr><th scope=row>3</th><td>Bullwinkle</td><td>Moose     </td><td>412</td><td>80</td><td>18</td><td>-0.86</td><td>D</td></tr>\n",
       "\t<tr><th scope=row>10</th><td>Mary      </td><td>Rayburn   </td><td>522</td><td>86</td><td>18</td><td>-0.18</td><td>C</td></tr>\n",
       "\t<tr><th scope=row>2</th><td>Angela    </td><td>Williams  </td><td>600</td><td>99</td><td>22</td><td> 0.92</td><td>A</td></tr>\n",
       "\t<tr><th scope=row>7</th><td>Reuven    </td><td>Ytzrhak   </td><td>410</td><td>80</td><td>15</td><td>-1.05</td><td>F</td></tr>\n",
       "</tbody>\n",
       "</table>\n"
      ],
      "text/latex": [
       "A data.frame: 10 × 7\n",
       "\\begin{tabular}{r|lllllll}\n",
       "  & Firstname & Lastname & Math & Science & English & score & grade\\\\\n",
       "  & <chr> & <chr> & <dbl> & <dbl> & <dbl> & <dbl> & <chr>\\\\\n",
       "\\hline\n",
       "\t6 & Cheryl     & Cushing    & 512 & 85 & 28 &  0.35 & C\\\\\n",
       "\t1 & John       & Davis      & 502 & 95 & 25 &  0.56 & B\\\\\n",
       "\t9 & Joel       & England    & 573 & 89 & 27 &  0.70 & B\\\\\n",
       "\t4 & David      & Jones      & 358 & 82 & 15 & -1.16 & F\\\\\n",
       "\t8 & Greg       & Knox       & 625 & 95 & 30 &  1.34 & A\\\\\n",
       "\t5 & Janice     & Markhammer & 495 & 75 & 20 & -0.63 & D\\\\\n",
       "\t3 & Bullwinkle & Moose      & 412 & 80 & 18 & -0.86 & D\\\\\n",
       "\t10 & Mary       & Rayburn    & 522 & 86 & 18 & -0.18 & C\\\\\n",
       "\t2 & Angela     & Williams   & 600 & 99 & 22 &  0.92 & A\\\\\n",
       "\t7 & Reuven     & Ytzrhak    & 410 & 80 & 15 & -1.05 & F\\\\\n",
       "\\end{tabular}\n"
      ],
      "text/markdown": [
       "\n",
       "A data.frame: 10 × 7\n",
       "\n",
       "| <!--/--> | Firstname &lt;chr&gt; | Lastname &lt;chr&gt; | Math &lt;dbl&gt; | Science &lt;dbl&gt; | English &lt;dbl&gt; | score &lt;dbl&gt; | grade &lt;chr&gt; |\n",
       "|---|---|---|---|---|---|---|---|\n",
       "| 6 | Cheryl     | Cushing    | 512 | 85 | 28 |  0.35 | C |\n",
       "| 1 | John       | Davis      | 502 | 95 | 25 |  0.56 | B |\n",
       "| 9 | Joel       | England    | 573 | 89 | 27 |  0.70 | B |\n",
       "| 4 | David      | Jones      | 358 | 82 | 15 | -1.16 | F |\n",
       "| 8 | Greg       | Knox       | 625 | 95 | 30 |  1.34 | A |\n",
       "| 5 | Janice     | Markhammer | 495 | 75 | 20 | -0.63 | D |\n",
       "| 3 | Bullwinkle | Moose      | 412 | 80 | 18 | -0.86 | D |\n",
       "| 10 | Mary       | Rayburn    | 522 | 86 | 18 | -0.18 | C |\n",
       "| 2 | Angela     | Williams   | 600 | 99 | 22 |  0.92 | A |\n",
       "| 7 | Reuven     | Ytzrhak    | 410 | 80 | 15 | -1.05 | F |\n",
       "\n"
      ],
      "text/plain": [
       "   Firstname  Lastname   Math Science English score grade\n",
       "6  Cheryl     Cushing    512  85      28       0.35 C    \n",
       "1  John       Davis      502  95      25       0.56 B    \n",
       "9  Joel       England    573  89      27       0.70 B    \n",
       "4  David      Jones      358  82      15      -1.16 F    \n",
       "8  Greg       Knox       625  95      30       1.34 A    \n",
       "5  Janice     Markhammer 495  75      20      -0.63 D    \n",
       "3  Bullwinkle Moose      412  80      18      -0.86 D    \n",
       "10 Mary       Rayburn    522  86      18      -0.18 C    \n",
       "2  Angela     Williams   600  99      22       0.92 A    \n",
       "7  Reuven     Ytzrhak    410  80      15      -1.05 F    "
      ]
     },
     "metadata": {},
     "output_type": "display_data"
    }
   ],
   "source": [
    "roster <- roster[order(Lastname,Firstname),]\n",
    "roster"
   ]
  },
  {
   "cell_type": "code",
   "execution_count": null,
   "id": "conservative-photographer",
   "metadata": {},
   "outputs": [],
   "source": []
  }
 ],
 "metadata": {
  "kernelspec": {
   "display_name": "R",
   "language": "R",
   "name": "ir"
  },
  "language_info": {
   "codemirror_mode": "r",
   "file_extension": ".r",
   "mimetype": "text/x-r-source",
   "name": "R",
   "pygments_lexer": "r",
   "version": "4.1.0"
  }
 },
 "nbformat": 4,
 "nbformat_minor": 5
}
