{
 "cells": [
  {
   "cell_type": "markdown",
   "id": "ccf3a704",
   "metadata": {},
   "source": [
    "# 1. Frequency and contingency tables"
   ]
  },
  {
   "cell_type": "code",
   "execution_count": 1,
   "id": "7f247085",
   "metadata": {},
   "outputs": [
    {
     "name": "stderr",
     "output_type": "stream",
     "text": [
      "Loading required package: grid\n",
      "\n"
     ]
    },
    {
     "data": {
      "text/html": [
       "<table class=\"dataframe\">\n",
       "<caption>A data.frame: 6 × 5</caption>\n",
       "<thead>\n",
       "\t<tr><th></th><th scope=col>ID</th><th scope=col>Treatment</th><th scope=col>Sex</th><th scope=col>Age</th><th scope=col>Improved</th></tr>\n",
       "\t<tr><th></th><th scope=col>&lt;int&gt;</th><th scope=col>&lt;fct&gt;</th><th scope=col>&lt;fct&gt;</th><th scope=col>&lt;int&gt;</th><th scope=col>&lt;ord&gt;</th></tr>\n",
       "</thead>\n",
       "<tbody>\n",
       "\t<tr><th scope=row>1</th><td>57</td><td>Treated</td><td>Male</td><td>27</td><td>Some  </td></tr>\n",
       "\t<tr><th scope=row>2</th><td>46</td><td>Treated</td><td>Male</td><td>29</td><td>None  </td></tr>\n",
       "\t<tr><th scope=row>3</th><td>77</td><td>Treated</td><td>Male</td><td>30</td><td>None  </td></tr>\n",
       "\t<tr><th scope=row>4</th><td>17</td><td>Treated</td><td>Male</td><td>32</td><td>Marked</td></tr>\n",
       "\t<tr><th scope=row>5</th><td>36</td><td>Treated</td><td>Male</td><td>46</td><td>Marked</td></tr>\n",
       "\t<tr><th scope=row>6</th><td>23</td><td>Treated</td><td>Male</td><td>58</td><td>Marked</td></tr>\n",
       "</tbody>\n",
       "</table>\n"
      ],
      "text/latex": [
       "A data.frame: 6 × 5\n",
       "\\begin{tabular}{r|lllll}\n",
       "  & ID & Treatment & Sex & Age & Improved\\\\\n",
       "  & <int> & <fct> & <fct> & <int> & <ord>\\\\\n",
       "\\hline\n",
       "\t1 & 57 & Treated & Male & 27 & Some  \\\\\n",
       "\t2 & 46 & Treated & Male & 29 & None  \\\\\n",
       "\t3 & 77 & Treated & Male & 30 & None  \\\\\n",
       "\t4 & 17 & Treated & Male & 32 & Marked\\\\\n",
       "\t5 & 36 & Treated & Male & 46 & Marked\\\\\n",
       "\t6 & 23 & Treated & Male & 58 & Marked\\\\\n",
       "\\end{tabular}\n"
      ],
      "text/markdown": [
       "\n",
       "A data.frame: 6 × 5\n",
       "\n",
       "| <!--/--> | ID &lt;int&gt; | Treatment &lt;fct&gt; | Sex &lt;fct&gt; | Age &lt;int&gt; | Improved &lt;ord&gt; |\n",
       "|---|---|---|---|---|---|\n",
       "| 1 | 57 | Treated | Male | 27 | Some   |\n",
       "| 2 | 46 | Treated | Male | 29 | None   |\n",
       "| 3 | 77 | Treated | Male | 30 | None   |\n",
       "| 4 | 17 | Treated | Male | 32 | Marked |\n",
       "| 5 | 36 | Treated | Male | 46 | Marked |\n",
       "| 6 | 23 | Treated | Male | 58 | Marked |\n",
       "\n"
      ],
      "text/plain": [
       "  ID Treatment Sex  Age Improved\n",
       "1 57 Treated   Male 27  Some    \n",
       "2 46 Treated   Male 29  None    \n",
       "3 77 Treated   Male 30  None    \n",
       "4 17 Treated   Male 32  Marked  \n",
       "5 36 Treated   Male 46  Marked  \n",
       "6 23 Treated   Male 58  Marked  "
      ]
     },
     "metadata": {},
     "output_type": "display_data"
    }
   ],
   "source": [
    "library(vcd)\n",
    "head(Arthritis)"
   ]
  },
  {
   "cell_type": "markdown",
   "id": "4af5d58c",
   "metadata": {},
   "source": [
    "## ONE-WAY TABLES"
   ]
  },
  {
   "cell_type": "code",
   "execution_count": 2,
   "id": "38639578",
   "metadata": {},
   "outputs": [
    {
     "data": {
      "text/plain": [
       "Improved\n",
       "  None   Some Marked \n",
       "    42     14     28 "
      ]
     },
     "metadata": {},
     "output_type": "display_data"
    }
   ],
   "source": [
    "mytable <- with(Arthritis, table(Improved))\n",
    "mytable"
   ]
  },
  {
   "cell_type": "code",
   "execution_count": 3,
   "id": "8772857c",
   "metadata": {},
   "outputs": [
    {
     "data": {
      "text/plain": [
       "Improved\n",
       "     None      Some    Marked \n",
       "0.5000000 0.1666667 0.3333333 "
      ]
     },
     "metadata": {},
     "output_type": "display_data"
    }
   ],
   "source": [
    "prop.table(mytable)"
   ]
  },
  {
   "cell_type": "code",
   "execution_count": 4,
   "id": "d077685d",
   "metadata": {},
   "outputs": [
    {
     "data": {
      "text/plain": [
       "Improved\n",
       "    None     Some   Marked \n",
       "50.00000 16.66667 33.33333 "
      ]
     },
     "metadata": {},
     "output_type": "display_data"
    }
   ],
   "source": [
    "prop.table(mytable)*100"
   ]
  },
  {
   "cell_type": "markdown",
   "id": "86d56b67",
   "metadata": {},
   "source": [
    "## TWO-WAY TABLES"
   ]
  },
  {
   "cell_type": "code",
   "execution_count": 5,
   "id": "1c72a0d2",
   "metadata": {},
   "outputs": [
    {
     "data": {
      "text/plain": [
       "         Improved\n",
       "Treatment None Some Marked\n",
       "  Placebo   29    7      7\n",
       "  Treated   13    7     21"
      ]
     },
     "metadata": {},
     "output_type": "display_data"
    }
   ],
   "source": [
    "mytable <- xtabs(~ Treatment + Improved, data=Arthritis)\n",
    "mytable"
   ]
  },
  {
   "cell_type": "code",
   "execution_count": 6,
   "id": "5ad24eda",
   "metadata": {},
   "outputs": [
    {
     "data": {
      "text/plain": [
       "Treatment\n",
       "Placebo Treated \n",
       "     43      41 "
      ]
     },
     "metadata": {},
     "output_type": "display_data"
    }
   ],
   "source": [
    "margin.table(mytable, 1) "
   ]
  },
  {
   "cell_type": "code",
   "execution_count": 7,
   "id": "db71b743",
   "metadata": {},
   "outputs": [
    {
     "data": {
      "text/plain": [
       "         Improved\n",
       "Treatment      None      Some    Marked\n",
       "  Placebo 0.6744186 0.1627907 0.1627907\n",
       "  Treated 0.3170732 0.1707317 0.5121951"
      ]
     },
     "metadata": {},
     "output_type": "display_data"
    }
   ],
   "source": [
    "prop.table(mytable, 1) # For row sums and row proportions"
   ]
  },
  {
   "cell_type": "code",
   "execution_count": 8,
   "id": "6f8b781f",
   "metadata": {},
   "outputs": [
    {
     "data": {
      "text/plain": [
       "Improved\n",
       "  None   Some Marked \n",
       "    42     14     28 "
      ]
     },
     "metadata": {},
     "output_type": "display_data"
    }
   ],
   "source": [
    "margin.table(mytable, 2) "
   ]
  },
  {
   "cell_type": "code",
   "execution_count": 9,
   "id": "cc058b74",
   "metadata": {},
   "outputs": [
    {
     "data": {
      "text/plain": [
       "         Improved\n",
       "Treatment      None      Some    Marked\n",
       "  Placebo 0.6904762 0.5000000 0.2500000\n",
       "  Treated 0.3095238 0.5000000 0.7500000"
      ]
     },
     "metadata": {},
     "output_type": "display_data"
    }
   ],
   "source": [
    "prop.table(mytable, 2) # For column sums and column proportions"
   ]
  },
  {
   "cell_type": "code",
   "execution_count": 10,
   "id": "4aa87321",
   "metadata": {},
   "outputs": [
    {
     "data": {
      "text/plain": [
       "         Improved\n",
       "Treatment       None       Some     Marked\n",
       "  Placebo 0.34523810 0.08333333 0.08333333\n",
       "  Treated 0.15476190 0.08333333 0.25000000"
      ]
     },
     "metadata": {},
     "output_type": "display_data"
    }
   ],
   "source": [
    "prop.table(mytable)"
   ]
  },
  {
   "cell_type": "code",
   "execution_count": 11,
   "id": "15b9f300",
   "metadata": {},
   "outputs": [
    {
     "data": {
      "text/html": [
       "<table class=\"dataframe\">\n",
       "<caption>A table: 3 × 4 of type dbl</caption>\n",
       "<thead>\n",
       "\t<tr><th></th><th scope=col>None</th><th scope=col>Some</th><th scope=col>Marked</th><th scope=col>Sum</th></tr>\n",
       "</thead>\n",
       "<tbody>\n",
       "\t<tr><th scope=row>Placebo</th><td>29</td><td> 7</td><td> 7</td><td>43</td></tr>\n",
       "\t<tr><th scope=row>Treated</th><td>13</td><td> 7</td><td>21</td><td>41</td></tr>\n",
       "\t<tr><th scope=row>Sum</th><td>42</td><td>14</td><td>28</td><td>84</td></tr>\n",
       "</tbody>\n",
       "</table>\n"
      ],
      "text/latex": [
       "A table: 3 × 4 of type dbl\n",
       "\\begin{tabular}{r|llll}\n",
       "  & None & Some & Marked & Sum\\\\\n",
       "\\hline\n",
       "\tPlacebo & 29 &  7 &  7 & 43\\\\\n",
       "\tTreated & 13 &  7 & 21 & 41\\\\\n",
       "\tSum & 42 & 14 & 28 & 84\\\\\n",
       "\\end{tabular}\n"
      ],
      "text/markdown": [
       "\n",
       "A table: 3 × 4 of type dbl\n",
       "\n",
       "| <!--/--> | None | Some | Marked | Sum |\n",
       "|---|---|---|---|---|\n",
       "| Placebo | 29 |  7 |  7 | 43 |\n",
       "| Treated | 13 |  7 | 21 | 41 |\n",
       "| Sum | 42 | 14 | 28 | 84 |\n",
       "\n"
      ],
      "text/plain": [
       "         Improved\n",
       "Treatment None Some Marked Sum\n",
       "  Placebo 29    7    7     43 \n",
       "  Treated 13    7   21     41 \n",
       "  Sum     42   14   28     84 "
      ]
     },
     "metadata": {},
     "output_type": "display_data"
    }
   ],
   "source": [
    "addmargins(mytable)"
   ]
  },
  {
   "cell_type": "code",
   "execution_count": 12,
   "id": "d7801dd2",
   "metadata": {},
   "outputs": [
    {
     "data": {
      "text/html": [
       "<table class=\"dataframe\">\n",
       "<caption>A table: 3 × 4 of type dbl</caption>\n",
       "<thead>\n",
       "\t<tr><th></th><th scope=col>None</th><th scope=col>Some</th><th scope=col>Marked</th><th scope=col>Sum</th></tr>\n",
       "</thead>\n",
       "<tbody>\n",
       "\t<tr><th scope=row>Placebo</th><td>0.3452381</td><td>0.08333333</td><td>0.08333333</td><td>0.5119048</td></tr>\n",
       "\t<tr><th scope=row>Treated</th><td>0.1547619</td><td>0.08333333</td><td>0.25000000</td><td>0.4880952</td></tr>\n",
       "\t<tr><th scope=row>Sum</th><td>0.5000000</td><td>0.16666667</td><td>0.33333333</td><td>1.0000000</td></tr>\n",
       "</tbody>\n",
       "</table>\n"
      ],
      "text/latex": [
       "A table: 3 × 4 of type dbl\n",
       "\\begin{tabular}{r|llll}\n",
       "  & None & Some & Marked & Sum\\\\\n",
       "\\hline\n",
       "\tPlacebo & 0.3452381 & 0.08333333 & 0.08333333 & 0.5119048\\\\\n",
       "\tTreated & 0.1547619 & 0.08333333 & 0.25000000 & 0.4880952\\\\\n",
       "\tSum & 0.5000000 & 0.16666667 & 0.33333333 & 1.0000000\\\\\n",
       "\\end{tabular}\n"
      ],
      "text/markdown": [
       "\n",
       "A table: 3 × 4 of type dbl\n",
       "\n",
       "| <!--/--> | None | Some | Marked | Sum |\n",
       "|---|---|---|---|---|\n",
       "| Placebo | 0.3452381 | 0.08333333 | 0.08333333 | 0.5119048 |\n",
       "| Treated | 0.1547619 | 0.08333333 | 0.25000000 | 0.4880952 |\n",
       "| Sum | 0.5000000 | 0.16666667 | 0.33333333 | 1.0000000 |\n",
       "\n"
      ],
      "text/plain": [
       "         Improved\n",
       "Treatment None      Some       Marked     Sum      \n",
       "  Placebo 0.3452381 0.08333333 0.08333333 0.5119048\n",
       "  Treated 0.1547619 0.08333333 0.25000000 0.4880952\n",
       "  Sum     0.5000000 0.16666667 0.33333333 1.0000000"
      ]
     },
     "metadata": {},
     "output_type": "display_data"
    }
   ],
   "source": [
    "addmargins(prop.table(mytable))"
   ]
  },
  {
   "cell_type": "code",
   "execution_count": 13,
   "id": "2636f57d",
   "metadata": {},
   "outputs": [
    {
     "data": {
      "text/html": [
       "<table class=\"dataframe\">\n",
       "<caption>A table: 2 × 4 of type dbl</caption>\n",
       "<thead>\n",
       "\t<tr><th></th><th scope=col>None</th><th scope=col>Some</th><th scope=col>Marked</th><th scope=col>Sum</th></tr>\n",
       "</thead>\n",
       "<tbody>\n",
       "\t<tr><th scope=row>Placebo</th><td>0.6744186</td><td>0.1627907</td><td>0.1627907</td><td>1</td></tr>\n",
       "\t<tr><th scope=row>Treated</th><td>0.3170732</td><td>0.1707317</td><td>0.5121951</td><td>1</td></tr>\n",
       "</tbody>\n",
       "</table>\n"
      ],
      "text/latex": [
       "A table: 2 × 4 of type dbl\n",
       "\\begin{tabular}{r|llll}\n",
       "  & None & Some & Marked & Sum\\\\\n",
       "\\hline\n",
       "\tPlacebo & 0.6744186 & 0.1627907 & 0.1627907 & 1\\\\\n",
       "\tTreated & 0.3170732 & 0.1707317 & 0.5121951 & 1\\\\\n",
       "\\end{tabular}\n"
      ],
      "text/markdown": [
       "\n",
       "A table: 2 × 4 of type dbl\n",
       "\n",
       "| <!--/--> | None | Some | Marked | Sum |\n",
       "|---|---|---|---|---|\n",
       "| Placebo | 0.6744186 | 0.1627907 | 0.1627907 | 1 |\n",
       "| Treated | 0.3170732 | 0.1707317 | 0.5121951 | 1 |\n",
       "\n"
      ],
      "text/plain": [
       "         Improved\n",
       "Treatment None      Some      Marked    Sum\n",
       "  Placebo 0.6744186 0.1627907 0.1627907 1  \n",
       "  Treated 0.3170732 0.1707317 0.5121951 1  "
      ]
     },
     "metadata": {},
     "output_type": "display_data"
    }
   ],
   "source": [
    "addmargins(prop.table(mytable,1),2)"
   ]
  },
  {
   "cell_type": "code",
   "execution_count": 14,
   "id": "397cb296",
   "metadata": {},
   "outputs": [
    {
     "data": {
      "text/html": [
       "<table class=\"dataframe\">\n",
       "<caption>A table: 3 × 3 of type dbl</caption>\n",
       "<thead>\n",
       "\t<tr><th></th><th scope=col>None</th><th scope=col>Some</th><th scope=col>Marked</th></tr>\n",
       "</thead>\n",
       "<tbody>\n",
       "\t<tr><th scope=row>Placebo</th><td>0.6904762</td><td>0.5</td><td>0.25</td></tr>\n",
       "\t<tr><th scope=row>Treated</th><td>0.3095238</td><td>0.5</td><td>0.75</td></tr>\n",
       "\t<tr><th scope=row>Sum</th><td>1.0000000</td><td>1.0</td><td>1.00</td></tr>\n",
       "</tbody>\n",
       "</table>\n"
      ],
      "text/latex": [
       "A table: 3 × 3 of type dbl\n",
       "\\begin{tabular}{r|lll}\n",
       "  & None & Some & Marked\\\\\n",
       "\\hline\n",
       "\tPlacebo & 0.6904762 & 0.5 & 0.25\\\\\n",
       "\tTreated & 0.3095238 & 0.5 & 0.75\\\\\n",
       "\tSum & 1.0000000 & 1.0 & 1.00\\\\\n",
       "\\end{tabular}\n"
      ],
      "text/markdown": [
       "\n",
       "A table: 3 × 3 of type dbl\n",
       "\n",
       "| <!--/--> | None | Some | Marked |\n",
       "|---|---|---|---|\n",
       "| Placebo | 0.6904762 | 0.5 | 0.25 |\n",
       "| Treated | 0.3095238 | 0.5 | 0.75 |\n",
       "| Sum | 1.0000000 | 1.0 | 1.00 |\n",
       "\n"
      ],
      "text/plain": [
       "         Improved\n",
       "Treatment None      Some Marked\n",
       "  Placebo 0.6904762 0.5  0.25  \n",
       "  Treated 0.3095238 0.5  0.75  \n",
       "  Sum     1.0000000 1.0  1.00  "
      ]
     },
     "metadata": {},
     "output_type": "display_data"
    }
   ],
   "source": [
    "addmargins(prop.table(mytable,2),1)"
   ]
  },
  {
   "cell_type": "markdown",
   "id": "0c0585ad",
   "metadata": {},
   "source": [
    "## Tests of independence"
   ]
  },
  {
   "cell_type": "code",
   "execution_count": 15,
   "id": "10c01574",
   "metadata": {},
   "outputs": [
    {
     "data": {
      "text/plain": [
       "         Improved\n",
       "Treatment None Some Marked\n",
       "  Placebo   29    7      7\n",
       "  Treated   13    7     21"
      ]
     },
     "metadata": {},
     "output_type": "display_data"
    }
   ],
   "source": [
    "# CHI-SQUARE TEST OF INDEPENDENCE\n",
    "\n",
    "mytable"
   ]
  },
  {
   "cell_type": "code",
   "execution_count": 16,
   "id": "2afb0a2c",
   "metadata": {},
   "outputs": [
    {
     "data": {
      "text/plain": [
       "\n",
       "\tPearson's Chi-squared test\n",
       "\n",
       "data:  mytable\n",
       "X-squared = 13.055, df = 2, p-value = 0.001463\n"
      ]
     },
     "metadata": {},
     "output_type": "display_data"
    }
   ],
   "source": [
    "chisq.test(mytable)"
   ]
  },
  {
   "cell_type": "code",
   "execution_count": 17,
   "id": "4dc1e982",
   "metadata": {},
   "outputs": [
    {
     "data": {
      "text/plain": [
       "        Sex\n",
       "Improved Female Male\n",
       "  None       25   17\n",
       "  Some       12    2\n",
       "  Marked     22    6"
      ]
     },
     "metadata": {},
     "output_type": "display_data"
    }
   ],
   "source": [
    "mytable <- xtabs( ~Improved + Sex, data=Arthritis)\n",
    "mytable"
   ]
  },
  {
   "cell_type": "code",
   "execution_count": 18,
   "id": "e064c08e",
   "metadata": {},
   "outputs": [
    {
     "name": "stderr",
     "output_type": "stream",
     "text": [
      "Warning message in chisq.test(mytable):\n",
      "“Chi-squared approximation may be incorrect”\n"
     ]
    },
    {
     "data": {
      "text/plain": [
       "\n",
       "\tPearson's Chi-squared test\n",
       "\n",
       "data:  mytable\n",
       "X-squared = 4.8407, df = 2, p-value = 0.08889\n"
      ]
     },
     "metadata": {},
     "output_type": "display_data"
    }
   ],
   "source": [
    "chisq.test(mytable)"
   ]
  },
  {
   "cell_type": "code",
   "execution_count": 19,
   "id": "cc85ec28",
   "metadata": {},
   "outputs": [
    {
     "data": {
      "text/plain": [
       "         Improved\n",
       "Treatment None Some Marked\n",
       "  Placebo   29    7      7\n",
       "  Treated   13    7     21"
      ]
     },
     "metadata": {},
     "output_type": "display_data"
    }
   ],
   "source": [
    "# FISHER’S EXACT TEST\n",
    "\n",
    "mytable <- xtabs(~Treatment+Improved, data = Arthritis)\n",
    "mytable"
   ]
  },
  {
   "cell_type": "code",
   "execution_count": 20,
   "id": "e78db589",
   "metadata": {},
   "outputs": [
    {
     "data": {
      "text/plain": [
       "\n",
       "\tFisher's Exact Test for Count Data\n",
       "\n",
       "data:  mytable\n",
       "p-value = 0.001393\n",
       "alternative hypothesis: two.sided\n"
      ]
     },
     "metadata": {},
     "output_type": "display_data"
    }
   ],
   "source": [
    "fisher.test(mytable)"
   ]
  },
  {
   "cell_type": "code",
   "execution_count": 21,
   "id": "f40b8d23",
   "metadata": {},
   "outputs": [
    {
     "data": {
      "text/plain": [
       ", , Sex = Female\n",
       "\n",
       "         Improved\n",
       "Treatment None Some Marked\n",
       "  Placebo   19    7      6\n",
       "  Treated    6    5     16\n",
       "\n",
       ", , Sex = Male\n",
       "\n",
       "         Improved\n",
       "Treatment None Some Marked\n",
       "  Placebo   10    0      1\n",
       "  Treated    7    2      5\n"
      ]
     },
     "metadata": {},
     "output_type": "display_data"
    }
   ],
   "source": [
    "# COCHRAN–MANTEL–HAENSZEL TEST\n",
    "\n",
    "mytable <- xtabs(~Treatment+Improved+Sex,data = Arthritis)\n",
    "mytable"
   ]
  },
  {
   "cell_type": "code",
   "execution_count": 22,
   "id": "42baf983",
   "metadata": {},
   "outputs": [
    {
     "data": {
      "text/plain": [
       "\n",
       "\tCochran-Mantel-Haenszel test\n",
       "\n",
       "data:  mytable\n",
       "Cochran-Mantel-Haenszel M^2 = 14.632, df = 2, p-value = 0.0006647\n"
      ]
     },
     "metadata": {},
     "output_type": "display_data"
    }
   ],
   "source": [
    "mantelhaen.test(mytable)"
   ]
  },
  {
   "cell_type": "markdown",
   "id": "b6251531",
   "metadata": {},
   "source": [
    "## Measures of association"
   ]
  },
  {
   "cell_type": "code",
   "execution_count": 23,
   "id": "bea5c9e3",
   "metadata": {},
   "outputs": [
    {
     "data": {
      "text/plain": [
       "                    X^2 df  P(> X^2)\n",
       "Likelihood Ratio 13.530  2 0.0011536\n",
       "Pearson          13.055  2 0.0014626\n",
       "\n",
       "Phi-Coefficient   : NA \n",
       "Contingency Coeff.: 0.367 \n",
       "Cramer's V        : 0.394 "
      ]
     },
     "metadata": {},
     "output_type": "display_data"
    }
   ],
   "source": [
    "mytable <- xtabs(~Treatment+Improved, data = Arthritis)\n",
    "assocstats(mytable)"
   ]
  },
  {
   "cell_type": "markdown",
   "id": "755629bb",
   "metadata": {},
   "source": [
    "# 2. Correlations"
   ]
  },
  {
   "cell_type": "markdown",
   "id": "863044b1",
   "metadata": {},
   "source": [
    "## Type of correlations\n",
    "### PEARSON, SPEARMAN, AND KENDALL CORRELATIONS\n",
    "The Pearson product-moment correlation assesses the degree of linear relationship\n",
    "between two quantitative variables. Spearman’s rank-order correlation coefficient assesses the degree of relationship between two rank-ordered variables. Kendall’s tau\n",
    "is also a nonparametric measure of rank correlation."
   ]
  },
  {
   "cell_type": "code",
   "execution_count": 24,
   "id": "691cea11",
   "metadata": {},
   "outputs": [
    {
     "data": {
      "text/html": [
       "<table class=\"dataframe\">\n",
       "<caption>A matrix: 6 × 6 of type dbl</caption>\n",
       "<thead>\n",
       "\t<tr><th></th><th scope=col>Population</th><th scope=col>Income</th><th scope=col>Illiteracy</th><th scope=col>Life Exp</th><th scope=col>Murder</th><th scope=col>HS Grad</th></tr>\n",
       "</thead>\n",
       "<tbody>\n",
       "\t<tr><th scope=row>Alabama</th><td> 3615</td><td>3624</td><td>2.1</td><td>69.05</td><td>15.1</td><td>41.3</td></tr>\n",
       "\t<tr><th scope=row>Alaska</th><td>  365</td><td>6315</td><td>1.5</td><td>69.31</td><td>11.3</td><td>66.7</td></tr>\n",
       "\t<tr><th scope=row>Arizona</th><td> 2212</td><td>4530</td><td>1.8</td><td>70.55</td><td> 7.8</td><td>58.1</td></tr>\n",
       "\t<tr><th scope=row>Arkansas</th><td> 2110</td><td>3378</td><td>1.9</td><td>70.66</td><td>10.1</td><td>39.9</td></tr>\n",
       "\t<tr><th scope=row>California</th><td>21198</td><td>5114</td><td>1.1</td><td>71.71</td><td>10.3</td><td>62.6</td></tr>\n",
       "\t<tr><th scope=row>Colorado</th><td> 2541</td><td>4884</td><td>0.7</td><td>72.06</td><td> 6.8</td><td>63.9</td></tr>\n",
       "</tbody>\n",
       "</table>\n"
      ],
      "text/latex": [
       "A matrix: 6 × 6 of type dbl\n",
       "\\begin{tabular}{r|llllll}\n",
       "  & Population & Income & Illiteracy & Life Exp & Murder & HS Grad\\\\\n",
       "\\hline\n",
       "\tAlabama &  3615 & 3624 & 2.1 & 69.05 & 15.1 & 41.3\\\\\n",
       "\tAlaska &   365 & 6315 & 1.5 & 69.31 & 11.3 & 66.7\\\\\n",
       "\tArizona &  2212 & 4530 & 1.8 & 70.55 &  7.8 & 58.1\\\\\n",
       "\tArkansas &  2110 & 3378 & 1.9 & 70.66 & 10.1 & 39.9\\\\\n",
       "\tCalifornia & 21198 & 5114 & 1.1 & 71.71 & 10.3 & 62.6\\\\\n",
       "\tColorado &  2541 & 4884 & 0.7 & 72.06 &  6.8 & 63.9\\\\\n",
       "\\end{tabular}\n"
      ],
      "text/markdown": [
       "\n",
       "A matrix: 6 × 6 of type dbl\n",
       "\n",
       "| <!--/--> | Population | Income | Illiteracy | Life Exp | Murder | HS Grad |\n",
       "|---|---|---|---|---|---|---|\n",
       "| Alabama |  3615 | 3624 | 2.1 | 69.05 | 15.1 | 41.3 |\n",
       "| Alaska |   365 | 6315 | 1.5 | 69.31 | 11.3 | 66.7 |\n",
       "| Arizona |  2212 | 4530 | 1.8 | 70.55 |  7.8 | 58.1 |\n",
       "| Arkansas |  2110 | 3378 | 1.9 | 70.66 | 10.1 | 39.9 |\n",
       "| California | 21198 | 5114 | 1.1 | 71.71 | 10.3 | 62.6 |\n",
       "| Colorado |  2541 | 4884 | 0.7 | 72.06 |  6.8 | 63.9 |\n",
       "\n"
      ],
      "text/plain": [
       "           Population Income Illiteracy Life Exp Murder HS Grad\n",
       "Alabama     3615      3624   2.1        69.05    15.1   41.3   \n",
       "Alaska       365      6315   1.5        69.31    11.3   66.7   \n",
       "Arizona     2212      4530   1.8        70.55     7.8   58.1   \n",
       "Arkansas    2110      3378   1.9        70.66    10.1   39.9   \n",
       "California 21198      5114   1.1        71.71    10.3   62.6   \n",
       "Colorado    2541      4884   0.7        72.06     6.8   63.9   "
      ]
     },
     "metadata": {},
     "output_type": "display_data"
    }
   ],
   "source": [
    "# Covariances and correlations\n",
    "states <- state.x77[,1:6]\n",
    "head(states)"
   ]
  },
  {
   "cell_type": "code",
   "execution_count": 25,
   "id": "b9aacaa3",
   "metadata": {},
   "outputs": [
    {
     "data": {
      "text/html": [
       "<table class=\"dataframe\">\n",
       "<caption>A matrix: 6 × 6 of type dbl</caption>\n",
       "<thead>\n",
       "\t<tr><th></th><th scope=col>Population</th><th scope=col>Income</th><th scope=col>Illiteracy</th><th scope=col>Life Exp</th><th scope=col>Murder</th><th scope=col>HS Grad</th></tr>\n",
       "</thead>\n",
       "<tbody>\n",
       "\t<tr><th scope=row>Population</th><td>19931683.7588</td><td>571229.7796</td><td> 292.8679592</td><td>-407.8424612</td><td>5663.523714</td><td>-3551.509551</td></tr>\n",
       "\t<tr><th scope=row>Income</th><td>  571229.7796</td><td>377573.3061</td><td>-163.7020408</td><td> 280.6631837</td><td>-521.894286</td><td> 3076.768980</td></tr>\n",
       "\t<tr><th scope=row>Illiteracy</th><td>     292.8680</td><td>  -163.7020</td><td>   0.3715306</td><td>  -0.4815122</td><td>   1.581776</td><td>   -3.235469</td></tr>\n",
       "\t<tr><th scope=row>Life Exp</th><td>    -407.8425</td><td>   280.6632</td><td>  -0.4815122</td><td>   1.8020204</td><td>  -3.869480</td><td>    6.312685</td></tr>\n",
       "\t<tr><th scope=row>Murder</th><td>    5663.5237</td><td>  -521.8943</td><td>   1.5817755</td><td>  -3.8694804</td><td>  13.627465</td><td>  -14.549616</td></tr>\n",
       "\t<tr><th scope=row>HS Grad</th><td>   -3551.5096</td><td>  3076.7690</td><td>  -3.2354694</td><td>   6.3126849</td><td> -14.549616</td><td>   65.237894</td></tr>\n",
       "</tbody>\n",
       "</table>\n"
      ],
      "text/latex": [
       "A matrix: 6 × 6 of type dbl\n",
       "\\begin{tabular}{r|llllll}\n",
       "  & Population & Income & Illiteracy & Life Exp & Murder & HS Grad\\\\\n",
       "\\hline\n",
       "\tPopulation & 19931683.7588 & 571229.7796 &  292.8679592 & -407.8424612 & 5663.523714 & -3551.509551\\\\\n",
       "\tIncome &   571229.7796 & 377573.3061 & -163.7020408 &  280.6631837 & -521.894286 &  3076.768980\\\\\n",
       "\tIlliteracy &      292.8680 &   -163.7020 &    0.3715306 &   -0.4815122 &    1.581776 &    -3.235469\\\\\n",
       "\tLife Exp &     -407.8425 &    280.6632 &   -0.4815122 &    1.8020204 &   -3.869480 &     6.312685\\\\\n",
       "\tMurder &     5663.5237 &   -521.8943 &    1.5817755 &   -3.8694804 &   13.627465 &   -14.549616\\\\\n",
       "\tHS Grad &    -3551.5096 &   3076.7690 &   -3.2354694 &    6.3126849 &  -14.549616 &    65.237894\\\\\n",
       "\\end{tabular}\n"
      ],
      "text/markdown": [
       "\n",
       "A matrix: 6 × 6 of type dbl\n",
       "\n",
       "| <!--/--> | Population | Income | Illiteracy | Life Exp | Murder | HS Grad |\n",
       "|---|---|---|---|---|---|---|\n",
       "| Population | 19931683.7588 | 571229.7796 |  292.8679592 | -407.8424612 | 5663.523714 | -3551.509551 |\n",
       "| Income |   571229.7796 | 377573.3061 | -163.7020408 |  280.6631837 | -521.894286 |  3076.768980 |\n",
       "| Illiteracy |      292.8680 |   -163.7020 |    0.3715306 |   -0.4815122 |    1.581776 |    -3.235469 |\n",
       "| Life Exp |     -407.8425 |    280.6632 |   -0.4815122 |    1.8020204 |   -3.869480 |     6.312685 |\n",
       "| Murder |     5663.5237 |   -521.8943 |    1.5817755 |   -3.8694804 |   13.627465 |   -14.549616 |\n",
       "| HS Grad |    -3551.5096 |   3076.7690 |   -3.2354694 |    6.3126849 |  -14.549616 |    65.237894 |\n",
       "\n"
      ],
      "text/plain": [
       "           Population    Income      Illiteracy   Life Exp     Murder     \n",
       "Population 19931683.7588 571229.7796  292.8679592 -407.8424612 5663.523714\n",
       "Income       571229.7796 377573.3061 -163.7020408  280.6631837 -521.894286\n",
       "Illiteracy      292.8680   -163.7020    0.3715306   -0.4815122    1.581776\n",
       "Life Exp       -407.8425    280.6632   -0.4815122    1.8020204   -3.869480\n",
       "Murder         5663.5237   -521.8943    1.5817755   -3.8694804   13.627465\n",
       "HS Grad       -3551.5096   3076.7690   -3.2354694    6.3126849  -14.549616\n",
       "           HS Grad     \n",
       "Population -3551.509551\n",
       "Income      3076.768980\n",
       "Illiteracy    -3.235469\n",
       "Life Exp       6.312685\n",
       "Murder       -14.549616\n",
       "HS Grad       65.237894"
      ]
     },
     "metadata": {},
     "output_type": "display_data"
    }
   ],
   "source": [
    "cov(states)"
   ]
  },
  {
   "cell_type": "code",
   "execution_count": 26,
   "id": "9521ebc5",
   "metadata": {},
   "outputs": [
    {
     "data": {
      "text/html": [
       "<table class=\"dataframe\">\n",
       "<caption>A matrix: 6 × 6 of type dbl</caption>\n",
       "<thead>\n",
       "\t<tr><th></th><th scope=col>Population</th><th scope=col>Income</th><th scope=col>Illiteracy</th><th scope=col>Life Exp</th><th scope=col>Murder</th><th scope=col>HS Grad</th></tr>\n",
       "</thead>\n",
       "<tbody>\n",
       "\t<tr><th scope=row>Population</th><td> 1.00000000</td><td> 0.2082276</td><td> 0.1076224</td><td>-0.06805195</td><td> 0.3436428</td><td>-0.09848975</td></tr>\n",
       "\t<tr><th scope=row>Income</th><td> 0.20822756</td><td> 1.0000000</td><td>-0.4370752</td><td> 0.34025534</td><td>-0.2300776</td><td> 0.61993232</td></tr>\n",
       "\t<tr><th scope=row>Illiteracy</th><td> 0.10762237</td><td>-0.4370752</td><td> 1.0000000</td><td>-0.58847793</td><td> 0.7029752</td><td>-0.65718861</td></tr>\n",
       "\t<tr><th scope=row>Life Exp</th><td>-0.06805195</td><td> 0.3402553</td><td>-0.5884779</td><td> 1.00000000</td><td>-0.7808458</td><td> 0.58221620</td></tr>\n",
       "\t<tr><th scope=row>Murder</th><td> 0.34364275</td><td>-0.2300776</td><td> 0.7029752</td><td>-0.78084575</td><td> 1.0000000</td><td>-0.48797102</td></tr>\n",
       "\t<tr><th scope=row>HS Grad</th><td>-0.09848975</td><td> 0.6199323</td><td>-0.6571886</td><td> 0.58221620</td><td>-0.4879710</td><td> 1.00000000</td></tr>\n",
       "</tbody>\n",
       "</table>\n"
      ],
      "text/latex": [
       "A matrix: 6 × 6 of type dbl\n",
       "\\begin{tabular}{r|llllll}\n",
       "  & Population & Income & Illiteracy & Life Exp & Murder & HS Grad\\\\\n",
       "\\hline\n",
       "\tPopulation &  1.00000000 &  0.2082276 &  0.1076224 & -0.06805195 &  0.3436428 & -0.09848975\\\\\n",
       "\tIncome &  0.20822756 &  1.0000000 & -0.4370752 &  0.34025534 & -0.2300776 &  0.61993232\\\\\n",
       "\tIlliteracy &  0.10762237 & -0.4370752 &  1.0000000 & -0.58847793 &  0.7029752 & -0.65718861\\\\\n",
       "\tLife Exp & -0.06805195 &  0.3402553 & -0.5884779 &  1.00000000 & -0.7808458 &  0.58221620\\\\\n",
       "\tMurder &  0.34364275 & -0.2300776 &  0.7029752 & -0.78084575 &  1.0000000 & -0.48797102\\\\\n",
       "\tHS Grad & -0.09848975 &  0.6199323 & -0.6571886 &  0.58221620 & -0.4879710 &  1.00000000\\\\\n",
       "\\end{tabular}\n"
      ],
      "text/markdown": [
       "\n",
       "A matrix: 6 × 6 of type dbl\n",
       "\n",
       "| <!--/--> | Population | Income | Illiteracy | Life Exp | Murder | HS Grad |\n",
       "|---|---|---|---|---|---|---|\n",
       "| Population |  1.00000000 |  0.2082276 |  0.1076224 | -0.06805195 |  0.3436428 | -0.09848975 |\n",
       "| Income |  0.20822756 |  1.0000000 | -0.4370752 |  0.34025534 | -0.2300776 |  0.61993232 |\n",
       "| Illiteracy |  0.10762237 | -0.4370752 |  1.0000000 | -0.58847793 |  0.7029752 | -0.65718861 |\n",
       "| Life Exp | -0.06805195 |  0.3402553 | -0.5884779 |  1.00000000 | -0.7808458 |  0.58221620 |\n",
       "| Murder |  0.34364275 | -0.2300776 |  0.7029752 | -0.78084575 |  1.0000000 | -0.48797102 |\n",
       "| HS Grad | -0.09848975 |  0.6199323 | -0.6571886 |  0.58221620 | -0.4879710 |  1.00000000 |\n",
       "\n"
      ],
      "text/plain": [
       "           Population  Income     Illiteracy Life Exp    Murder     HS Grad    \n",
       "Population  1.00000000  0.2082276  0.1076224 -0.06805195  0.3436428 -0.09848975\n",
       "Income      0.20822756  1.0000000 -0.4370752  0.34025534 -0.2300776  0.61993232\n",
       "Illiteracy  0.10762237 -0.4370752  1.0000000 -0.58847793  0.7029752 -0.65718861\n",
       "Life Exp   -0.06805195  0.3402553 -0.5884779  1.00000000 -0.7808458  0.58221620\n",
       "Murder      0.34364275 -0.2300776  0.7029752 -0.78084575  1.0000000 -0.48797102\n",
       "HS Grad    -0.09848975  0.6199323 -0.6571886  0.58221620 -0.4879710  1.00000000"
      ]
     },
     "metadata": {},
     "output_type": "display_data"
    }
   ],
   "source": [
    "cor(states)"
   ]
  },
  {
   "cell_type": "code",
   "execution_count": 27,
   "id": "e3720c40",
   "metadata": {},
   "outputs": [
    {
     "data": {
      "text/html": [
       "<table class=\"dataframe\">\n",
       "<caption>A matrix: 6 × 6 of type dbl</caption>\n",
       "<thead>\n",
       "\t<tr><th></th><th scope=col>Population</th><th scope=col>Income</th><th scope=col>Illiteracy</th><th scope=col>Life Exp</th><th scope=col>Murder</th><th scope=col>HS Grad</th></tr>\n",
       "</thead>\n",
       "<tbody>\n",
       "\t<tr><th scope=row>Population</th><td> 1.0000000</td><td> 0.1246098</td><td> 0.3130496</td><td>-0.1040171</td><td> 0.3457401</td><td>-0.3833649</td></tr>\n",
       "\t<tr><th scope=row>Income</th><td> 0.1246098</td><td> 1.0000000</td><td>-0.3145948</td><td> 0.3241050</td><td>-0.2174623</td><td> 0.5104809</td></tr>\n",
       "\t<tr><th scope=row>Illiteracy</th><td> 0.3130496</td><td>-0.3145948</td><td> 1.0000000</td><td>-0.5553735</td><td> 0.6723592</td><td>-0.6545396</td></tr>\n",
       "\t<tr><th scope=row>Life Exp</th><td>-0.1040171</td><td> 0.3241050</td><td>-0.5553735</td><td> 1.0000000</td><td>-0.7802406</td><td> 0.5239410</td></tr>\n",
       "\t<tr><th scope=row>Murder</th><td> 0.3457401</td><td>-0.2174623</td><td> 0.6723592</td><td>-0.7802406</td><td> 1.0000000</td><td>-0.4367330</td></tr>\n",
       "\t<tr><th scope=row>HS Grad</th><td>-0.3833649</td><td> 0.5104809</td><td>-0.6545396</td><td> 0.5239410</td><td>-0.4367330</td><td> 1.0000000</td></tr>\n",
       "</tbody>\n",
       "</table>\n"
      ],
      "text/latex": [
       "A matrix: 6 × 6 of type dbl\n",
       "\\begin{tabular}{r|llllll}\n",
       "  & Population & Income & Illiteracy & Life Exp & Murder & HS Grad\\\\\n",
       "\\hline\n",
       "\tPopulation &  1.0000000 &  0.1246098 &  0.3130496 & -0.1040171 &  0.3457401 & -0.3833649\\\\\n",
       "\tIncome &  0.1246098 &  1.0000000 & -0.3145948 &  0.3241050 & -0.2174623 &  0.5104809\\\\\n",
       "\tIlliteracy &  0.3130496 & -0.3145948 &  1.0000000 & -0.5553735 &  0.6723592 & -0.6545396\\\\\n",
       "\tLife Exp & -0.1040171 &  0.3241050 & -0.5553735 &  1.0000000 & -0.7802406 &  0.5239410\\\\\n",
       "\tMurder &  0.3457401 & -0.2174623 &  0.6723592 & -0.7802406 &  1.0000000 & -0.4367330\\\\\n",
       "\tHS Grad & -0.3833649 &  0.5104809 & -0.6545396 &  0.5239410 & -0.4367330 &  1.0000000\\\\\n",
       "\\end{tabular}\n"
      ],
      "text/markdown": [
       "\n",
       "A matrix: 6 × 6 of type dbl\n",
       "\n",
       "| <!--/--> | Population | Income | Illiteracy | Life Exp | Murder | HS Grad |\n",
       "|---|---|---|---|---|---|---|\n",
       "| Population |  1.0000000 |  0.1246098 |  0.3130496 | -0.1040171 |  0.3457401 | -0.3833649 |\n",
       "| Income |  0.1246098 |  1.0000000 | -0.3145948 |  0.3241050 | -0.2174623 |  0.5104809 |\n",
       "| Illiteracy |  0.3130496 | -0.3145948 |  1.0000000 | -0.5553735 |  0.6723592 | -0.6545396 |\n",
       "| Life Exp | -0.1040171 |  0.3241050 | -0.5553735 |  1.0000000 | -0.7802406 |  0.5239410 |\n",
       "| Murder |  0.3457401 | -0.2174623 |  0.6723592 | -0.7802406 |  1.0000000 | -0.4367330 |\n",
       "| HS Grad | -0.3833649 |  0.5104809 | -0.6545396 |  0.5239410 | -0.4367330 |  1.0000000 |\n",
       "\n"
      ],
      "text/plain": [
       "           Population Income     Illiteracy Life Exp   Murder     HS Grad   \n",
       "Population  1.0000000  0.1246098  0.3130496 -0.1040171  0.3457401 -0.3833649\n",
       "Income      0.1246098  1.0000000 -0.3145948  0.3241050 -0.2174623  0.5104809\n",
       "Illiteracy  0.3130496 -0.3145948  1.0000000 -0.5553735  0.6723592 -0.6545396\n",
       "Life Exp   -0.1040171  0.3241050 -0.5553735  1.0000000 -0.7802406  0.5239410\n",
       "Murder      0.3457401 -0.2174623  0.6723592 -0.7802406  1.0000000 -0.4367330\n",
       "HS Grad    -0.3833649  0.5104809 -0.6545396  0.5239410 -0.4367330  1.0000000"
      ]
     },
     "metadata": {},
     "output_type": "display_data"
    }
   ],
   "source": [
    "cor(states, method = \"spearman\")"
   ]
  },
  {
   "cell_type": "code",
   "execution_count": 28,
   "id": "05c1f3f6",
   "metadata": {},
   "outputs": [
    {
     "data": {
      "text/html": [
       "<table class=\"dataframe\">\n",
       "<caption>A matrix: 3 × 2 of type dbl</caption>\n",
       "<thead>\n",
       "\t<tr><th></th><th scope=col>Life Exp</th><th scope=col>Murder</th></tr>\n",
       "</thead>\n",
       "<tbody>\n",
       "\t<tr><th scope=row>Population</th><td>-0.06805195</td><td> 0.3436428</td></tr>\n",
       "\t<tr><th scope=row>Income</th><td> 0.34025534</td><td>-0.2300776</td></tr>\n",
       "\t<tr><th scope=row>Illiteracy</th><td>-0.58847793</td><td> 0.7029752</td></tr>\n",
       "</tbody>\n",
       "</table>\n"
      ],
      "text/latex": [
       "A matrix: 3 × 2 of type dbl\n",
       "\\begin{tabular}{r|ll}\n",
       "  & Life Exp & Murder\\\\\n",
       "\\hline\n",
       "\tPopulation & -0.06805195 &  0.3436428\\\\\n",
       "\tIncome &  0.34025534 & -0.2300776\\\\\n",
       "\tIlliteracy & -0.58847793 &  0.7029752\\\\\n",
       "\\end{tabular}\n"
      ],
      "text/markdown": [
       "\n",
       "A matrix: 3 × 2 of type dbl\n",
       "\n",
       "| <!--/--> | Life Exp | Murder |\n",
       "|---|---|---|\n",
       "| Population | -0.06805195 |  0.3436428 |\n",
       "| Income |  0.34025534 | -0.2300776 |\n",
       "| Illiteracy | -0.58847793 |  0.7029752 |\n",
       "\n"
      ],
      "text/plain": [
       "           Life Exp    Murder    \n",
       "Population -0.06805195  0.3436428\n",
       "Income      0.34025534 -0.2300776\n",
       "Illiteracy -0.58847793  0.7029752"
      ]
     },
     "metadata": {},
     "output_type": "display_data"
    }
   ],
   "source": [
    "x <- states[,c(\"Population\",\"Income\",\"Illiteracy\")]\n",
    "y <- states[,c(\"Life Exp\",\"Murder\")]\n",
    "cor(x,y)"
   ]
  },
  {
   "cell_type": "markdown",
   "id": "20084eda",
   "metadata": {},
   "source": [
    "### PARTIAL CORRELATIONS"
   ]
  },
  {
   "cell_type": "code",
   "execution_count": 29,
   "id": "730ab949",
   "metadata": {},
   "outputs": [
    {
     "data": {
      "text/html": [
       "<style>\n",
       ".list-inline {list-style: none; margin:0; padding: 0}\n",
       ".list-inline>li {display: inline-block}\n",
       ".list-inline>li:not(:last-child)::after {content: \"\\00b7\"; padding: 0 .5ex}\n",
       "</style>\n",
       "<ol class=list-inline><li>'Population'</li><li>'Income'</li><li>'Illiteracy'</li><li>'Life Exp'</li><li>'Murder'</li><li>'HS Grad'</li></ol>\n"
      ],
      "text/latex": [
       "\\begin{enumerate*}\n",
       "\\item 'Population'\n",
       "\\item 'Income'\n",
       "\\item 'Illiteracy'\n",
       "\\item 'Life Exp'\n",
       "\\item 'Murder'\n",
       "\\item 'HS Grad'\n",
       "\\end{enumerate*}\n"
      ],
      "text/markdown": [
       "1. 'Population'\n",
       "2. 'Income'\n",
       "3. 'Illiteracy'\n",
       "4. 'Life Exp'\n",
       "5. 'Murder'\n",
       "6. 'HS Grad'\n",
       "\n",
       "\n"
      ],
      "text/plain": [
       "[1] \"Population\" \"Income\"     \"Illiteracy\" \"Life Exp\"   \"Murder\"    \n",
       "[6] \"HS Grad\"   "
      ]
     },
     "metadata": {},
     "output_type": "display_data"
    }
   ],
   "source": [
    "library(ggm)\n",
    "colnames(states)"
   ]
  },
  {
   "cell_type": "code",
   "execution_count": 30,
   "id": "a89980f3-c278-4c3f-ac12-1447c1e88daf",
   "metadata": {},
   "outputs": [
    {
     "data": {
      "text/html": [
       "0.346272371372947"
      ],
      "text/latex": [
       "0.346272371372947"
      ],
      "text/markdown": [
       "0.346272371372947"
      ],
      "text/plain": [
       "[1] 0.3462724"
      ]
     },
     "metadata": {},
     "output_type": "display_data"
    }
   ],
   "source": [
    "pcor(c(1,5,2,3,6), cov(states))"
   ]
  },
  {
   "cell_type": "markdown",
   "id": "4bd4e01b",
   "metadata": {},
   "source": [
    "### Testing correlations for significance"
   ]
  },
  {
   "cell_type": "code",
   "execution_count": 31,
   "id": "c8b07279",
   "metadata": {},
   "outputs": [
    {
     "data": {
      "text/plain": [
       "\n",
       "\tPearson's product-moment correlation\n",
       "\n",
       "data:  states[, 3] and states[, 5]\n",
       "t = 6.8479, df = 48, p-value = 1.258e-08\n",
       "alternative hypothesis: true correlation is not equal to 0\n",
       "95 percent confidence interval:\n",
       " 0.5279280 0.8207295\n",
       "sample estimates:\n",
       "      cor \n",
       "0.7029752 \n"
      ]
     },
     "metadata": {},
     "output_type": "display_data"
    }
   ],
   "source": [
    "# Testing a correlation coefficient for significance\n",
    "\n",
    "cor.test(x=states[,3],y = states[,5])"
   ]
  },
  {
   "cell_type": "code",
   "execution_count": 32,
   "id": "e17c2d71",
   "metadata": {},
   "outputs": [
    {
     "data": {
      "text/plain": [
       "Call:corr.test(x = states, use = \"complete\")\n",
       "Correlation matrix \n",
       "           Population Income Illiteracy Life Exp Murder HS Grad\n",
       "Population       1.00   0.21       0.11    -0.07   0.34   -0.10\n",
       "Income           0.21   1.00      -0.44     0.34  -0.23    0.62\n",
       "Illiteracy       0.11  -0.44       1.00    -0.59   0.70   -0.66\n",
       "Life Exp        -0.07   0.34      -0.59     1.00  -0.78    0.58\n",
       "Murder           0.34  -0.23       0.70    -0.78   1.00   -0.49\n",
       "HS Grad         -0.10   0.62      -0.66     0.58  -0.49    1.00\n",
       "Sample Size \n",
       "[1] 50\n",
       "Probability values (Entries above the diagonal are adjusted for multiple tests.) \n",
       "           Population Income Illiteracy Life Exp Murder HS Grad\n",
       "Population       0.00   0.59       1.00      1.0   0.10       1\n",
       "Income           0.15   0.00       0.01      0.1   0.54       0\n",
       "Illiteracy       0.46   0.00       0.00      0.0   0.00       0\n",
       "Life Exp         0.64   0.02       0.00      0.0   0.00       0\n",
       "Murder           0.01   0.11       0.00      0.0   0.00       0\n",
       "HS Grad          0.50   0.00       0.00      0.0   0.00       0\n",
       "\n",
       " To see confidence intervals of the correlations, print with the short=FALSE option"
      ]
     },
     "metadata": {},
     "output_type": "display_data"
    }
   ],
   "source": [
    "library(psych)\n",
    "corr.test(states, use = \"complete\")"
   ]
  },
  {
   "cell_type": "markdown",
   "id": "89cd56ad",
   "metadata": {},
   "source": [
    "# 4.T-tests"
   ]
  },
  {
   "cell_type": "markdown",
   "id": "d7964673",
   "metadata": {},
   "source": [
    "## Independent t-test"
   ]
  },
  {
   "cell_type": "code",
   "execution_count": 33,
   "id": "9ee83140",
   "metadata": {},
   "outputs": [
    {
     "data": {
      "text/plain": [
       "\n",
       "\tWelch Two Sample t-test\n",
       "\n",
       "data:  Prob by So\n",
       "t = -3.8954, df = 24.925, p-value = 0.0006506\n",
       "alternative hypothesis: true difference in means between group 0 and group 1 is not equal to 0\n",
       "95 percent confidence interval:\n",
       " -0.03852569 -0.01187439\n",
       "sample estimates:\n",
       "mean in group 0 mean in group 1 \n",
       "     0.03851265      0.06371269 \n"
      ]
     },
     "metadata": {},
     "output_type": "display_data"
    }
   ],
   "source": [
    "library(MASS)\n",
    "t.test(Prob ~ So, data = UScrime)"
   ]
  },
  {
   "cell_type": "code",
   "execution_count": 34,
   "id": "22c58158",
   "metadata": {},
   "outputs": [
    {
     "data": {
      "text/html": [
       "<table class=\"dataframe\">\n",
       "<caption>A matrix: 2 × 2 of type dbl</caption>\n",
       "<thead>\n",
       "\t<tr><th></th><th scope=col>U1</th><th scope=col>U2</th></tr>\n",
       "</thead>\n",
       "<tbody>\n",
       "\t<tr><th scope=row>mean</th><td>95.46809</td><td>33.97872</td></tr>\n",
       "\t<tr><th scope=row>sd</th><td>18.02878</td><td> 8.44545</td></tr>\n",
       "</tbody>\n",
       "</table>\n"
      ],
      "text/latex": [
       "A matrix: 2 × 2 of type dbl\n",
       "\\begin{tabular}{r|ll}\n",
       "  & U1 & U2\\\\\n",
       "\\hline\n",
       "\tmean & 95.46809 & 33.97872\\\\\n",
       "\tsd & 18.02878 &  8.44545\\\\\n",
       "\\end{tabular}\n"
      ],
      "text/markdown": [
       "\n",
       "A matrix: 2 × 2 of type dbl\n",
       "\n",
       "| <!--/--> | U1 | U2 |\n",
       "|---|---|---|\n",
       "| mean | 95.46809 | 33.97872 |\n",
       "| sd | 18.02878 |  8.44545 |\n",
       "\n"
      ],
      "text/plain": [
       "     U1       U2      \n",
       "mean 95.46809 33.97872\n",
       "sd   18.02878  8.44545"
      ]
     },
     "metadata": {},
     "output_type": "display_data"
    }
   ],
   "source": [
    "sapply(UScrime[c(\"U1\",\"U2\")], function(x)(c(mean=mean(x),sd=sd(x))))"
   ]
  },
  {
   "cell_type": "markdown",
   "id": "75c62c98",
   "metadata": {},
   "source": [
    "## Dependent t-test"
   ]
  },
  {
   "cell_type": "code",
   "execution_count": 35,
   "id": "c4046228",
   "metadata": {},
   "outputs": [
    {
     "data": {
      "text/plain": [
       "\n",
       "\tPaired t-test\n",
       "\n",
       "data:  UScrime$U1 and UScrime$U2\n",
       "t = 32.407, df = 46, p-value < 2.2e-16\n",
       "alternative hypothesis: true difference in means is not equal to 0\n",
       "95 percent confidence interval:\n",
       " 57.67003 65.30870\n",
       "sample estimates:\n",
       "mean of the differences \n",
       "               61.48936 \n"
      ]
     },
     "metadata": {},
     "output_type": "display_data"
    }
   ],
   "source": [
    "t.test(UScrime$U1,UScrime$U2,paired = TRUE)"
   ]
  },
  {
   "cell_type": "markdown",
   "id": "d887a4e0",
   "metadata": {},
   "source": [
    "# 4.Nonparametric tests of group differences"
   ]
  },
  {
   "cell_type": "markdown",
   "id": "a9a10f78",
   "metadata": {},
   "source": [
    "## Comparing two groups"
   ]
  },
  {
   "cell_type": "code",
   "execution_count": 36,
   "id": "1c4150c8",
   "metadata": {},
   "outputs": [
    {
     "data": {
      "text/plain": [
       "So: 0\n",
       "[1] 0.038201\n",
       "------------------------------------------------------------ \n",
       "So: 1\n",
       "[1] 0.055552"
      ]
     },
     "metadata": {},
     "output_type": "display_data"
    }
   ],
   "source": [
    "with(UScrime, by(Prob, So, median))"
   ]
  },
  {
   "cell_type": "code",
   "execution_count": 37,
   "id": "fa812458",
   "metadata": {},
   "outputs": [
    {
     "data": {
      "text/plain": [
       "\n",
       "\tWilcoxon rank sum exact test\n",
       "\n",
       "data:  Prob by So\n",
       "W = 81, p-value = 8.488e-05\n",
       "alternative hypothesis: true location shift is not equal to 0\n"
      ]
     },
     "metadata": {},
     "output_type": "display_data"
    }
   ],
   "source": [
    "wilcox.test(Prob ~ So, data = UScrime)"
   ]
  },
  {
   "cell_type": "code",
   "execution_count": 38,
   "id": "55e59630",
   "metadata": {},
   "outputs": [
    {
     "data": {
      "text/html": [
       "<style>\n",
       ".dl-inline {width: auto; margin:0; padding: 0}\n",
       ".dl-inline>dt, .dl-inline>dd {float: none; width: auto; display: inline-block}\n",
       ".dl-inline>dt::after {content: \":\\0020\"; padding-right: .5ex}\n",
       ".dl-inline>dt:not(:first-of-type) {padding-left: .5ex}\n",
       "</style><dl class=dl-inline><dt>U1</dt><dd>92</dd><dt>U2</dt><dd>34</dd></dl>\n"
      ],
      "text/latex": [
       "\\begin{description*}\n",
       "\\item[U1] 92\n",
       "\\item[U2] 34\n",
       "\\end{description*}\n"
      ],
      "text/markdown": [
       "U1\n",
       ":   92U2\n",
       ":   34\n",
       "\n"
      ],
      "text/plain": [
       "U1 U2 \n",
       "92 34 "
      ]
     },
     "metadata": {},
     "output_type": "display_data"
    }
   ],
   "source": [
    "sapply(UScrime[c(\"U1\",\"U2\")], median)"
   ]
  },
  {
   "cell_type": "code",
   "execution_count": 39,
   "id": "9afaedad",
   "metadata": {},
   "outputs": [
    {
     "name": "stderr",
     "output_type": "stream",
     "text": [
      "Warning message in wilcox.test.default(U1, U2, paired = TRUE):\n",
      "“cannot compute exact p-value with ties”\n"
     ]
    },
    {
     "data": {
      "text/plain": [
       "\n",
       "\tWilcoxon signed rank test with continuity correction\n",
       "\n",
       "data:  U1 and U2\n",
       "V = 1128, p-value = 2.464e-09\n",
       "alternative hypothesis: true location shift is not equal to 0\n"
      ]
     },
     "metadata": {},
     "output_type": "display_data"
    }
   ],
   "source": [
    "with(UScrime, wilcox.test(U1,U2,paired = TRUE))"
   ]
  },
  {
   "cell_type": "markdown",
   "id": "16d5c724",
   "metadata": {},
   "source": [
    "## Comparing more than two groups"
   ]
  },
  {
   "cell_type": "code",
   "execution_count": 40,
   "id": "cbf13431",
   "metadata": {},
   "outputs": [],
   "source": [
    "states <- data.frame(state.region, state.x77)"
   ]
  },
  {
   "cell_type": "code",
   "execution_count": 41,
   "id": "6dda2416",
   "metadata": {},
   "outputs": [
    {
     "data": {
      "text/plain": [
       "\n",
       "\tKruskal-Wallis rank sum test\n",
       "\n",
       "data:  Illiteracy by state.region\n",
       "Kruskal-Wallis chi-squared = 22.672, df = 3, p-value = 4.726e-05\n"
      ]
     },
     "metadata": {},
     "output_type": "display_data"
    }
   ],
   "source": [
    "kruskal.test(Illiteracy~state.region, data = states)"
   ]
  },
  {
   "cell_type": "code",
   "execution_count": 42,
   "id": "ea7a5e29",
   "metadata": {},
   "outputs": [
    {
     "name": "stderr",
     "output_type": "stream",
     "text": [
      "Warning message in xtfrm.data.frame(x):\n",
      "“cannot xtfrm data frames”\n"
     ]
    },
    {
     "name": "stdout",
     "output_type": "stream",
     "text": [
      "Descriptive Statistics\n",
      "\n",
      "           West North Central Northeast    South\n",
      "n      13.00000      12.00000   9.00000 16.00000\n",
      "median  0.60000       0.70000   1.10000  1.75000\n",
      "mad     0.14826       0.14826   0.29652  0.59304\n",
      "\n",
      "Multiple Comparisons (Wilcoxon Rank Sum Tests)\n",
      "Probability Adjustment = holm\n",
      "\n",
      "        Group.1       Group.2    W            p    \n",
      "1          West North Central 88.0 8.665618e-01    \n",
      "2          West     Northeast 46.5 8.665618e-01    \n",
      "3          West         South 39.0 1.788186e-02   *\n",
      "4 North Central     Northeast 20.5 5.359707e-02   .\n",
      "5 North Central         South  2.0 8.051509e-05 ***\n",
      "6     Northeast         South 18.0 1.187644e-02   *\n",
      "---\n",
      "Signif. codes:  0 '***' 0.001 '**' 0.01 '*' 0.05 '.' 0.1 ' ' 1\n"
     ]
    }
   ],
   "source": [
    "source(\"http://www.statmethods.net/RiA/wmc.txt\")\n",
    "states <- data.frame(state.region, state.x77)\n",
    "wmc(Illiteracy~state.region, data = states, method = \"holm\")"
   ]
  },
  {
   "cell_type": "code",
   "execution_count": null,
   "id": "3a9842a6",
   "metadata": {},
   "outputs": [],
   "source": []
  }
 ],
 "metadata": {
  "kernelspec": {
   "display_name": "R",
   "language": "R",
   "name": "ir"
  },
  "language_info": {
   "codemirror_mode": "r",
   "file_extension": ".r",
   "mimetype": "text/x-r-source",
   "name": "R",
   "pygments_lexer": "r",
   "version": "4.1.0"
  }
 },
 "nbformat": 4,
 "nbformat_minor": 5
}
