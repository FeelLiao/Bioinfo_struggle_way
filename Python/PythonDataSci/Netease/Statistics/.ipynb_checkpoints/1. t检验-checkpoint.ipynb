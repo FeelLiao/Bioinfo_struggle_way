{
 "cells": [
  {
   "cell_type": "markdown",
   "metadata": {},
   "source": [
    "# 1. t检验"
   ]
  },
  {
   "cell_type": "code",
   "execution_count": 1,
   "metadata": {},
   "outputs": [],
   "source": [
    "# 导入数据\n",
    "import pandas as pd\n",
    "DATA_PATH = \"./CCSS_sample.xlsx\"\n",
    "ccss = pd.read_excel(DATA_PATH, sheet_name=0)"
   ]
  },
  {
   "cell_type": "markdown",
   "metadata": {},
   "source": [
    "## 1.1 单样本t检验"
   ]
  },
  {
   "cell_type": "markdown",
   "metadata": {},
   "source": [
    "### 1.1.1 单样本t检验 scipy 实现方法"
   ]
  },
  {
   "cell_type": "code",
   "execution_count": 2,
   "metadata": {},
   "outputs": [
    {
     "data": {
      "text/plain": [
       "count    100.000000\n",
       "mean      97.164727\n",
       "std       20.808324\n",
       "min       31.242677\n",
       "25%       85.917363\n",
       "50%      101.538702\n",
       "75%      109.349371\n",
       "max      140.592049\n",
       "Name: index1, dtype: float64"
      ]
     },
     "execution_count": 2,
     "metadata": {},
     "output_type": "execute_result"
    }
   ],
   "source": [
    "temp_data = ccss.query(\"s0 == '广州' & time == 200704\").index1\n",
    "temp_data.describe()"
   ]
  },
  {
   "cell_type": "code",
   "execution_count": 3,
   "metadata": {},
   "outputs": [
    {
     "data": {
      "text/plain": [
       "Ttest_1sampResult(statistic=-1.3625667518512996, pvalue=0.17611075148299993)"
      ]
     },
     "execution_count": 3,
     "metadata": {},
     "output_type": "execute_result"
    }
   ],
   "source": [
    "from scipy import stats as ss\n",
    "ss.ttest_1samp(temp_data,100)"
   ]
  },
  {
   "cell_type": "markdown",
   "metadata": {},
   "source": [
    "### 1.1.2 单样本t检验statsmodels 实现方法"
   ]
  },
  {
   "cell_type": "code",
   "execution_count": 4,
   "metadata": {},
   "outputs": [],
   "source": [
    "from statsmodels.stats import weightstats as ws\n",
    "des = ws.DescrStatsW(temp_data)"
   ]
  },
  {
   "cell_type": "code",
   "execution_count": 5,
   "metadata": {},
   "outputs": [
    {
     "data": {
      "text/plain": [
       "97.16472701710536"
      ]
     },
     "execution_count": 5,
     "metadata": {},
     "output_type": "execute_result"
    }
   ],
   "source": [
    "des.mean"
   ]
  },
  {
   "cell_type": "code",
   "execution_count": 6,
   "metadata": {},
   "outputs": [
    {
     "data": {
      "text/plain": [
       "(93.03590418536487, 101.29354984884586)"
      ]
     },
     "execution_count": 6,
     "metadata": {},
     "output_type": "execute_result"
    }
   ],
   "source": [
    "# 计算95%可信区间\n",
    "des.tconfint_mean()"
   ]
  },
  {
   "cell_type": "code",
   "execution_count": 7,
   "metadata": {},
   "outputs": [
    {
     "data": {
      "text/plain": [
       "(-1.3625667518512996, 0.17611075148299993, 99.0)"
      ]
     },
     "execution_count": 7,
     "metadata": {},
     "output_type": "execute_result"
    }
   ],
   "source": [
    "# 单样本t检验\n",
    "des.ttest_mean(100)"
   ]
  },
  {
   "cell_type": "code",
   "execution_count": 8,
   "metadata": {},
   "outputs": [
    {
     "data": {
      "text/plain": [
       "(-1.3625667518512996, 0.08805537574149996, 99.0)"
      ]
     },
     "execution_count": 8,
     "metadata": {},
     "output_type": "execute_result"
    }
   ],
   "source": [
    "# 单侧单样本t检验\n",
    "des.ttest_mean(value=100, alternative=\"smaller\")"
   ]
  },
  {
   "cell_type": "code",
   "execution_count": 9,
   "metadata": {},
   "outputs": [
    {
     "data": {
      "text/plain": [
       "(-1.3625667518512996, 0.9119446242585001, 99.0)"
      ]
     },
     "execution_count": 9,
     "metadata": {},
     "output_type": "execute_result"
    }
   ],
   "source": [
    "des.ttest_mean(value=100, alternative=\"larger\")"
   ]
  },
  {
   "cell_type": "markdown",
   "metadata": {},
   "source": [
    "## 1.2 两样本t检验"
   ]
  },
  {
   "cell_type": "markdown",
   "metadata": {},
   "source": [
    "### 1.2.1 scipy"
   ]
  },
  {
   "cell_type": "code",
   "execution_count": 10,
   "metadata": {},
   "outputs": [
    {
     "data": {
      "text/html": [
       "<div>\n",
       "<style scoped>\n",
       "    .dataframe tbody tr th:only-of-type {\n",
       "        vertical-align: middle;\n",
       "    }\n",
       "\n",
       "    .dataframe tbody tr th {\n",
       "        vertical-align: top;\n",
       "    }\n",
       "\n",
       "    .dataframe thead th {\n",
       "        text-align: right;\n",
       "    }\n",
       "</style>\n",
       "<table border=\"1\" class=\"dataframe\">\n",
       "  <thead>\n",
       "    <tr style=\"text-align: right;\">\n",
       "      <th></th>\n",
       "      <th>count</th>\n",
       "      <th>mean</th>\n",
       "      <th>std</th>\n",
       "      <th>min</th>\n",
       "      <th>25%</th>\n",
       "      <th>50%</th>\n",
       "      <th>75%</th>\n",
       "      <th>max</th>\n",
       "    </tr>\n",
       "    <tr>\n",
       "      <th>s7</th>\n",
       "      <th></th>\n",
       "      <th></th>\n",
       "      <th></th>\n",
       "      <th></th>\n",
       "      <th></th>\n",
       "      <th></th>\n",
       "      <th></th>\n",
       "      <th></th>\n",
       "    </tr>\n",
       "  </thead>\n",
       "  <tbody>\n",
       "    <tr>\n",
       "      <th>已婚</th>\n",
       "      <td>790.0</td>\n",
       "      <td>95.033106</td>\n",
       "      <td>21.282487</td>\n",
       "      <td>0.000000</td>\n",
       "      <td>85.917363</td>\n",
       "      <td>93.728032</td>\n",
       "      <td>109.349371</td>\n",
       "      <td>156.213387</td>\n",
       "    </tr>\n",
       "    <tr>\n",
       "      <th>未婚</th>\n",
       "      <td>343.0</td>\n",
       "      <td>98.282359</td>\n",
       "      <td>19.959824</td>\n",
       "      <td>23.432008</td>\n",
       "      <td>85.917363</td>\n",
       "      <td>101.538702</td>\n",
       "      <td>109.349371</td>\n",
       "      <td>156.213387</td>\n",
       "    </tr>\n",
       "    <tr>\n",
       "      <th>离异/分居/丧偶</th>\n",
       "      <td>14.0</td>\n",
       "      <td>85.917363</td>\n",
       "      <td>24.316544</td>\n",
       "      <td>31.242677</td>\n",
       "      <td>72.248692</td>\n",
       "      <td>85.917363</td>\n",
       "      <td>101.538702</td>\n",
       "      <td>124.970710</td>\n",
       "    </tr>\n",
       "  </tbody>\n",
       "</table>\n",
       "</div>"
      ],
      "text/plain": [
       "          count       mean        std        min        25%         50%  \\\n",
       "s7                                                                        \n",
       "已婚        790.0  95.033106  21.282487   0.000000  85.917363   93.728032   \n",
       "未婚        343.0  98.282359  19.959824  23.432008  85.917363  101.538702   \n",
       "离异/分居/丧偶   14.0  85.917363  24.316544  31.242677  72.248692   85.917363   \n",
       "\n",
       "                 75%         max  \n",
       "s7                                \n",
       "已婚        109.349371  156.213387  \n",
       "未婚        109.349371  156.213387  \n",
       "离异/分居/丧偶  101.538702  124.970710  "
      ]
     },
     "execution_count": 10,
     "metadata": {},
     "output_type": "execute_result"
    }
   ],
   "source": [
    "ccss.groupby(\"s7\").index1.describe()"
   ]
  },
  {
   "cell_type": "code",
   "execution_count": 11,
   "metadata": {},
   "outputs": [
    {
     "data": {
      "text/plain": [
       "<AxesSubplot:>"
      ]
     },
     "execution_count": 11,
     "metadata": {},
     "output_type": "execute_result"
    },
    {
     "data": {
      "image/png": "[encoded data removed]",
      "text/plain": [
       "<Figure size 432x288 with 1 Axes>"
      ]
     },
     "metadata": {
      "needs_background": "light"
     },
     "output_type": "display_data"
    }
   ],
   "source": [
    "s1 = ccss.index1[ccss.s7 == \"已婚\"]\n",
    "s2 = ccss.index1[ccss.s7 == \"未婚\"]\n",
    "s1.hist()"
   ]
  },
  {
   "cell_type": "code",
   "execution_count": 12,
   "metadata": {},
   "outputs": [
    {
     "data": {
      "text/plain": [
       "<AxesSubplot:>"
      ]
     },
     "execution_count": 12,
     "metadata": {},
     "output_type": "execute_result"
    },
    {
     "data": {
      "image/png": "[encoded data removed]",
      "text/plain": [
       "<Figure size 432x288 with 1 Axes>"
      ]
     },
     "metadata": {
      "needs_background": "light"
     },
     "output_type": "display_data"
    }
   ],
   "source": [
    "s2.hist()"
   ]
  },
  {
   "cell_type": "code",
   "execution_count": 13,
   "metadata": {},
   "outputs": [
    {
     "data": {
      "text/plain": [
       "LeveneResult(statistic=0.6178737960192996, pvalue=0.43200314605212653)"
      ]
     },
     "execution_count": 13,
     "metadata": {},
     "output_type": "execute_result"
    }
   ],
   "source": [
    "# 方差齐性检验\n",
    "ss.levene(s1,s2) # H0 两样本方差一样"
   ]
  },
  {
   "cell_type": "code",
   "execution_count": 14,
   "metadata": {},
   "outputs": [
    {
     "data": {
      "text/plain": [
       "Ttest_indResult(statistic=-2.405261376009453, pvalue=0.016320721789339597)"
      ]
     },
     "execution_count": 14,
     "metadata": {},
     "output_type": "execute_result"
    }
   ],
   "source": [
    "ss.ttest_ind(s1,s2)"
   ]
  },
  {
   "cell_type": "code",
   "execution_count": 15,
   "metadata": {},
   "outputs": [
    {
     "data": {
      "text/plain": [
       "Ttest_indResult(statistic=-2.4669071564965845, pvalue=0.013870360692360313)"
      ]
     },
     "execution_count": 15,
     "metadata": {},
     "output_type": "execute_result"
    }
   ],
   "source": [
    "ss.ttest_ind(s1,s2,equal_var=False) # 两样本方差不齐时，使用矫正t检验"
   ]
  },
  {
   "cell_type": "markdown",
   "metadata": {},
   "source": [
    "### 1.2.2 statsmodels"
   ]
  },
  {
   "cell_type": "code",
   "execution_count": 16,
   "metadata": {},
   "outputs": [],
   "source": [
    "d1 = ws.DescrStatsW(s1)\n",
    "d2 = ws.DescrStatsW(s2)"
   ]
  },
  {
   "cell_type": "code",
   "execution_count": 17,
   "metadata": {},
   "outputs": [],
   "source": [
    "comp = ws.CompareMeans(d1,d2)"
   ]
  },
  {
   "cell_type": "code",
   "execution_count": 18,
   "metadata": {},
   "outputs": [
    {
     "data": {
      "text/plain": [
       "(-2.4052613760094634, 0.01632072178933914, 1131.0)"
      ]
     },
     "execution_count": 18,
     "metadata": {},
     "output_type": "execute_result"
    }
   ],
   "source": [
    "comp.ttest_ind()"
   ]
  },
  {
   "cell_type": "code",
   "execution_count": 19,
   "metadata": {},
   "outputs": [
    {
     "data": {
      "text/plain": [
       "(-5.899791658291523, -0.5987129330356953)"
      ]
     },
     "execution_count": 19,
     "metadata": {},
     "output_type": "execute_result"
    }
   ],
   "source": [
    "comp.tconfint_diff()  # 计算两样本均值差异的可信区间"
   ]
  },
  {
   "cell_type": "code",
   "execution_count": 20,
   "metadata": {},
   "outputs": [
    {
     "data": {
      "text/plain": [
       "(-2.4669071564965956, 0.013870360692359867, 690.0875759383671)"
      ]
     },
     "execution_count": 20,
     "metadata": {},
     "output_type": "execute_result"
    }
   ],
   "source": [
    "comp.ttest_ind(usevar= \"unequal\") # 方差不齐"
   ]
  },
  {
   "cell_type": "markdown",
   "metadata": {},
   "source": [
    "## 1.3 配对t检验"
   ]
  },
  {
   "cell_type": "markdown",
   "metadata": {},
   "source": [
    "### 1.3.1 基本使用场景"
   ]
  },
  {
   "cell_type": "markdown",
   "metadata": {},
   "source": [
    "    1.同一个受试对象处理前后的比较，但其中掺杂了时间变量的影响。\n",
    "    2.将受试对象根据情况相似者进行配对（或自身进行配对），分别予以几种处理"
   ]
  },
  {
   "cell_type": "code",
   "execution_count": 21,
   "metadata": {},
   "outputs": [
    {
     "data": {
      "text/html": [
       "<div>\n",
       "<style scoped>\n",
       "    .dataframe tbody tr th:only-of-type {\n",
       "        vertical-align: middle;\n",
       "    }\n",
       "\n",
       "    .dataframe tbody tr th {\n",
       "        vertical-align: top;\n",
       "    }\n",
       "\n",
       "    .dataframe thead th {\n",
       "        text-align: right;\n",
       "    }\n",
       "</style>\n",
       "<table border=\"1\" class=\"dataframe\">\n",
       "  <thead>\n",
       "    <tr style=\"text-align: right;\">\n",
       "      <th></th>\n",
       "      <th>time</th>\n",
       "      <th>id</th>\n",
       "      <th>s2</th>\n",
       "      <th>s3</th>\n",
       "      <th>Qa3</th>\n",
       "      <th>Qa4</th>\n",
       "      <th>Qa8</th>\n",
       "      <th>Qa10</th>\n",
       "      <th>Qa16</th>\n",
       "      <th>index1</th>\n",
       "      <th>index1a</th>\n",
       "      <th>index1b</th>\n",
       "      <th>Qa3n</th>\n",
       "      <th>Qa4n</th>\n",
       "      <th>Qa8n</th>\n",
       "      <th>Qa10n</th>\n",
       "      <th>Qa16n</th>\n",
       "      <th>index1n</th>\n",
       "      <th>index1an</th>\n",
       "      <th>index1bn</th>\n",
       "    </tr>\n",
       "  </thead>\n",
       "  <tbody>\n",
       "    <tr>\n",
       "      <th>0</th>\n",
       "      <td>200704</td>\n",
       "      <td>22</td>\n",
       "      <td>2</td>\n",
       "      <td>59</td>\n",
       "      <td>100</td>\n",
       "      <td>100</td>\n",
       "      <td>100</td>\n",
       "      <td>100</td>\n",
       "      <td>50</td>\n",
       "      <td>70.296024</td>\n",
       "      <td>66.026939</td>\n",
       "      <td>72.642743</td>\n",
       "      <td>50</td>\n",
       "      <td>100</td>\n",
       "      <td>100</td>\n",
       "      <td>100</td>\n",
       "      <td>100</td>\n",
       "      <td>70.296024</td>\n",
       "      <td>66.026939</td>\n",
       "      <td>72.642743</td>\n",
       "    </tr>\n",
       "    <tr>\n",
       "      <th>1</th>\n",
       "      <td>200704</td>\n",
       "      <td>40</td>\n",
       "      <td>2</td>\n",
       "      <td>28</td>\n",
       "      <td>150</td>\n",
       "      <td>150</td>\n",
       "      <td>150</td>\n",
       "      <td>150</td>\n",
       "      <td>100</td>\n",
       "      <td>109.349371</td>\n",
       "      <td>110.044898</td>\n",
       "      <td>108.964114</td>\n",
       "      <td>150</td>\n",
       "      <td>100</td>\n",
       "      <td>100</td>\n",
       "      <td>200</td>\n",
       "      <td>100</td>\n",
       "      <td>101.538702</td>\n",
       "      <td>110.044898</td>\n",
       "      <td>96.856991</td>\n",
       "    </tr>\n",
       "    <tr>\n",
       "      <th>2</th>\n",
       "      <td>200704</td>\n",
       "      <td>45</td>\n",
       "      <td>1</td>\n",
       "      <td>55</td>\n",
       "      <td>100</td>\n",
       "      <td>50</td>\n",
       "      <td>50</td>\n",
       "      <td>100</td>\n",
       "      <td>200</td>\n",
       "      <td>78.106694</td>\n",
       "      <td>132.053878</td>\n",
       "      <td>48.428495</td>\n",
       "      <td>150</td>\n",
       "      <td>100</td>\n",
       "      <td>150</td>\n",
       "      <td>150</td>\n",
       "      <td>100</td>\n",
       "      <td>101.538702</td>\n",
       "      <td>110.044898</td>\n",
       "      <td>96.856991</td>\n",
       "    </tr>\n",
       "    <tr>\n",
       "      <th>3</th>\n",
       "      <td>200704</td>\n",
       "      <td>69</td>\n",
       "      <td>1</td>\n",
       "      <td>26</td>\n",
       "      <td>150</td>\n",
       "      <td>200</td>\n",
       "      <td>150</td>\n",
       "      <td>50</td>\n",
       "      <td>100</td>\n",
       "      <td>101.538702</td>\n",
       "      <td>110.044898</td>\n",
       "      <td>96.856991</td>\n",
       "      <td>150</td>\n",
       "      <td>100</td>\n",
       "      <td>150</td>\n",
       "      <td>200</td>\n",
       "      <td>200</td>\n",
       "      <td>124.970710</td>\n",
       "      <td>154.062858</td>\n",
       "      <td>108.964114</td>\n",
       "    </tr>\n",
       "    <tr>\n",
       "      <th>4</th>\n",
       "      <td>200704</td>\n",
       "      <td>98</td>\n",
       "      <td>1</td>\n",
       "      <td>63</td>\n",
       "      <td>100</td>\n",
       "      <td>200</td>\n",
       "      <td>150</td>\n",
       "      <td>150</td>\n",
       "      <td>100</td>\n",
       "      <td>109.349371</td>\n",
       "      <td>88.035919</td>\n",
       "      <td>121.071238</td>\n",
       "      <td>150</td>\n",
       "      <td>150</td>\n",
       "      <td>100</td>\n",
       "      <td>0</td>\n",
       "      <td>100</td>\n",
       "      <td>78.106694</td>\n",
       "      <td>110.044898</td>\n",
       "      <td>60.535619</td>\n",
       "    </tr>\n",
       "  </tbody>\n",
       "</table>\n",
       "</div>"
      ],
      "text/plain": [
       "     time  id  s2  s3  Qa3  Qa4  Qa8  Qa10  Qa16      index1     index1a  \\\n",
       "0  200704  22   2  59  100  100  100   100    50   70.296024   66.026939   \n",
       "1  200704  40   2  28  150  150  150   150   100  109.349371  110.044898   \n",
       "2  200704  45   1  55  100   50   50   100   200   78.106694  132.053878   \n",
       "3  200704  69   1  26  150  200  150    50   100  101.538702  110.044898   \n",
       "4  200704  98   1  63  100  200  150   150   100  109.349371   88.035919   \n",
       "\n",
       "      index1b  Qa3n  Qa4n  Qa8n  Qa10n  Qa16n     index1n    index1an  \\\n",
       "0   72.642743    50   100   100    100    100   70.296024   66.026939   \n",
       "1  108.964114   150   100   100    200    100  101.538702  110.044898   \n",
       "2   48.428495   150   100   150    150    100  101.538702  110.044898   \n",
       "3   96.856991   150   100   150    200    200  124.970710  154.062858   \n",
       "4  121.071238   150   150   100      0    100   78.106694  110.044898   \n",
       "\n",
       "     index1bn  \n",
       "0   72.642743  \n",
       "1   96.856991  \n",
       "2   96.856991  \n",
       "3  108.964114  \n",
       "4   60.535619  "
      ]
     },
     "execution_count": 21,
     "metadata": {},
     "output_type": "execute_result"
    }
   ],
   "source": [
    "ccss_p = pd.read_excel(DATA_PATH,sheet_name=1)\n",
    "ccss_p.head()"
   ]
  },
  {
   "cell_type": "code",
   "execution_count": 22,
   "metadata": {},
   "outputs": [
    {
     "data": {
      "text/html": [
       "<div>\n",
       "<style scoped>\n",
       "    .dataframe tbody tr th:only-of-type {\n",
       "        vertical-align: middle;\n",
       "    }\n",
       "\n",
       "    .dataframe tbody tr th {\n",
       "        vertical-align: top;\n",
       "    }\n",
       "\n",
       "    .dataframe thead th {\n",
       "        text-align: right;\n",
       "    }\n",
       "</style>\n",
       "<table border=\"1\" class=\"dataframe\">\n",
       "  <thead>\n",
       "    <tr style=\"text-align: right;\">\n",
       "      <th></th>\n",
       "      <th>index1</th>\n",
       "      <th>index1n</th>\n",
       "    </tr>\n",
       "  </thead>\n",
       "  <tbody>\n",
       "    <tr>\n",
       "      <th>count</th>\n",
       "      <td>88.000000</td>\n",
       "      <td>88.000000</td>\n",
       "    </tr>\n",
       "    <tr>\n",
       "      <th>mean</th>\n",
       "      <td>98.787216</td>\n",
       "      <td>96.035730</td>\n",
       "    </tr>\n",
       "    <tr>\n",
       "      <th>std</th>\n",
       "      <td>16.152752</td>\n",
       "      <td>20.102950</td>\n",
       "    </tr>\n",
       "    <tr>\n",
       "      <th>min</th>\n",
       "      <td>70.296024</td>\n",
       "      <td>39.053347</td>\n",
       "    </tr>\n",
       "    <tr>\n",
       "      <th>25%</th>\n",
       "      <td>85.917363</td>\n",
       "      <td>85.917363</td>\n",
       "    </tr>\n",
       "    <tr>\n",
       "      <th>50%</th>\n",
       "      <td>101.538702</td>\n",
       "      <td>93.728032</td>\n",
       "    </tr>\n",
       "    <tr>\n",
       "      <th>75%</th>\n",
       "      <td>109.349371</td>\n",
       "      <td>109.349371</td>\n",
       "    </tr>\n",
       "    <tr>\n",
       "      <th>max</th>\n",
       "      <td>132.781379</td>\n",
       "      <td>132.781379</td>\n",
       "    </tr>\n",
       "  </tbody>\n",
       "</table>\n",
       "</div>"
      ],
      "text/plain": [
       "           index1     index1n\n",
       "count   88.000000   88.000000\n",
       "mean    98.787216   96.035730\n",
       "std     16.152752   20.102950\n",
       "min     70.296024   39.053347\n",
       "25%     85.917363   85.917363\n",
       "50%    101.538702   93.728032\n",
       "75%    109.349371  109.349371\n",
       "max    132.781379  132.781379"
      ]
     },
     "execution_count": 22,
     "metadata": {},
     "output_type": "execute_result"
    }
   ],
   "source": [
    "ccss_p.loc[:,[\"index1\",\"index1n\"]].describe()"
   ]
  },
  {
   "cell_type": "code",
   "execution_count": 23,
   "metadata": {},
   "outputs": [
    {
     "data": {
      "text/plain": [
       "(0.2638011798615908, 0.01301162367951006)"
      ]
     },
     "execution_count": 23,
     "metadata": {},
     "output_type": "execute_result"
    }
   ],
   "source": [
    "# 检验两个变量是否相关\n",
    "ss.pearsonr(ccss_p.index1,ccss_p.index1n) # H0 无效假设，即两样本变量不相关"
   ]
  },
  {
   "cell_type": "code",
   "execution_count": 24,
   "metadata": {},
   "outputs": [
    {
     "data": {
      "text/plain": [
       "Ttest_relResult(statistic=1.1616334792419984, pvalue=0.24856144386191056)"
      ]
     },
     "execution_count": 24,
     "metadata": {},
     "output_type": "execute_result"
    }
   ],
   "source": [
    "# 配对t检验\n",
    "ss.ttest_rel(ccss_p.index1,ccss_p.index1n) # H0 两变量的均值差值为0"
   ]
  },
  {
   "cell_type": "markdown",
   "metadata": {},
   "source": [
    "## 1.4 作业"
   ]
  },
  {
   "cell_type": "markdown",
   "metadata": {},
   "source": [
    "    1.4.1 北京、上海两地在2007年4月时的信心值是否有偏离基准值100"
   ]
  },
  {
   "cell_type": "code",
   "execution_count": 25,
   "metadata": {},
   "outputs": [
    {
     "data": {
      "text/html": [
       "<div>\n",
       "<style scoped>\n",
       "    .dataframe tbody tr th:only-of-type {\n",
       "        vertical-align: middle;\n",
       "    }\n",
       "\n",
       "    .dataframe tbody tr th {\n",
       "        vertical-align: top;\n",
       "    }\n",
       "\n",
       "    .dataframe thead th {\n",
       "        text-align: right;\n",
       "    }\n",
       "</style>\n",
       "<table border=\"1\" class=\"dataframe\">\n",
       "  <thead>\n",
       "    <tr style=\"text-align: right;\">\n",
       "      <th></th>\n",
       "      <th>time</th>\n",
       "      <th>id</th>\n",
       "      <th>s0</th>\n",
       "      <th>s2</th>\n",
       "      <th>s3</th>\n",
       "      <th>s4</th>\n",
       "      <th>s5</th>\n",
       "      <th>s7</th>\n",
       "      <th>s9</th>\n",
       "      <th>c0_1</th>\n",
       "      <th>...</th>\n",
       "      <th>Qs9</th>\n",
       "      <th>Qa3</th>\n",
       "      <th>Qa4</th>\n",
       "      <th>Qa8</th>\n",
       "      <th>Qa9</th>\n",
       "      <th>Qa10</th>\n",
       "      <th>Qa16</th>\n",
       "      <th>index1</th>\n",
       "      <th>index1a</th>\n",
       "      <th>index1b</th>\n",
       "    </tr>\n",
       "  </thead>\n",
       "  <tbody>\n",
       "    <tr>\n",
       "      <th>0</th>\n",
       "      <td>200704</td>\n",
       "      <td>1</td>\n",
       "      <td>北京</td>\n",
       "      <td>男</td>\n",
       "      <td>20</td>\n",
       "      <td>本科</td>\n",
       "      <td>公司普通职员（白领）</td>\n",
       "      <td>未婚</td>\n",
       "      <td>2000-2999元</td>\n",
       "      <td>0</td>\n",
       "      <td>...</td>\n",
       "      <td>2500.0</td>\n",
       "      <td>100</td>\n",
       "      <td>200</td>\n",
       "      <td>200</td>\n",
       "      <td>200</td>\n",
       "      <td>100</td>\n",
       "      <td>100</td>\n",
       "      <td>109.349371</td>\n",
       "      <td>88.035919</td>\n",
       "      <td>121.071238</td>\n",
       "    </tr>\n",
       "    <tr>\n",
       "      <th>1</th>\n",
       "      <td>200704</td>\n",
       "      <td>2</td>\n",
       "      <td>北京</td>\n",
       "      <td>男</td>\n",
       "      <td>24</td>\n",
       "      <td>高中/中专</td>\n",
       "      <td>公司普通职员（白领）</td>\n",
       "      <td>未婚</td>\n",
       "      <td>6000-7999元</td>\n",
       "      <td>0</td>\n",
       "      <td>...</td>\n",
       "      <td>7000.0</td>\n",
       "      <td>100</td>\n",
       "      <td>100</td>\n",
       "      <td>100</td>\n",
       "      <td>150</td>\n",
       "      <td>200</td>\n",
       "      <td>100</td>\n",
       "      <td>93.728032</td>\n",
       "      <td>88.035919</td>\n",
       "      <td>96.856991</td>\n",
       "    </tr>\n",
       "    <tr>\n",
       "      <th>2</th>\n",
       "      <td>200704</td>\n",
       "      <td>3</td>\n",
       "      <td>上海</td>\n",
       "      <td>男</td>\n",
       "      <td>20</td>\n",
       "      <td>高中/中专</td>\n",
       "      <td>无业/待业/失业/家庭主妇</td>\n",
       "      <td>未婚</td>\n",
       "      <td>1000-1499元</td>\n",
       "      <td>0</td>\n",
       "      <td>...</td>\n",
       "      <td>1250.0</td>\n",
       "      <td>100</td>\n",
       "      <td>150</td>\n",
       "      <td>150</td>\n",
       "      <td>100</td>\n",
       "      <td>100</td>\n",
       "      <td>100</td>\n",
       "      <td>93.728032</td>\n",
       "      <td>88.035919</td>\n",
       "      <td>96.856991</td>\n",
       "    </tr>\n",
       "    <tr>\n",
       "      <th>3</th>\n",
       "      <td>200704</td>\n",
       "      <td>4</td>\n",
       "      <td>北京</td>\n",
       "      <td>女</td>\n",
       "      <td>65</td>\n",
       "      <td>大专</td>\n",
       "      <td>企/事业管理人员</td>\n",
       "      <td>已婚</td>\n",
       "      <td>1000-1499元</td>\n",
       "      <td>0</td>\n",
       "      <td>...</td>\n",
       "      <td>1250.0</td>\n",
       "      <td>150</td>\n",
       "      <td>150</td>\n",
       "      <td>100</td>\n",
       "      <td>100</td>\n",
       "      <td>100</td>\n",
       "      <td>200</td>\n",
       "      <td>109.349371</td>\n",
       "      <td>154.062858</td>\n",
       "      <td>84.749867</td>\n",
       "    </tr>\n",
       "    <tr>\n",
       "      <th>4</th>\n",
       "      <td>200704</td>\n",
       "      <td>5</td>\n",
       "      <td>上海</td>\n",
       "      <td>女</td>\n",
       "      <td>40</td>\n",
       "      <td>高中/中专</td>\n",
       "      <td>公司普通职员（白领）</td>\n",
       "      <td>已婚</td>\n",
       "      <td>99拒绝回答</td>\n",
       "      <td>0</td>\n",
       "      <td>...</td>\n",
       "      <td>NaN</td>\n",
       "      <td>100</td>\n",
       "      <td>100</td>\n",
       "      <td>100</td>\n",
       "      <td>100</td>\n",
       "      <td>150</td>\n",
       "      <td>100</td>\n",
       "      <td>85.917363</td>\n",
       "      <td>88.035919</td>\n",
       "      <td>84.749867</td>\n",
       "    </tr>\n",
       "  </tbody>\n",
       "</table>\n",
       "<p>5 rows × 32 columns</p>\n",
       "</div>"
      ],
      "text/plain": [
       "     time  id  s0 s2  s3     s4             s5  s7          s9 c0_1  ...  \\\n",
       "0  200704   1  北京  男  20     本科     公司普通职员（白领）  未婚  2000-2999元    0  ...   \n",
       "1  200704   2  北京  男  24  高中/中专     公司普通职员（白领）  未婚  6000-7999元    0  ...   \n",
       "2  200704   3  上海  男  20  高中/中专  无业/待业/失业/家庭主妇  未婚  1000-1499元    0  ...   \n",
       "3  200704   4  北京  女  65     大专       企/事业管理人员  已婚  1000-1499元    0  ...   \n",
       "4  200704   5  上海  女  40  高中/中专     公司普通职员（白领）  已婚      99拒绝回答    0  ...   \n",
       "\n",
       "      Qs9  Qa3  Qa4  Qa8  Qa9 Qa10  Qa16      index1     index1a     index1b  \n",
       "0  2500.0  100  200  200  200  100   100  109.349371   88.035919  121.071238  \n",
       "1  7000.0  100  100  100  150  200   100   93.728032   88.035919   96.856991  \n",
       "2  1250.0  100  150  150  100  100   100   93.728032   88.035919   96.856991  \n",
       "3  1250.0  150  150  100  100  100   200  109.349371  154.062858   84.749867  \n",
       "4     NaN  100  100  100  100  150   100   85.917363   88.035919   84.749867  \n",
       "\n",
       "[5 rows x 32 columns]"
      ]
     },
     "execution_count": 25,
     "metadata": {},
     "output_type": "execute_result"
    }
   ],
   "source": [
    "# 北京\n",
    "ccss.head()"
   ]
  },
  {
   "cell_type": "code",
   "execution_count": 27,
   "metadata": {},
   "outputs": [
    {
     "data": {
      "text/plain": [
       "Ttest_1sampResult(statistic=0.03174439870144079, pvalue=0.9747397985209061)"
      ]
     },
     "execution_count": 27,
     "metadata": {},
     "output_type": "execute_result"
    }
   ],
   "source": [
    "data_beijing = ccss.query(\"s0 == '北京' & time == 200704\").index1\n",
    "ss.ttest_1samp(data_beijing,popmean=100)"
   ]
  },
  {
   "cell_type": "code",
   "execution_count": 28,
   "metadata": {},
   "outputs": [
    {
     "data": {
      "text/plain": [
       "(96.63717608856064, 103.47217328268044)"
      ]
     },
     "execution_count": 28,
     "metadata": {},
     "output_type": "execute_result"
    }
   ],
   "source": [
    "bj_t = ws.DescrStatsW(data_beijing)\n",
    "bj_t.tconfint_mean()"
   ]
  },
  {
   "cell_type": "code",
   "execution_count": 33,
   "metadata": {},
   "outputs": [
    {
     "data": {
      "text/plain": [
       "(0.03174439870144079, 0.9747397985209061, 99.0)"
      ]
     },
     "execution_count": 33,
     "metadata": {},
     "output_type": "execute_result"
    }
   ],
   "source": [
    "bj_t.ttest_mean(100)"
   ]
  },
  {
   "cell_type": "code",
   "execution_count": 30,
   "metadata": {},
   "outputs": [
    {
     "data": {
      "text/plain": [
       "count    100.000000\n",
       "mean     100.054675\n",
       "std       17.223412\n",
       "min       54.674686\n",
       "25%       85.917363\n",
       "50%      101.538702\n",
       "75%      109.349371\n",
       "max      140.592049\n",
       "Name: index1, dtype: float64"
      ]
     },
     "execution_count": 30,
     "metadata": {},
     "output_type": "execute_result"
    }
   ],
   "source": [
    "data_beijing.describe()"
   ]
  },
  {
   "cell_type": "code",
   "execution_count": null,
   "metadata": {},
   "outputs": [],
   "source": []
  }
 ],
 "metadata": {
  "kernelspec": {
   "display_name": "Python 3",
   "language": "python",
   "name": "python3"
  },
  "language_info": {
   "codemirror_mode": {
    "name": "ipython",
    "version": 3
   },
   "file_extension": ".py",
   "mimetype": "text/x-python",
   "name": "python",
   "nbconvert_exporter": "python",
   "pygments_lexer": "ipython3",
   "version": "3.9.1"
  }
 },
 "nbformat": 4,
 "nbformat_minor": 4
}
