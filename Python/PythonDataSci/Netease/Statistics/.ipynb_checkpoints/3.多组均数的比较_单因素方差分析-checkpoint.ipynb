{
 "cells": [
  {
   "cell_type": "markdown",
   "id": "local-reunion",
   "metadata": {},
   "source": [
    "# 3.多组均数的比较_单因素方差分析"
   ]
  },
  {
   "cell_type": "code",
   "execution_count": 1,
   "id": "analyzed-empire",
   "metadata": {},
   "outputs": [],
   "source": [
    "import pandas as pd\n",
    "DATA_PATH = \"./CCSS_sample.xlsx\"\n",
    "ccss = pd.read_excel(DATA_PATH, sheet_name=0)"
   ]
  },
  {
   "cell_type": "markdown",
   "id": "quantitative-niagara",
   "metadata": {},
   "source": [
    "## 3.1 方差分析适用条件的考察"
   ]
  },
  {
   "cell_type": "code",
   "execution_count": 2,
   "id": "narrow-death",
   "metadata": {},
   "outputs": [
    {
     "data": {
      "text/html": [
       "<div>\n",
       "<style scoped>\n",
       "    .dataframe tbody tr th:only-of-type {\n",
       "        vertical-align: middle;\n",
       "    }\n",
       "\n",
       "    .dataframe tbody tr th {\n",
       "        vertical-align: top;\n",
       "    }\n",
       "\n",
       "    .dataframe thead th {\n",
       "        text-align: right;\n",
       "    }\n",
       "</style>\n",
       "<table border=\"1\" class=\"dataframe\">\n",
       "  <thead>\n",
       "    <tr style=\"text-align: right;\">\n",
       "      <th></th>\n",
       "      <th>count</th>\n",
       "      <th>mean</th>\n",
       "      <th>std</th>\n",
       "      <th>min</th>\n",
       "      <th>25%</th>\n",
       "      <th>50%</th>\n",
       "      <th>75%</th>\n",
       "      <th>max</th>\n",
       "    </tr>\n",
       "    <tr>\n",
       "      <th>time</th>\n",
       "      <th></th>\n",
       "      <th></th>\n",
       "      <th></th>\n",
       "      <th></th>\n",
       "      <th></th>\n",
       "      <th></th>\n",
       "      <th></th>\n",
       "      <th></th>\n",
       "    </tr>\n",
       "  </thead>\n",
       "  <tbody>\n",
       "    <tr>\n",
       "      <th>200704</th>\n",
       "      <td>100.0</td>\n",
       "      <td>100.054675</td>\n",
       "      <td>17.223412</td>\n",
       "      <td>54.674686</td>\n",
       "      <td>85.917363</td>\n",
       "      <td>101.538702</td>\n",
       "      <td>109.349371</td>\n",
       "      <td>140.592049</td>\n",
       "    </tr>\n",
       "    <tr>\n",
       "      <th>200712</th>\n",
       "      <td>101.0</td>\n",
       "      <td>97.130700</td>\n",
       "      <td>19.398654</td>\n",
       "      <td>46.864016</td>\n",
       "      <td>85.917363</td>\n",
       "      <td>93.728032</td>\n",
       "      <td>109.349371</td>\n",
       "      <td>148.402718</td>\n",
       "    </tr>\n",
       "    <tr>\n",
       "      <th>200812</th>\n",
       "      <td>102.0</td>\n",
       "      <td>91.966803</td>\n",
       "      <td>19.504446</td>\n",
       "      <td>39.053347</td>\n",
       "      <td>78.106694</td>\n",
       "      <td>93.728032</td>\n",
       "      <td>101.538702</td>\n",
       "      <td>148.402718</td>\n",
       "    </tr>\n",
       "    <tr>\n",
       "      <th>200912</th>\n",
       "      <td>75.0</td>\n",
       "      <td>102.580124</td>\n",
       "      <td>16.954212</td>\n",
       "      <td>70.296024</td>\n",
       "      <td>89.822698</td>\n",
       "      <td>101.538702</td>\n",
       "      <td>109.349371</td>\n",
       "      <td>148.402718</td>\n",
       "    </tr>\n",
       "  </tbody>\n",
       "</table>\n",
       "</div>"
      ],
      "text/plain": [
       "        count        mean        std        min        25%         50%  \\\n",
       "time                                                                     \n",
       "200704  100.0  100.054675  17.223412  54.674686  85.917363  101.538702   \n",
       "200712  101.0   97.130700  19.398654  46.864016  85.917363   93.728032   \n",
       "200812  102.0   91.966803  19.504446  39.053347  78.106694   93.728032   \n",
       "200912   75.0  102.580124  16.954212  70.296024  89.822698  101.538702   \n",
       "\n",
       "               75%         max  \n",
       "time                            \n",
       "200704  109.349371  140.592049  \n",
       "200712  109.349371  148.402718  \n",
       "200812  101.538702  148.402718  \n",
       "200912  109.349371  148.402718  "
      ]
     },
     "execution_count": 2,
     "metadata": {},
     "output_type": "execute_result"
    }
   ],
   "source": [
    "ccss.query(\"s0=='北京'\").groupby(\"time\").index1.describe()"
   ]
  },
  {
   "cell_type": "code",
   "execution_count": 3,
   "id": "sharing-yacht",
   "metadata": {},
   "outputs": [
    {
     "data": {
      "text/plain": [
       "<AxesSubplot:xlabel='time'>"
      ]
     },
     "execution_count": 3,
     "metadata": {},
     "output_type": "execute_result"
    },
    {
     "data": {
      "image/png": "[encoded data removed]",
      "text/plain": [
       "<Figure size 432x288 with 1 Axes>"
      ]
     },
     "metadata": {
      "needs_background": "light"
     },
     "output_type": "display_data"
    }
   ],
   "source": [
    "ccss.query(\"s0=='北京'\").groupby(\"time\").index1.mean().plot()"
   ]
  },
  {
   "cell_type": "code",
   "execution_count": 4,
   "id": "sound-forge",
   "metadata": {},
   "outputs": [
    {
     "data": {
      "text/plain": [
       "<AxesSubplot:title={'center':'index1'}, xlabel='time'>"
      ]
     },
     "execution_count": 4,
     "metadata": {},
     "output_type": "execute_result"
    },
    {
     "data": {
      "image/png": "[encoded data removed]",
      "text/plain": [
       "<Figure size 432x288 with 1 Axes>"
      ]
     },
     "metadata": {
      "needs_background": "light"
     },
     "output_type": "display_data"
    }
   ],
   "source": [
    "ccss[ccss.s0 == \"北京\"].boxplot(column=\"index1\",by=\"time\")"
   ]
  },
  {
   "cell_type": "code",
   "execution_count": 5,
   "id": "instant-trial",
   "metadata": {},
   "outputs": [],
   "source": [
    "a = ccss.query(\"s0=='北京' & time==200704\").index1\n",
    "b = ccss.query(\"s0=='北京' & time==200712\").index1\n",
    "c = ccss.query(\"s0=='北京' & time==200812\").index1\n",
    "d = ccss.query(\"s0=='北京' & time==200912\").index1"
   ]
  },
  {
   "cell_type": "code",
   "execution_count": 6,
   "id": "distributed-infection",
   "metadata": {
    "scrolled": true
   },
   "outputs": [
    {
     "data": {
      "text/plain": [
       "LeveneResult(statistic=0.44332330387152036, pvalue=0.7221678627997157)"
      ]
     },
     "execution_count": 6,
     "metadata": {},
     "output_type": "execute_result"
    }
   ],
   "source": [
    "import scipy.stats as ss\n",
    "# 方差齐性检验\n",
    "ss.levene(a,b,c,d)"
   ]
  },
  {
   "cell_type": "markdown",
   "id": "saving-producer",
   "metadata": {},
   "source": [
    "## 3.2 单因素方差分析"
   ]
  },
  {
   "cell_type": "code",
   "execution_count": 7,
   "id": "cutting-meditation",
   "metadata": {},
   "outputs": [
    {
     "data": {
      "text/plain": [
       "F_onewayResult(statistic=5.630155391280303, pvalue=0.0008777240313291846)"
      ]
     },
     "execution_count": 7,
     "metadata": {},
     "output_type": "execute_result"
    }
   ],
   "source": [
    "# scipy 实现\n",
    "ss.f_oneway(a,b,c,d)"
   ]
  },
  {
   "cell_type": "code",
   "execution_count": 8,
   "id": "civil-ethnic",
   "metadata": {},
   "outputs": [
    {
     "data": {
      "text/html": [
       "<div>\n",
       "<style scoped>\n",
       "    .dataframe tbody tr th:only-of-type {\n",
       "        vertical-align: middle;\n",
       "    }\n",
       "\n",
       "    .dataframe tbody tr th {\n",
       "        vertical-align: top;\n",
       "    }\n",
       "\n",
       "    .dataframe thead th {\n",
       "        text-align: right;\n",
       "    }\n",
       "</style>\n",
       "<table border=\"1\" class=\"dataframe\">\n",
       "  <thead>\n",
       "    <tr style=\"text-align: right;\">\n",
       "      <th></th>\n",
       "      <th>sum_sq</th>\n",
       "      <th>df</th>\n",
       "      <th>F</th>\n",
       "      <th>PR(&gt;F)</th>\n",
       "    </tr>\n",
       "  </thead>\n",
       "  <tbody>\n",
       "    <tr>\n",
       "      <th>Intercept</th>\n",
       "      <td>1.001094e+06</td>\n",
       "      <td>1.0</td>\n",
       "      <td>2955.259790</td>\n",
       "      <td>1.227203e-179</td>\n",
       "    </tr>\n",
       "    <tr>\n",
       "      <th>time</th>\n",
       "      <td>5.721643e+03</td>\n",
       "      <td>3.0</td>\n",
       "      <td>5.630155</td>\n",
       "      <td>8.777240e-04</td>\n",
       "    </tr>\n",
       "    <tr>\n",
       "      <th>Residual</th>\n",
       "      <td>1.266924e+05</td>\n",
       "      <td>374.0</td>\n",
       "      <td>NaN</td>\n",
       "      <td>NaN</td>\n",
       "    </tr>\n",
       "  </tbody>\n",
       "</table>\n",
       "</div>"
      ],
      "text/plain": [
       "                 sum_sq     df            F         PR(>F)\n",
       "Intercept  1.001094e+06    1.0  2955.259790  1.227203e-179\n",
       "time       5.721643e+03    3.0     5.630155   8.777240e-04\n",
       "Residual   1.266924e+05  374.0          NaN            NaN"
      ]
     },
     "execution_count": 8,
     "metadata": {},
     "output_type": "execute_result"
    }
   ],
   "source": [
    "# statsmodels实现\n",
    "\n",
    "import statsmodels.api as sm\n",
    "from statsmodels.formula.api import ols\n",
    "\n",
    "ccss.time = ccss.time.astype(\"str\")\n",
    "\n",
    "model = ols(\"index1~time\",data=ccss.loc[ccss.s0 == \"北京\", : ]).fit()\n",
    "restable = sm.stats.anova_lm(model,typ=3)\n",
    "restable"
   ]
  },
  {
   "cell_type": "markdown",
   "id": "adapted-priest",
   "metadata": {},
   "source": [
    "## 3.3 多重比较"
   ]
  },
  {
   "cell_type": "markdown",
   "id": "royal-transition",
   "metadata": {},
   "source": [
    "### LSD法、Sidak法、Bonferroni法、Dunnett法、Tukey法、SNK 法、Duncan法"
   ]
  },
  {
   "cell_type": "markdown",
   "id": "coordinate-advocacy",
   "metadata": {},
   "source": [
    "    1.LSD法 本质上是一种t检验。通常用于1对或者几对专业上有特殊意义的样本均数间的比较\n",
    "    2.Sidak法 Sidak法的也是一种t检验，计算公式和LSD法的相同。但是Sidak法对α进行了调整。结论趋于接受无效假设，因此该方法要比LSD法保守的多\n",
    "    3.Bonferroni法 Bonferroni法与Sidak法类似，同样是在LSD法的基础上对α进行了调整。其调整方法基于Bonferroni不等式 一般认为Bonferroni法是最为保守的\n",
    "    4.Dunnett法 Dunnett法检验统计量为 td，故又称为Dunnett-t检验，实际上该方法的计算与LSD法相同，但是LSD法临界值表基于t分布，而该方法有特殊的临界值表 ，通常用于多个实验组和一个对照组均数的比较。\n",
    "    5.Tukey法 Tukey法较LSD法保守，即较LSD不易发现显著差异。Tukey法要求比较的样本容量相差不大，一般用于样本容量相同的组之间均数的比较。\n",
    "    6.SNK 法 SNK法全称Newman–Keuls 或者 Student–Newman–Keuls，属于复极差法（multiple range test），也称为q检验。因而SNK法较Tukey法灵敏（更容易发现显著差异）。另外SNK法又不及LSD法灵敏。\n",
    "    7.Duncan法 SNK法不同步长下的最小显著极差变幅大，虽然减小了犯Ⅰ类错误的概率，但是同时增加了犯Ⅱ类错误的概率。Duncan法的全称为Duncan's new multiple range test (MRT)，也称为新复极差法。该方法是对SNK法的修正，但是提高了一类错误概率，降低了二类错误的概率，通常用于农业研究。"
   ]
  },
  {
   "cell_type": "code",
   "execution_count": 10,
   "id": "former-aquatic",
   "metadata": {},
   "outputs": [
    {
     "data": {
      "text/plain": [
       "<statsmodels.sandbox.stats.multicomp.TukeyHSDResults at 0x7fe4262c3400>"
      ]
     },
     "execution_count": 10,
     "metadata": {},
     "output_type": "execute_result"
    }
   ],
   "source": [
    "# statsmodels \n",
    "from statsmodels.sandbox.stats import multicomp as mc\n",
    "\n",
    "poshoc = mc.MultiComparison(ccss.index1,ccss.time)\n",
    "# tukey法要求比较的样本容量相差不大，一般用于样本容量相同的组之间均数的比较\n",
    "res = poshoc.tukeyhsd()  # 使用tukeyhsd 对数据进行多重比较  \n",
    "res"
   ]
  },
  {
   "cell_type": "code",
   "execution_count": 11,
   "id": "consolidated-partnership",
   "metadata": {},
   "outputs": [
    {
     "data": {
      "text/html": [
       "<table class=\"simpletable\">\n",
       "<caption>Multiple Comparison of Means - Tukey HSD, FWER=0.05</caption>\n",
       "<tr>\n",
       "  <th>group1</th> <th>group2</th> <th>meandiff</th>  <th>p-adj</th>   <th>lower</th>   <th>upper</th>  <th>reject</th>\n",
       "</tr>\n",
       "<tr>\n",
       "  <td>200704</td> <td>200712</td>  <td>-4.1972</td> <td>0.0597</td>  <td>-8.5083</td> <td>0.1139</td>   <td>False</td>\n",
       "</tr>\n",
       "<tr>\n",
       "  <td>200704</td> <td>200812</td>  <td>-7.897</td>   <td>0.001</td> <td>-12.2081</td> <td>-3.5859</td>  <td>True</td> \n",
       "</tr>\n",
       "<tr>\n",
       "  <td>200704</td> <td>200912</td>  <td>3.6599</td>  <td>0.1706</td>  <td>-0.9332</td>  <td>8.253</td>   <td>False</td>\n",
       "</tr>\n",
       "<tr>\n",
       "  <td>200712</td> <td>200812</td>  <td>-3.6998</td> <td>0.1198</td>  <td>-7.9966</td>  <td>0.597</td>   <td>False</td>\n",
       "</tr>\n",
       "<tr>\n",
       "  <td>200712</td> <td>200912</td>  <td>7.8571</td>   <td>0.001</td>  <td>3.2774</td>  <td>12.4368</td>  <td>True</td> \n",
       "</tr>\n",
       "<tr>\n",
       "  <td>200812</td> <td>200912</td>  <td>11.5569</td>  <td>0.001</td>  <td>6.9772</td>  <td>16.1366</td>  <td>True</td> \n",
       "</tr>\n",
       "</table>"
      ],
      "text/plain": [
       "<class 'statsmodels.iolib.table.SimpleTable'>"
      ]
     },
     "execution_count": 11,
     "metadata": {},
     "output_type": "execute_result"
    }
   ],
   "source": [
    "res.summary()"
   ]
  },
  {
   "cell_type": "code",
   "execution_count": 14,
   "id": "awful-marshall",
   "metadata": {},
   "outputs": [
    {
     "data": {
      "text/html": [
       "<div>\n",
       "<style scoped>\n",
       "    .dataframe tbody tr th:only-of-type {\n",
       "        vertical-align: middle;\n",
       "    }\n",
       "\n",
       "    .dataframe tbody tr th {\n",
       "        vertical-align: top;\n",
       "    }\n",
       "\n",
       "    .dataframe thead th {\n",
       "        text-align: right;\n",
       "    }\n",
       "</style>\n",
       "<table border=\"1\" class=\"dataframe\">\n",
       "  <thead>\n",
       "    <tr style=\"text-align: right;\">\n",
       "      <th></th>\n",
       "      <th>200704</th>\n",
       "      <th>200712</th>\n",
       "      <th>200812</th>\n",
       "      <th>200912</th>\n",
       "    </tr>\n",
       "  </thead>\n",
       "  <tbody>\n",
       "    <tr>\n",
       "      <th>200704</th>\n",
       "      <td>1.000000</td>\n",
       "      <td>0.144102</td>\n",
       "      <td>2.043272e-06</td>\n",
       "      <td>1.000000e+00</td>\n",
       "    </tr>\n",
       "    <tr>\n",
       "      <th>200712</th>\n",
       "      <td>0.144102</td>\n",
       "      <td>1.000000</td>\n",
       "      <td>2.434703e-02</td>\n",
       "      <td>1.211434e-02</td>\n",
       "    </tr>\n",
       "    <tr>\n",
       "      <th>200812</th>\n",
       "      <td>0.000002</td>\n",
       "      <td>0.024347</td>\n",
       "      <td>1.000000e+00</td>\n",
       "      <td>5.260855e-08</td>\n",
       "    </tr>\n",
       "    <tr>\n",
       "      <th>200912</th>\n",
       "      <td>1.000000</td>\n",
       "      <td>0.012114</td>\n",
       "      <td>5.260855e-08</td>\n",
       "      <td>1.000000e+00</td>\n",
       "    </tr>\n",
       "  </tbody>\n",
       "</table>\n",
       "</div>"
      ],
      "text/plain": [
       "          200704    200712        200812        200912\n",
       "200704  1.000000  0.144102  2.043272e-06  1.000000e+00\n",
       "200712  0.144102  1.000000  2.434703e-02  1.211434e-02\n",
       "200812  0.000002  0.024347  1.000000e+00  5.260855e-08\n",
       "200912  1.000000  0.012114  5.260855e-08  1.000000e+00"
      ]
     },
     "execution_count": 14,
     "metadata": {},
     "output_type": "execute_result"
    }
   ],
   "source": [
    "# scikit_posthocs\n",
    "import scikit_posthocs as sp\n",
    "pc = sp.posthoc_conover(ccss,val_col=\"index1\",group_col=\"time\",p_adjust=\"bonferroni\")\n",
    "pc"
   ]
  },
  {
   "cell_type": "code",
   "execution_count": 16,
   "id": "accessory-complement",
   "metadata": {},
   "outputs": [
    {
     "name": "stdout",
     "output_type": "stream",
     "text": [
      "        200704  200712  200812  200912\n",
      "200704    -1.0     0.0     1.0     0.0\n",
      "200712     0.0    -1.0     3.0     3.0\n",
      "200812     1.0     3.0    -1.0     1.0\n",
      "200912     0.0     3.0     1.0    -1.0\n",
      "-----------\n"
     ]
    },
    {
     "data": {
      "text/plain": [
       "(<AxesSubplot:>, <matplotlib.colorbar.ColorbarBase at 0x7fe4265f3c10>)"
      ]
     },
     "execution_count": 16,
     "metadata": {},
     "output_type": "execute_result"
    },
    {
     "data": {
      "image/png": "[encoded data removed]",
      "text/plain": [
       "<Figure size 432x288 with 2 Axes>"
      ]
     },
     "metadata": {
      "needs_background": "light"
     },
     "output_type": "display_data"
    }
   ],
   "source": [
    "# 使用热力图显示比较结果\n",
    "heatmap_args = {\"linewidths\" : 0.25, \"linecolor\" : \"0.5\",\"clip_on\" : False,\n",
    "               \"square\" : True, \"cbar_ax_bbox\" : [0.80, 0.35, 0.04, 0.3]}\n",
    "sp.sign_plot(pc, **heatmap_args)"
   ]
  },
  {
   "cell_type": "code",
   "execution_count": null,
   "id": "refined-easter",
   "metadata": {},
   "outputs": [],
   "source": []
  }
 ],
 "metadata": {
  "kernelspec": {
   "display_name": "Python 3",
   "language": "python",
   "name": "python3"
  },
  "language_info": {
   "codemirror_mode": {
    "name": "ipython",
    "version": 3
   },
   "file_extension": ".py",
   "mimetype": "text/x-python",
   "name": "python",
   "nbconvert_exporter": "python",
   "pygments_lexer": "ipython3",
   "version": "3.9.1"
  }
 },
 "nbformat": 4,
 "nbformat_minor": 5
}
