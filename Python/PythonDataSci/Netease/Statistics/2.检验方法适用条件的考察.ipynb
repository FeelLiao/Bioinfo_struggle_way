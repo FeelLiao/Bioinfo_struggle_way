{
 "cells": [
  {
   "cell_type": "markdown",
   "id": "impossible-reservation",
   "metadata": {},
   "source": [
    "# 2. 检验方法适用条件的考察"
   ]
  },
  {
   "cell_type": "markdown",
   "id": "convertible-worcester",
   "metadata": {},
   "source": [
    "## 2.1 独立性"
   ]
  },
  {
   "cell_type": "markdown",
   "id": "fourth-domain",
   "metadata": {},
   "source": [
    "    1.其它非研究因素的影响基本可以等同于随机误差\n",
    "    2.非独立导致数据方差估计不准确\n",
    "    3.很严重的数据非独立也会使参数估计出现偏差"
   ]
  },
  {
   "cell_type": "markdown",
   "id": "piano-disco",
   "metadata": {},
   "source": [
    "## 2.2 正态性"
   ]
  },
  {
   "cell_type": "markdown",
   "id": "noted-research",
   "metadata": {},
   "source": [
    "### 2.2.1 正态性的假设检验"
   ]
  },
  {
   "cell_type": "markdown",
   "id": "sticky-spencer",
   "metadata": {},
   "source": [
    "    1.KS检验\n",
    "        考察H0理论分布下累计相对频数和实际频数间的差异\n",
    "        取频数差值绝对值的最大值为统计量\n",
    "        结论比较严格\n",
    "    2.SW检验\n",
    "        基于数据的偏度系数和峰度系数进行正态性偏离程度的检验\n",
    "        相对KS检验而言结果更稳妥一些\n",
    "    3.固有缺陷\n",
    "        样本量偏低时往往过于迟钝\n",
    "        样本量较大会过敏，结论往往失去实用价值"
   ]
  },
  {
   "cell_type": "code",
   "execution_count": 1,
   "id": "musical-alfred",
   "metadata": {},
   "outputs": [],
   "source": [
    "# 导入数据\n",
    "import pandas as pd\n",
    "DATA_PATH = \"./CCSS_sample.xlsx\"\n",
    "ccss = pd.read_excel(DATA_PATH, sheet_name=0)"
   ]
  },
  {
   "cell_type": "markdown",
   "id": "equivalent-offering",
   "metadata": {},
   "source": [
    "### 2.2.2 正态性考察Python"
   ]
  },
  {
   "cell_type": "code",
   "execution_count": 2,
   "id": "wrapped-canyon",
   "metadata": {},
   "outputs": [
    {
     "data": {
      "text/plain": [
       "<AxesSubplot:ylabel='Frequency'>"
      ]
     },
     "execution_count": 2,
     "metadata": {},
     "output_type": "execute_result"
    },
    {
     "data": {
      "image/png": "[encoded data removed]",
      "text/plain": [
       "<Figure size 432x288 with 1 Axes>"
      ]
     },
     "metadata": {
      "needs_background": "light"
     },
     "output_type": "display_data"
    }
   ],
   "source": [
    "ccss.index1.plot.hist(bins=18)"
   ]
  },
  {
   "cell_type": "code",
   "execution_count": 3,
   "id": "governing-alexander",
   "metadata": {},
   "outputs": [
    {
     "data": {
      "text/plain": [
       "<AxesSubplot:>"
      ]
     },
     "execution_count": 3,
     "metadata": {},
     "output_type": "execute_result"
    },
    {
     "data": {
      "image/png": "[encoded data removed]",
      "text/plain": [
       "<Figure size 432x288 with 1 Axes>"
      ]
     },
     "metadata": {
      "needs_background": "light"
     },
     "output_type": "display_data"
    }
   ],
   "source": [
    "ccss.index1.plot.box()"
   ]
  },
  {
   "cell_type": "code",
   "execution_count": 4,
   "id": "seeing-witness",
   "metadata": {},
   "outputs": [
    {
     "data": {
      "text/plain": [
       "KstestResult(statistic=0.999128160418483, pvalue=0.0)"
      ]
     },
     "execution_count": 4,
     "metadata": {},
     "output_type": "execute_result"
    }
   ],
   "source": [
    "# 用假设检验考察正态性\n",
    "import scipy.stats as ss\n",
    "ss.kstest(ccss.index1,cdf=\"norm\")"
   ]
  },
  {
   "cell_type": "code",
   "execution_count": 5,
   "id": "material-charm",
   "metadata": {},
   "outputs": [
    {
     "data": {
      "text/plain": [
       "time\n",
       "200704                   (1.0, 0.0)\n",
       "200712    (0.9967105263157895, 0.0)\n",
       "200812                   (1.0, 0.0)\n",
       "200912                   (1.0, 0.0)\n",
       "Name: index1, dtype: object"
      ]
     },
     "execution_count": 5,
     "metadata": {},
     "output_type": "execute_result"
    }
   ],
   "source": [
    "# 分组考察正态性\n",
    "ks = lambda x: ss.kstest(x,cdf=\"norm\")\n",
    "ccss.groupby(\"time\").index1.apply(ks)"
   ]
  },
  {
   "cell_type": "code",
   "execution_count": 6,
   "id": "detailed-vegetarian",
   "metadata": {},
   "outputs": [
    {
     "data": {
      "text/plain": [
       "ShapiroResult(statistic=0.9748406410217285, pvalue=3.128693051163145e-13)"
      ]
     },
     "execution_count": 6,
     "metadata": {},
     "output_type": "execute_result"
    }
   ],
   "source": [
    "ss.shapiro(ccss.index1)"
   ]
  },
  {
   "cell_type": "markdown",
   "id": "taken-privilege",
   "metadata": {},
   "source": [
    "## 2.3 方差齐性"
   ]
  },
  {
   "cell_type": "markdown",
   "id": "therapeutic-smoke",
   "metadata": {},
   "source": [
    "    一般而言，只要最大/最小方差之比小于3，分析结果都是稳定的"
   ]
  },
  {
   "cell_type": "markdown",
   "id": "physical-request",
   "metadata": {},
   "source": [
    "### 2.3.1 方差齐性考察 "
   ]
  },
  {
   "cell_type": "markdown",
   "id": "associate-council",
   "metadata": {},
   "source": [
    "    1.分组箱图可以看出几组数据的离散程度，极端值分布情况等\n",
    "    2.假设检验\n",
    "        bartletts检验，基于服从正态分布的假设，数据略微偏离正态分布时，检验结果会出现较大偏差\n",
    "        levene检验 可作为标准的方差齐性检验方法"
   ]
  },
  {
   "cell_type": "code",
   "execution_count": 7,
   "id": "framed-superior",
   "metadata": {},
   "outputs": [
    {
     "data": {
      "text/plain": [
       "array([[<AxesSubplot:title={'center':'200704'}>,\n",
       "        <AxesSubplot:title={'center':'200712'}>],\n",
       "       [<AxesSubplot:title={'center':'200812'}>,\n",
       "        <AxesSubplot:title={'center':'200912'}>]], dtype=object)"
      ]
     },
     "execution_count": 7,
     "metadata": {},
     "output_type": "execute_result"
    },
    {
     "data": {
      "image/png": "[encoded data removed]",
      "text/plain": [
       "<Figure size 432x288 with 4 Axes>"
      ]
     },
     "metadata": {
      "needs_background": "light"
     },
     "output_type": "display_data"
    }
   ],
   "source": [
    "# 图形考察方差齐性\n",
    "ccss.index1.hist(by=ccss.time)"
   ]
  },
  {
   "cell_type": "code",
   "execution_count": 8,
   "id": "controversial-liverpool",
   "metadata": {},
   "outputs": [
    {
     "data": {
      "text/plain": [
       "<AxesSubplot:title={'center':'index1'}, xlabel='time'>"
      ]
     },
     "execution_count": 8,
     "metadata": {},
     "output_type": "execute_result"
    },
    {
     "data": {
      "image/png": "[encoded data removed]",
      "text/plain": [
       "<Figure size 432x288 with 1 Axes>"
      ]
     },
     "metadata": {
      "needs_background": "light"
     },
     "output_type": "display_data"
    }
   ],
   "source": [
    "ccss.boxplot(column=\"index1\",by=\"time\")"
   ]
  },
  {
   "cell_type": "code",
   "execution_count": 10,
   "id": "small-being",
   "metadata": {},
   "outputs": [
    {
     "data": {
      "text/plain": [
       "BartlettResult(statistic=11.123818483344097, pvalue=0.011074841431975263)"
      ]
     },
     "execution_count": 10,
     "metadata": {},
     "output_type": "execute_result"
    }
   ],
   "source": [
    "# 假设检验\n",
    "ss.bartlett(ccss.index1[ccss.time==200704],\n",
    "            ccss.index1[ccss.time==200712],\n",
    "            ccss.index1[ccss.time==200812],\n",
    "            ccss.index1[ccss.time==200912]\n",
    "           )"
   ]
  },
  {
   "cell_type": "code",
   "execution_count": 11,
   "id": "supposed-sailing",
   "metadata": {},
   "outputs": [
    {
     "data": {
      "text/plain": [
       "LeveneResult(statistic=2.2068913639343792, pvalue=0.08563270755698366)"
      ]
     },
     "execution_count": 11,
     "metadata": {},
     "output_type": "execute_result"
    }
   ],
   "source": [
    "ss.levene(ccss.index1[ccss.time==200704],\n",
    "            ccss.index1[ccss.time==200712],\n",
    "            ccss.index1[ccss.time==200812],\n",
    "            ccss.index1[ccss.time==200912])"
   ]
  },
  {
   "cell_type": "code",
   "execution_count": null,
   "id": "verified-singapore",
   "metadata": {},
   "outputs": [],
   "source": []
  }
 ],
 "metadata": {
  "kernelspec": {
   "display_name": "Python 3",
   "language": "python",
   "name": "python3"
  },
  "language_info": {
   "codemirror_mode": {
    "name": "ipython",
    "version": 3
   },
   "file_extension": ".py",
   "mimetype": "text/x-python",
   "name": "python",
   "nbconvert_exporter": "python",
   "pygments_lexer": "ipython3",
   "version": "3.9.1"
  }
 },
 "nbformat": 4,
 "nbformat_minor": 5
}
