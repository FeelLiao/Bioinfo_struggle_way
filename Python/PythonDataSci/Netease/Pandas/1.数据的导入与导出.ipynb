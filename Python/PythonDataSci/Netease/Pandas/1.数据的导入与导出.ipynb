{
 "cells": [
  {
   "cell_type": "code",
   "execution_count": 1,
   "metadata": {},
   "outputs": [
    {
     "data": {
      "text/plain": [
       "'1.0.5'"
      ]
     },
     "execution_count": 1,
     "metadata": {},
     "output_type": "execute_result"
    }
   ],
   "source": [
    "#设定系统环境\n",
    "import pandas as pd\n",
    "pd.options.display.max_rows = 10 #设定自由列表输出最多为 10 行\n",
    "pd.__version__ #显示当前版本号"
   ]
  },
  {
   "cell_type": "markdown",
   "metadata": {},
   "source": [
    "# 1.获取数据"
   ]
  },
  {
   "cell_type": "markdown",
   "metadata": {},
   "source": [
    "## 1.1 新建数据框\n",
    "    pd.DataFrame(\n",
    "    data = None : 数据列表,字典格式时直接同时提供变量名\n",
    "    columns = None : 变量名列表\n",
    "    ）"
   ]
  },
  {
   "cell_type": "code",
   "execution_count": 4,
   "metadata": {},
   "outputs": [
    {
     "data": {
      "text/html": [
       "<div>\n",
       "<style scoped>\n",
       "    .dataframe tbody tr th:only-of-type {\n",
       "        vertical-align: middle;\n",
       "    }\n",
       "\n",
       "    .dataframe tbody tr th {\n",
       "        vertical-align: top;\n",
       "    }\n",
       "\n",
       "    .dataframe thead th {\n",
       "        text-align: right;\n",
       "    }\n",
       "</style>\n",
       "<table border=\"1\" class=\"dataframe\">\n",
       "  <thead>\n",
       "    <tr style=\"text-align: right;\">\n",
       "      <th></th>\n",
       "      <th>var2</th>\n",
       "      <th>var3</th>\n",
       "    </tr>\n",
       "  </thead>\n",
       "  <tbody>\n",
       "    <tr>\n",
       "      <th>0</th>\n",
       "      <td>1</td>\n",
       "      <td>test</td>\n",
       "    </tr>\n",
       "    <tr>\n",
       "      <th>1</th>\n",
       "      <td>2</td>\n",
       "      <td>train</td>\n",
       "    </tr>\n",
       "    <tr>\n",
       "      <th>2</th>\n",
       "      <td>3</td>\n",
       "      <td>test</td>\n",
       "    </tr>\n",
       "    <tr>\n",
       "      <th>3</th>\n",
       "      <td>4</td>\n",
       "      <td>train</td>\n",
       "    </tr>\n",
       "  </tbody>\n",
       "</table>\n",
       "</div>"
      ],
      "text/plain": [
       "   var2   var3\n",
       "0     1   test\n",
       "1     2  train\n",
       "2     3   test\n",
       "3     4  train"
      ]
     },
     "execution_count": 4,
     "metadata": {},
     "output_type": "execute_result"
    }
   ],
   "source": [
    "#以list形式按行提供数据\n",
    "df1 = pd.DataFrame(data = [[1,\"test\"], [2,\"train\"],\n",
    "[3,\"test\"],[4,\"train\"]],\n",
    "columns = [ 'var2', 'var3' ]\n",
    ")\n",
    "df1"
   ]
  },
  {
   "cell_type": "markdown",
   "metadata": {},
   "source": [
    "    Series\n",
    "    python的原生数据结构中没有和数组对应的类型。\n",
    "    list虽然比较接近数组的需求,但是没有索引和排序功能。\n",
    "    pd.Series可以被简单理解为带索引的有序列表,从而能够更好的满足数据分析的需求。"
   ]
  },
  {
   "cell_type": "code",
   "execution_count": 5,
   "metadata": {},
   "outputs": [
    {
     "data": {
      "text/plain": [
       "0     test\n",
       "1    train\n",
       "2     test\n",
       "3    train\n",
       "dtype: object"
      ]
     },
     "execution_count": 5,
     "metadata": {},
     "output_type": "execute_result"
    }
   ],
   "source": [
    "s1 = pd.Series([\"test\",\"train\",\"test\",\"train\"])\n",
    "s1"
   ]
  },
  {
   "cell_type": "code",
   "execution_count": 6,
   "metadata": {},
   "outputs": [
    {
     "data": {
      "text/plain": [
       "0     test\n",
       "1    train\n",
       "2     test\n",
       "3    train\n",
       "Name: var3, dtype: object"
      ]
     },
     "execution_count": 6,
     "metadata": {},
     "output_type": "execute_result"
    }
   ],
   "source": [
    "pd.Series(data = [\"test\",\"train\",\"test\",\"train\"], name = 'var3')"
   ]
  },
  {
   "cell_type": "code",
   "execution_count": 7,
   "metadata": {},
   "outputs": [
    {
     "name": "stdout",
     "output_type": "stream",
     "text": [
      "<class 'pandas.core.series.Series'>\n"
     ]
    },
    {
     "data": {
      "text/plain": [
       "0     test\n",
       "1    train\n",
       "2     test\n",
       "3    train\n",
       "Name: var3, dtype: object"
      ]
     },
     "execution_count": 7,
     "metadata": {},
     "output_type": "execute_result"
    }
   ],
   "source": [
    "#df中的每一列实际上就是一个Series。\n",
    "print(type(df1.var3))\n",
    "df1.var3"
   ]
  },
  {
   "cell_type": "markdown",
   "metadata": {},
   "source": [
    "## 1.2 读入文本格式的数据文件"
   ]
  },
  {
   "cell_type": "markdown",
   "metadata": {},
   "source": [
    "    pd.read_csv(\n",
    "    filepath_or_buffer :要读入的文件路径\n",
    "    sep = ',':列分隔符\n",
    "    header = 'infer':指定数据中的第几行作为变量名\n",
    "    names = None :自定义变量名列表\n",
    "    index_col = None :将会被用作索引的列名,多列时只能使用序号列表\n",
    "    usecols = None :指定只读入某些列,使用索引列表或者名称列表均可。\n",
    "        [0,1,3], [\"名次\", \"学校名称\", \"所在地区\"]\n",
    "    encoding = None:读入文件的编码方式\n",
    "        utf-8/GBK,中文数据文件最好设定为utf-8\n",
    "    na_values :指定将被读入为缺失值的数值列表,默认下列数据被读入为缺失值:\n",
    "        '', '#N/A', '#N/A N/A', '#NA', '-1.#IND',\n",
    "        '-1.#QNAN', '-NaN', '-nan', '1.#IND', '1.#QNAN',\n",
    "        'N/A', 'NA', 'NULL', 'NaN', 'n/a', 'nan', 'null'\n",
    "     ) 读取csv格式文件,但也可通用于文本文件读取"
   ]
  },
  {
   "cell_type": "markdown",
   "metadata": {},
   "source": [
    "## 1.3  读入EXCEL文件\n",
    "    pd.read_excel(\n",
    "    filepath_or_buffer:要读入的文件路径\n",
    "    sheet_name:要读入的表单,字符串或者数字序号均可,默认读入第一个\n",
    "    )"
   ]
  },
  {
   "cell_type": "markdown",
   "metadata": {},
   "source": [
    "## 1.4 读入统计软件数据集\n",
    "### 1.4.1 直接读入SAS/Stata/SPSS数据文件\n",
    "    pd.read_sas() # 必要时可以使用encoding选项\n",
    "    pd.read_spss() # 0.25 版之后新增\n",
    "    pd.read_stata()\n",
    "    pd.read_spss(path : 要读入的文件路径\n",
    "    usecols = None : 需要读入的变量列表,list-like,默认全部读入\n",
    "    convert_categoricals = True : 是否将类别列转换为pd.Categorical\n",
    "    )"
   ]
  },
  {
   "cell_type": "markdown",
   "metadata": {},
   "source": [
    "### 1.4.2 用pyreadstat包读入SPSS文件\n",
    "    pyreadstat包可以作为pandas的接口直接读写SAS、SPSS、Stata数据文件。\n",
    "    read_spss()本质上只是对pyreadstat包的简单调用。\n",
    "    除读入数据外,还可以提取完整的数据附加信息供使用。\n",
    "    \n",
    "    # pip install pyreadstat\n",
    "    \n",
    "    pyreadstat.read_sav(\n",
    "    filename_path : 需要读取的文件路径,utf-8格式。\n",
    "    encoding = None : 指定数据读入的编码,iconv-compatible名称。\n",
    "    usecols : 需要读入的变量列,list格式。\n",
    "    metadataonly = False : 只读取matadata,不读取具体数据。\n",
    "    apply_value_formats = False : 用值标签代替原始数值读入。\n",
    "    formats_as_category = True : 当apply_value_formtas为True时,是否将设定格式的变量\n",
    "    值转化为pd.categories。\n",
    "    user_missing = False : 是否按原值读入自定义缺失值,否则一律读入为nan。\n",
    "    dates_as_pandas_datetime = False : 将date转换为pd.datetime64格式。\n",
    "    disable_datetime_conversion = False : 是否自动转换日期时间变量,否则一律按照数值读\n",
    "    入。\n",
    "    row_limit = 0 : 读入的最大行数,0为无限制。\n",
    "    row_offset = 0 : 读入时跳开前多少行。\n",
    "    ) #返回:\n",
    "    data_frame : 包括全部数据\n",
    "    metadata : 包括附加信息的metadata对象"
   ]
  },
  {
   "cell_type": "markdown",
   "metadata": {},
   "source": [
    "# 2.保存数据"
   ]
  },
  {
   "cell_type": "markdown",
   "metadata": {},
   "source": [
    "## 2.1 保存数据至外部文件"
   ]
  },
  {
   "cell_type": "markdown",
   "metadata": {},
   "source": [
    "    df.to_csv(\n",
    "    filepath_or_buffer:要保存的文件路径\n",
    "    sep = ',' :列分隔符\n",
    "    columns :需要导出的变量列表\n",
    "    header = True :指定导出数据的新变量名,可直接提供list\n",
    "    index = True :是否导出索引\n",
    "    mode = 'w' : Python写模式,读写方式:r , r+ , w , w+ , a , a+\n",
    "    encoding = 'utf-8' :默认导出的文件编码格式\n",
    "    )"
   ]
  },
  {
   "cell_type": "markdown",
   "metadata": {},
   "source": [
    "    df.to_excel(\n",
    "    filepath_or_buffer:要读入的文件路径\n",
    "    sheet_name = 'Sheet1' :要保存的表单名称"
   ]
  },
  {
   "cell_type": "markdown",
   "metadata": {},
   "source": [
    "    pyreadstat.write_sav(\n",
    "    df : 要保存的df名称。\n",
    "    dst_path : 要保存的sav/zsav文件路径及名称。\n",
    "    compress = Flase : 是否保存为压缩的zsav格式。\n",
    "    column_labels : 所保存文件的变量名标签list。\n",
    "    list必须和变量列等长,无标签的用None表示。\n",
    "    variable_value_labels : 所保存文件的变量值标签,dict格式。\n",
    "    key为变量名,value为具体数值和值标签的dict。\n",
    "    missing_ranges : 用户自定义缺失值,dict格式。\n",
    "    key为变量名,value为list格式。list元素的设定格式和SPSS中的格式相同。\n",
    "    variable_measure : 变量测量尺度,dict格式。\n",
    "    dict的values为 “nominal”, “ordinal”, “scale” or “unknown” 。\n",
    "    note : 所保存文件的文件注释。\n",
    "    file_label : 所保存文件的文件标签。\n",
    "    variable_display_width : 变量列显示宽度,dict格式。\n",
    "    )"
   ]
  },
  {
   "cell_type": "code",
   "execution_count": null,
   "metadata": {},
   "outputs": [],
   "source": []
  }
 ],
 "metadata": {
  "kernelspec": {
   "display_name": "Python 3",
   "language": "python",
   "name": "python3"
  },
  "language_info": {
   "codemirror_mode": {
    "name": "ipython",
    "version": 3
   },
   "file_extension": ".py",
   "mimetype": "text/x-python",
   "name": "python",
   "nbconvert_exporter": "python",
   "pygments_lexer": "ipython3",
   "version": "3.8.5"
  }
 },
 "nbformat": 4,
 "nbformat_minor": 4
}
