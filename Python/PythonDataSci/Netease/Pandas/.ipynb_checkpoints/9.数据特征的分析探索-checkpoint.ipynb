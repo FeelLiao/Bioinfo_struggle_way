{
 "cells": [
  {
   "cell_type": "markdown",
   "metadata": {},
   "source": [
    "# 9.数据特征的分析探索"
   ]
  },
  {
   "cell_type": "markdown",
   "metadata": {},
   "source": [
    "## 9.1 数值变量的基本描述\n",
    "    df.describe(\n",
    "    percentiles : 需要输出的百分位数,列表格式提供,如 [.25 ,.5 , .75 ]\n",
    "    include=None : 要求纳入分析的变量类型白名单\n",
    "        None ( default ) : 只纳入数值变量列\n",
    "        A list-like of dtypes : 列表格式提供希望纳入的类型\n",
    "        fallf : 全 部 纳 入\n",
    "    exclude : 要求剔除出分析的变量类型黑名单,选项同上\n",
    "    ）"
   ]
  },
  {
   "cell_type": "markdown",
   "metadata": {},
   "source": [
    "## 9.2 分类变量的频数统计\n",
    "    Series.value_counts(\n",
    "    normalize=False : 是否返回构成比而不是原始频数\n",
    "    sort=True : 是否按照频数排序 ( 否则按照原始顺序排列 )\n",
    "    ascending = False : 是否升序排列\n",
    "    bins : 对数值变量直接进行分段,可看作是 pd.cut 的简便用法\n",
    "    dropna = True : 结果中是否包括 NaN\n",
    "    )"
   ]
  },
  {
   "cell_type": "markdown",
   "metadata": {},
   "source": [
    "## 9.3 交叉 / 数据透视表\n",
    "    df.pivot_table(\n",
    "    行列设定\n",
    "        index / columns : 行变量 / 列变量,多个时以 list 形式提供\n",
    "    单元格设定\n",
    "        values : 在单元格中需要汇总的变量列 ,可不写\n",
    "        aggfunc = numpy.mean : 相应的汇总函数\n",
    "    汇总设定\n",
    "        margins=False : 是否加入行列汇总\n",
    "        margins_name=All : 汇总行 / 列的名称\n",
    "    缺失值处理\n",
    "        fill_value=None : 用于替换缺失值的数值\n",
    "        dropna = True :\n",
    "    )\n",
    "    \n",
    "    pd.crosstab(\n",
    "        选项和 pivot_table 几乎相同\n",
    "        相对而言需要打更多字母 , 因此使用更麻烦\n",
    "        但是计算频数最方便\n",
    "        输出格式为数据框\n",
    "    行列设定\n",
    "        index / columns : 行变量 / 列变量,多个时以 list 形式提供\n",
    "        rownames / colnames = None : 交叉表的行列名称\n",
    "    单元格设定\n",
    "        values : 在单元格中需要汇总的变量列,需要进一步指定 aggfunc\n",
    "        aggfunc : 相应的汇总函数\n",
    "    汇总设定\n",
    "        margins=False : 是否加入行列汇总\n",
    "        margins_name=All : 汇总行 / 列的名称\n",
    "    dropna = True :\n",
    "    )"
   ]
  },
  {
   "cell_type": "code",
   "execution_count": null,
   "metadata": {},
   "outputs": [],
   "source": []
  }
 ],
 "metadata": {
  "kernelspec": {
   "display_name": "Python 3",
   "language": "python",
   "name": "python3"
  },
  "language_info": {
   "codemirror_mode": {
    "name": "ipython",
    "version": 3
   },
   "file_extension": ".py",
   "mimetype": "text/x-python",
   "name": "python",
   "nbconvert_exporter": "python",
   "pygments_lexer": "ipython3",
   "version": "3.8.3"
  }
 },
 "nbformat": 4,
 "nbformat_minor": 4
}
