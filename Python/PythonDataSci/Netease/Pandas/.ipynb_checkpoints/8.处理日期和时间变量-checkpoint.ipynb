{
 "cells": [
  {
   "cell_type": "markdown",
   "metadata": {},
   "source": [
    "# 8. 处理日期时间变量"
   ]
  },
  {
   "cell_type": "markdown",
   "metadata": {},
   "source": [
    "## 8.1 建立 Timestamp 类和 Period 类\n",
    "    Pandas 中和时间有关的类\n",
    "    \n",
    "    Class Name         used for                         how to use\n",
    "    Timestamp          表示具体的日期时间 (Timestamp)      to_datetime , Timestamp\n",
    "    DatetimeIndex      日期时间 (Timestamp ) 的索引       to_datetime , date_range , bdate_range ,DatetimeIndex              \n",
    "   \n",
    "    Period             表示具体的日期时间范围 (Peroid)      Period\n",
    "    PeriodIndex        Period 的索引                     period_range , PeriodIndex"
   ]
  },
  {
   "cell_type": "markdown",
   "metadata": {},
   "source": [
    "# 8.2 将数据转换为 Timestamp 类"
   ]
  },
  {
   "cell_type": "markdown",
   "metadata": {},
   "source": [
    "### 8.2.1 使用 pd.Timestamp 值接转换"
   ]
  },
  {
   "cell_type": "markdown",
   "metadata": {},
   "source": [
    "### 8.2.2 用 to _ datetime 进行批量转换\n",
    "    pd.to_datetime (\n",
    "    arg : 需要转换为 Timestamp 类的数值\n",
    "        integer, float, string, datetime, list, tuple , 1-d array , Series\n",
    "    errors= \"raise\" : {'ignore','coerce','raise'}\n",
    "\n",
    "    'raise' 抛出错误\n",
    "    'coerce' 设 定 为 NaT\n",
    "    'ignore' , 返回原值\n",
    "    短日期的解释方式 : 类似 ”10 / 11 / 12 ” 这样的数据如何解释\n",
    "        dayfirst=False : 数值是否 day 在前\n",
    "        yearfirst=False : 数 值 是 否 year 在前,该设定优先\n",
    "    \n",
    "    box = True : 是 否 返 回 为 Datetimelndex , False 时返回 ndarray 数组\n",
    "    format=None : 需要转换的字符串格式设定\n",
    "    )"
   ]
  },
  {
   "cell_type": "markdown",
   "metadata": {},
   "source": [
    "### 8.3 使用 DatetimeIndex 类\n",
    "    Datetimelndex 类对象除了拥有 Index 类对象的所有功能外 , 还针对日期时间的特点有如下增强 :\n",
    "    基于日期吋间的各个层级做快速索引操作\n",
    "    快速提取所需的吋间层级\n",
    "    按照所指定的吋间范围做快速切片"
   ]
  },
  {
   "cell_type": "markdown",
   "metadata": {},
   "source": [
    "### 8.3.1 建立 Datetimelndex 对象\n",
    "    8.3.1.1 建立索引时自动转换\n",
    "    使用 Timestamp 对象建立索引 ,将会自动转换为 DatetimeIndex 对象\n",
    "    \n",
    "    8.3.1.2 使用 date_range 建立 Datetimelndex 对象\n",
    "    这种建立方式主要是和 reindx 命令配合使用 , 以快速完成对时间序列中缺失值的填充工作\n",
    "    pd.date_range(\n",
    "    start /end = None : 日期吋间范围的起点 / 终点 ,均为类日期吋间格式的字符串 / 数据\n",
    "    periods = None : 准备生成的总记录数\n",
    "    freq =\"D\" : 生成记录吋的吋间周期 , 可以使用字母和数值倍数的组合 , 如 SIT\n",
    "    name=None : 生成的 DatetimeIndex 对象的名称\n",
    "    ）\n",
    "    pd.bdate_range(\n",
    "    主要参数和 pd.date_range 几乎完全相同,但默认 freq\n",
    "    另外附加了几个针对工作日/休息日的筛选参数\n",
    "    ）"
   ]
  },
  {
   "cell_type": "code",
   "execution_count": null,
   "metadata": {},
   "outputs": [],
   "source": []
  }
 ],
 "metadata": {
  "kernelspec": {
   "display_name": "Python 3",
   "language": "python",
   "name": "python3"
  },
  "language_info": {
   "codemirror_mode": {
    "name": "ipython",
    "version": 3
   },
   "file_extension": ".py",
   "mimetype": "text/x-python",
   "name": "python",
   "nbconvert_exporter": "python",
   "pygments_lexer": "ipython3",
   "version": "3.8.3"
  }
 },
 "nbformat": 4,
 "nbformat_minor": 4
}
