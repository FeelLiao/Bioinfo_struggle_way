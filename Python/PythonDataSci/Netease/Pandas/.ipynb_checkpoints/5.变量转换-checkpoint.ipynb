{
 "cells": [
  {
   "cell_type": "markdown",
   "metadata": {},
   "source": [
    "# 5.变量变换"
   ]
  },
  {
   "cell_type": "markdown",
   "metadata": {},
   "source": [
    "## 5.1计算新变量\n",
    "    df[varname]=value\n",
    "    df[varname]=df[oldvar]*100\n",
    "    df[varname]=numpy.sqrt(df[oldvar])  # 此处用math库会报错，因为math库只能对单个变量起作用"
   ]
  },
  {
   "cell_type": "markdown",
   "metadata": {},
   "source": [
    "## 5.2 基于一个原变量做函数运算\n",
    "    df,apply(\n",
    "        func:\n",
    "        axis=0  0 index 1 columns\n",
    "        )\n",
    "     df.applymap()\n",
    "     df.assign()"
   ]
  },
  {
   "cell_type": "markdown",
   "metadata": {},
   "source": [
    "## 5.3 在指定位置插入新变量列\n",
    "    df.insert(\n",
    "        loc: 插入位置的索引值\n",
    "        column:插入的新列名称\n",
    "        value: Series或者类数据结构变量值\n",
    "        allow_duplicates=False\n",
    "        ）"
   ]
  },
  {
   "cell_type": "markdown",
   "metadata": {},
   "source": [
    "## 5.4 修改/替换变量值\n",
    "    本质是如何直接指定到单元格的问题，只要能精确定位单元格地址，就能够做到准确替换"
   ]
  },
  {
   "cell_type": "markdown",
   "metadata": {},
   "source": [
    "### 5.4.1 对应值的替换\n",
    "    df.replace(\n",
    "        to_replace=None 将被替换的原数值，\n",
    "        value=None 希望填充的新数值\n",
    "        inplace=False\n",
    "        ）\n",
    "     可以用字典批量映射"
   ]
  },
  {
   "cell_type": "markdown",
   "metadata": {},
   "source": [
    "### 5.4.2 指定数值范围的替换\n",
    "    方法一 : 使用正则表达式完成替换\n",
    "    df.replace(regex , newvalue)\n",
    "    方法二 : 使用行筛选方式完成替换\n",
    "    用行筛选方式得到行索引,然后用 loc 命令定位替换\n",
    "    目前也支持直接筛选出单元格进行数值替换\n",
    "    注意 : query 命令的类 SQL 语句可以进行检索,但不直接支持数值替换"
   ]
  },
  {
   "cell_type": "markdown",
   "metadata": {},
   "source": [
    "## 5.5 哑变量变换\n",
    "    pd.get_dummies(\n",
    "    data : 希望转换的数据框 / 变量列\n",
    "    prefix = None : 哑变量名称前缀\n",
    "    prefix_sep='_':前缀和序号之间的连接字符 , 设定有 prefix或列名吋生效\n",
    "    dummy_na=False : 是否为 NaNs 专门设定一个哑变量列\n",
    "    columns=None : 希望转换的原始列名,如果不设定,则转换所有符合条件的列\n",
    "    drop_first = False : 是否返回 k-1 个哑变量,而不是 k 个哑变量\n",
    "    )# 返回值为数据框"
   ]
  },
  {
   "cell_type": "markdown",
   "metadata": {},
   "source": [
    "## 5.6 数值变量分段\n",
    "    pd.cut(\n",
    "    x: 希望进行分段的变量列名称\n",
    "    bins : 具体的分段设定\n",
    "        int : 被等距等分的段数\n",
    "        sequence of scalars : 具体的每一个分段起点 , 必须包括最值 , 可不等距\n",
    "    right = True : 每段是否包括右侧界值\n",
    "    labels=None : 为每个分段提供自定义标签\n",
    "    include lowest=False : 第一段是否包括最左侧界值 ,需要和 right 参数配合\n",
    "    ) # 分段结果是数值类型为 Categories 的序列\n",
    "    \n",
    "    pd.qcut # 按照频数 , 而不是按照取值范围进行等分"
   ]
  },
  {
   "cell_type": "code",
   "execution_count": null,
   "metadata": {},
   "outputs": [],
   "source": []
  }
 ],
 "metadata": {
  "kernelspec": {
   "display_name": "Python 3",
   "language": "python",
   "name": "python3"
  },
  "language_info": {
   "codemirror_mode": {
    "name": "ipython",
    "version": 3
   },
   "file_extension": ".py",
   "mimetype": "text/x-python",
   "name": "python",
   "nbconvert_exporter": "python",
   "pygments_lexer": "ipython3",
   "version": "3.8.3"
  }
 },
 "nbformat": 4,
 "nbformat_minor": 4
}
