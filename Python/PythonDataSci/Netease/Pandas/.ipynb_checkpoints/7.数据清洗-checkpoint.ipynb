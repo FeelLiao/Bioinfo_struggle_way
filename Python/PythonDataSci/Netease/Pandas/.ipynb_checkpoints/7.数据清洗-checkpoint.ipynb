{
 "cells": [
  {
   "cell_type": "markdown",
   "metadata": {},
   "source": [
    "# 7 数据清洗"
   ]
  },
  {
   "cell_type": "markdown",
   "metadata": {},
   "source": [
    "## 7.1 处理缺失值"
   ]
  },
  {
   "cell_type": "markdown",
   "metadata": {},
   "source": [
    "### 7.1.1 系统默认的缺失值设定\n",
    "    系统默认的缺失值\n",
    "    None 和 np.nan\n",
    "    确定相应数值是否为缺失值\n",
    "    df.isna() # 别名为 isnull , 反函数为 notna"
   ]
  },
  {
   "cell_type": "markdown",
   "metadata": {},
   "source": [
    "### 7.1.2 处理自定义缺失值\n",
    "    目前Pandas不支持设定自定义缺失值,因此只能考虑将其替换为系统缺失值\n",
    "    df.replace (自定义缺失值,np.nan)"
   ]
  },
  {
   "cell_type": "markdown",
   "metadata": {},
   "source": [
    "### 7.1.3 标识缺失值案例\n",
    "    标识缺失值\n",
    "    df.isna ()\n",
    "    检查相应的数据是否为缺失值\n",
    "    df.isnull()\n",
    "    \n",
    "    检查多个单元格的取值是否为指定数值\n",
    "    df.any(\n",
    "    axis: {index (0) , columns (1)}\n",
    "    skipna = True : 检查时是否忽略缺失值\n",
    "    level=None : 多重索引吋指定具体的级别\n",
    "    ）\n",
    "    df.all(\n",
    "    axis: {index (0) f columns (1)}\n",
    "    skipna = True : 检查时是否忽略缺失值\n",
    "    None : 多重索引吋指定具体的级别\n",
    "    ）"
   ]
  },
  {
   "cell_type": "markdown",
   "metadata": {},
   "source": [
    "### 7.1.4 填充缺失值\n",
    "    df.fillna(\n",
    "    value : 用于填充缺失值的数值\n",
    "        也可以提供 diet/Series/DataFrame 以进一步指明哪些索引列会被替换\n",
    "        不能使用 list\n",
    "    method=None : 有索引吋具体的填充方法 , 向前填充 , 向后填充等\n",
    "    limit=None : 指定了 method 后设定具体的最大填充步长 , > 此步长不能填充\n",
    "    axis : {0 index , 1 columns }\n",
    "    inplace=False\n",
    "    ）\n",
    "    在构建新索引的同时完成缺失值的填充任务\n",
    "    df.reindex(labels=None , fill_value=np.NaN\n",
    "    )"
   ]
  },
  {
   "cell_type": "markdown",
   "metadata": {},
   "source": [
    "### 7.1.5 删除缺失值\n",
    "    df.dropna(\n",
    "    axis=:{0 index  1 columns}\n",
    "    how = any : {'any','all'}\n",
    "        any : 任何一个为 NA 就删除\n",
    "        all : 所有的都是 NA 才删除\n",
    "    thresh=None : 删除的数量阈值, int\n",
    "    subset : 希望在处理中包括的行 / 列子集\n",
    "    inplace = False\n",
    "    )"
   ]
  },
  {
   "cell_type": "markdown",
   "metadata": {},
   "source": [
    "## 7.2 数据查重\n",
    "    标识出重复行的意义在于进一步检查重复原因 , 以便将可能的错误数据加以修改\n",
    "    duplicated\n",
    "    df.index.duplicated()\n",
    "    \n",
    "    直接删除重复的行\n",
    "    drop_duplicates : 如果 drop_duplicates(subset = \" ”) ,则按照指定的行进行去重\n",
    "    keep= first ’ / flastf/ False (是否直接删除有重复的所有记录 )"
   ]
  },
  {
   "cell_type": "code",
   "execution_count": null,
   "metadata": {},
   "outputs": [],
   "source": []
  }
 ],
 "metadata": {
  "kernelspec": {
   "display_name": "Python 3",
   "language": "python",
   "name": "python3"
  },
  "language_info": {
   "codemirror_mode": {
    "name": "ipython",
    "version": 3
   },
   "file_extension": ".py",
   "mimetype": "text/x-python",
   "name": "python",
   "nbconvert_exporter": "python",
   "pygments_lexer": "ipython3",
   "version": "3.8.3"
  }
 },
 "nbformat": 4,
 "nbformat_minor": 4
}
