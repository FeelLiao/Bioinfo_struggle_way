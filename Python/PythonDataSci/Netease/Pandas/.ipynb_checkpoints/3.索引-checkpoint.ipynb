{
 "cells": [
  {
   "cell_type": "markdown",
   "metadata": {},
   "source": [
    "# 3.索引"
   ]
  },
  {
   "cell_type": "markdown",
   "metadata": {},
   "source": [
    "## 3.1 建立索引"
   ]
  },
  {
   "cell_type": "markdown",
   "metadata": {},
   "source": [
    "    指定某列为索引列\n",
    "    df.set_index(\n",
    "    keys : 被指定为索引的列名,复合索引用 list 格式提供\n",
    "    drop = True : 建立索引后是否删除该列\n",
    "    append = False : 是否在原索引基础上添加索引,默认是直接替换原索引\n",
    "    inplace = False : 是否直接修改原数据框\n",
    "    ）"
   ]
  },
  {
   "cell_type": "markdown",
   "metadata": {},
   "source": [
    "## 3.2 将索引还原回变量列\n",
    "    df.reset_index(\n",
    "    drop = False : 是否将索引直接删除,而不是还原为变量列\n",
    "    inplace = False : 是否直接修改原数据框\n",
    "    level=None : 对于多重索引,确定转换哪个级别为变量\n",
    "    )"
   ]
  },
  {
   "cell_type": "markdown",
   "metadata": {},
   "source": [
    "## 3.3 引用和修改索引\n",
    "\n",
    "### 3.3.1 引用索引\n",
    "    注意:索引仍然是有存储格式的,注意区分数值型和字符型的引用方式"
   ]
  },
  {
   "cell_type": "markdown",
   "metadata": {},
   "source": [
    "df2.index"
   ]
  },
  {
   "cell_type": "markdown",
   "metadata": {},
   "source": [
    "### 3. 3 .2 修改索引\n",
    "    3.3.2.1 修改索引名\n",
    "    本质上和变量列名的修改方式相同"
   ]
  },
  {
   "cell_type": "markdown",
   "metadata": {},
   "source": [
    "df2.index.names=[   ]"
   ]
  },
  {
   "cell_type": "markdown",
   "metadata": {},
   "source": [
    "### 3.3.2.1修改索引值\n",
    "    这里的修改本质上是全部替换\n",
    "    df.index=['a','b','c','d']   列表长度要和原索引长度一致\n",
    "    "
   ]
  },
  {
   "cell_type": "markdown",
   "metadata": {},
   "source": []
  },
  {
   "cell_type": "markdown",
   "metadata": {},
   "source": [
    "### 3.3.3 强行更新索引\n",
    "### reindex 则可以使用数据框中不存在的数值建立索引 , 并据此扩充新索引值对应的索引行 / 列 , 同时进行缺失值填充操作\n",
    "    df.reindex (\n",
    "    labels : 类数组结构的数值,将按此数值重建索引,非必需\n",
    "    axis : 针对哪个轴进行重建\n",
    "        （index , columns) or number (0 , 1).\n",
    "    copy = True : 建立新对象而不是直接更改原 df/series\n",
    "    level : 考虑被重建的索引级别\n",
    "    缺失数据的处理方式\n",
    "        method : 针对已经排序过的索引 , 确定数据单元格无数据吋的填充方法 , 非必需\n",
    "            pad / ffill: 用前面的有效数值填充\n",
    "            backfill / bfill: 用后面的有效数值填充\n",
    "            nearest: 使用最接近的数值进行填充\n",
    "        fill_value=np.NaN : 将缺失值用什么数值替代\n",
    "        limit=None : 向前 / 向后填充时的最大步长\n",
    "        )"
   ]
  },
  {
   "cell_type": "code",
   "execution_count": null,
   "metadata": {},
   "outputs": [],
   "source": []
  }
 ],
 "metadata": {
  "kernelspec": {
   "display_name": "Python 3",
   "language": "python",
   "name": "python3"
  },
  "language_info": {
   "codemirror_mode": {
    "name": "ipython",
    "version": 3
   },
   "file_extension": ".py",
   "mimetype": "text/x-python",
   "name": "python",
   "nbconvert_exporter": "python",
   "pygments_lexer": "ipython3",
   "version": "3.8.3"
  }
 },
 "nbformat": 4,
 "nbformat_minor": 4
}
