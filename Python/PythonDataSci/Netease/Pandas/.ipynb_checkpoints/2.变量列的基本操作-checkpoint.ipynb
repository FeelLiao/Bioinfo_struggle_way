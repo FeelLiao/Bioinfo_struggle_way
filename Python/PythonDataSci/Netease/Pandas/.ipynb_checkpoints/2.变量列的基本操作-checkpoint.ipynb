{
 "cells": [
  {
   "cell_type": "markdown",
   "metadata": {},
   "source": [
    "# 2.变量列的基本操作"
   ]
  },
  {
   "cell_type": "markdown",
   "metadata": {},
   "source": [
    "## 2.1 对数据做简单浏览"
   ]
  },
  {
   "cell_type": "markdown",
   "metadata": {},
   "source": [
    "    数据框的基本信息\n",
    "    data.info()\n",
    "    data.head()\n",
    "    data.tail()"
   ]
  },
  {
   "cell_type": "markdown",
   "metadata": {},
   "source": [
    "## 2.2 重命名变量列\n",
    "    直接修改columns属性\n",
    "    df.columns= 新的名称list"
   ]
  },
  {
   "cell_type": "markdown",
   "metadata": {},
   "source": [
    "    只修改指定列名\n",
    "    df.rename(\n",
    "        columns=新旧名称字典 : {'旧名称':'新名称’}\n",
    "        inplace=False : 是否直接替换原数据框\n",
    "        }\n",
    "        "
   ]
  },
  {
   "cell_type": "markdown",
   "metadata": {},
   "source": [
    "## 2.3 筛选变量列\n",
    "    df.var\n",
    "    只适用于以存在的列\n",
    "    只能筛选单列 结果为Series\n",
    "    \n",
    "    df['var1','var2'] \n",
    "    可以筛选单列，也可以是多列\n",
    "    多列筛选时结果为df"
   ]
  },
  {
   "cell_type": "markdown",
   "metadata": {},
   "source": [
    "## 2.4 删除变量列\n",
    "    df.drop(\n",
    "        index/columns=准备删除的行/列标签，多个时用列表形式提供\n",
    "        inplace=False\n",
    "        )\n",
    "    "
   ]
  },
  {
   "cell_type": "markdown",
   "metadata": {},
   "source": [
    "## 2.5 变量类型的转换"
   ]
  },
  {
   "cell_type": "markdown",
   "metadata": {},
   "source": [
    "### 2.5.1 Pandas 支持的数据类型\n",
    "    具体类型是 Python , Numpy 各种类型的混合 , 可以比下表分的更细\n",
    "    float\n",
    "    int\n",
    "    string\n",
    "    bool\n",
    "    datetime64[ns] , datetime64[ns , tz], timedelta[ns]\n",
    "    category\n",
    "    object"
   ]
  },
  {
   "cell_type": "markdown",
   "metadata": {},
   "source": [
    "    df.dtypes : 查看各列的数据类型"
   ]
  },
  {
   "cell_type": "markdown",
   "metadata": {},
   "source": [
    "### 3.5.2 在不同数据类型间转换\n",
    "    df.astype (\n",
    "        dtype : 指定希望转换的数据类型\n",
    "        可以使用 numpy 或者 python 中的数据类型 : int/float/bool/str\n",
    "        copy=True : 是否生成新的副本 ,而不是替换原数据框\n",
    "        errors=raise: 转换出错时是否拋出错误 , raise / ignore"
   ]
  },
  {
   "cell_type": "markdown",
   "metadata": {},
   "source": [
    "    明确指定转换类型的函数 :\n",
    "    pd.to_datetime()\n",
    "    pd.to_timedelta()\n",
    "    pd.to_numeric()\n",
    "    df.to_string()\n",
    "    可以配合df.apply来批量进行多列的转换"
   ]
  },
  {
   "cell_type": "code",
   "execution_count": null,
   "metadata": {},
   "outputs": [],
   "source": []
  }
 ],
 "metadata": {
  "kernelspec": {
   "display_name": "Python 3",
   "language": "python",
   "name": "python3"
  },
  "language_info": {
   "codemirror_mode": {
    "name": "ipython",
    "version": 3
   },
   "file_extension": ".py",
   "mimetype": "text/x-python",
   "name": "python",
   "nbconvert_exporter": "python",
   "pygments_lexer": "ipython3",
   "version": "3.8.3"
  }
 },
 "nbformat": 4,
 "nbformat_minor": 4
}
