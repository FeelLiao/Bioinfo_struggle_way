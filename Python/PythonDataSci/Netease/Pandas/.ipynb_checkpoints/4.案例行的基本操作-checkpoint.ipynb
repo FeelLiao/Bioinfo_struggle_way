{
 "cells": [
  {
   "cell_type": "markdown",
   "metadata": {},
   "source": [
    "# 4.案例行的基本操作"
   ]
  },
  {
   "cell_type": "markdown",
   "metadata": {},
   "source": [
    "## 4.1 案例排序\n",
    "### 4.1.1 用索引排序\n",
    "    df.sort_index(\n",
    "    level : (多重索引时) 指定用于排序的级别顺序号 / 名称\n",
    "    ascending = True : 是否为升序排列 , 多列时以表形式提供\n",
    "    inplace=False :\n",
    "    na position='last': 缺失值的排列顺序 , first/last\n",
    "    )"
   ]
  },
  {
   "cell_type": "markdown",
   "metadata": {},
   "source": [
    "### 4.1.2 用变量值排序\n",
    "    df.sort_values(\n",
    "        by:指定用于排序的变量名，多列时用列表提供\n",
    "        ascending=True 是否升序\n",
    "        inplace=False\n",
    "        na_position=\"last\"  缺失值的排列顺序 first/last\n",
    "        )     "
   ]
  },
  {
   "cell_type": "markdown",
   "metadata": {},
   "source": [
    "## 4.2 案例筛选"
   ]
  },
  {
   "cell_type": "markdown",
   "metadata": {},
   "source": [
    "### 4.2.1 按照绝对位置进行筛选\n",
    "    df.iloc[0:3] # 不包括右侧界值 可以同时指定行列  用 , 隔开 df.iloc[0:3,[1:4]] "
   ]
  },
  {
   "cell_type": "markdown",
   "metadata": {},
   "source": [
    "### 4.2.2 按照索引值进行筛选\n",
    "    df.loc[] # 索引范围包括上下界值"
   ]
  },
  {
   "cell_type": "markdown",
   "metadata": {},
   "source": [
    "### 4.2.3 直接进行条件筛选\n",
    "    df[筛选条件] \n",
    "    df.isin[values] 列表筛选\n",
    "    可以进行多重条件筛选"
   ]
  },
  {
   "cell_type": "markdown",
   "metadata": {},
   "source": [
    "### 4.2.4 用类SQL语句进行筛选\n",
    "    df.query(\n",
    "        expr: 类SQL语句表达式\n",
    "        inplace=False\n",
    "        ）\n",
    "        用法举例\n",
    "        query(\"(a>b) & (b<c)\")   "
   ]
  },
  {
   "cell_type": "code",
   "execution_count": null,
   "metadata": {},
   "outputs": [],
   "source": []
  }
 ],
 "metadata": {
  "kernelspec": {
   "display_name": "Python 3",
   "language": "python",
   "name": "python3"
  },
  "language_info": {
   "codemirror_mode": {
    "name": "ipython",
    "version": 3
   },
   "file_extension": ".py",
   "mimetype": "text/x-python",
   "name": "python",
   "nbconvert_exporter": "python",
   "pygments_lexer": "ipython3",
   "version": "3.8.3"
  }
 },
 "nbformat": 4,
 "nbformat_minor": 4
}
