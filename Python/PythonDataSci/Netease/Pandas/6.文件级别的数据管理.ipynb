{
 "cells": [
  {
   "cell_type": "markdown",
   "metadata": {},
   "source": [
    "# 6 文件级别的数据管理"
   ]
  },
  {
   "cell_type": "markdown",
   "metadata": {},
   "source": [
    "## 6.1 数据拆分"
   ]
  },
  {
   "cell_type": "markdown",
   "metadata": {},
   "source": [
    "### 6.1.1 标记数据拆分组\n",
    "    df.groupby (\n",
    "    by : 用于分组的变量名 / 函数\n",
    "    axis=0 :\n",
    "    level=None : 相应的轴存在多重索引吋,指定用于分组的级别\n",
    "    as index = True : 在结果中将组标签作为索引\n",
    "    sort=True : 结果是否按照分组关键字进行排序\n",
    "    )# 生成的是分组索引标记,而不是新的 DF\n",
    "    在数据分组之后 , 许多数据处理 / 分析 / 绘图命令都可以在各组间单独执行"
   ]
  },
  {
   "cell_type": "markdown",
   "metadata": {},
   "source": [
    "### 6.1.2 基于拆分进行筛选\n",
    "    dfgroup.get_group()\n",
    "    筛选出所需的列\n",
    "    该操作也适用于希望对不同的变量列进行不同操作时"
   ]
  },
  {
   "cell_type": "markdown",
   "metadata": {},
   "source": [
    "## 6.2 分组汇总\n",
    "    在使用 groupby 完成数据拆分后 , 就可以按照需求分组进行信息汇总 , 此时可以使用其它专门的汇总命令 , 如 agg来完成汇总操作"
   ]
  },
  {
   "cell_type": "markdown",
   "metadata": {},
   "source": [
    "### 6.2.1 使用 agg 函数进行汇总\n",
    "    df.aggregate ()\n",
    "    名称可以直接简写为 agg\n",
    "    0.20 版新增\n",
    "    可以用 axis 指定汇总维度\n",
    "    \n",
    "    可以直接使用的汇总函数\n",
    "    count() Number of non - null observations\n",
    "    size() group sizes\n",
    "    sum() Sum of values\n",
    "    mean() Mean of values\n",
    "    median() Arithmetic median of values\n",
    "    min() Minimum\n",
    "    max() Maximum\n",
    "    std() Unbiased standard deviation\n",
    "    var() Unbiased variance\n",
    "    skew() Unbiased skewness (3rd moment)\n",
    "    kurt()  Unbiased kurtosis (4th moment)\n",
    "    quantile() Sample quantile (value at %)\n",
    "    apply() Generic apply\n",
    "    cov() Unbiased covariance (binary)\n",
    "    corr() Correlation (binary)"
   ]
  },
  {
   "cell_type": "markdown",
   "metadata": {},
   "source": [
    "### 6.2.2 其他分组汇总方法\n",
    "    在生成交叉表的同时对单元格指定具体的汇总指标和汇总函数\n",
    "    df.pivot_table()\n",
    "    pd.crosstab()"
   ]
  },
  {
   "cell_type": "markdown",
   "metadata": {},
   "source": [
    "## 6.3 重复测量数据的格式转换\n",
    "    基于多重索引, Pandas 可以很容易地完成长型、宽型数据格式的相互转换 。"
   ]
  },
  {
   "cell_type": "markdown",
   "metadata": {},
   "source": [
    "### 6.3.1 转换为最简格式\n",
    "    df.stack (\n",
    "    level=-1 : 需要处理的索引级别,默认为全部, int/string/list\n",
    "    dropna = True : 是否删除为缺失值的行\n",
    "    ) # 转换后的结果可能为 Series"
   ]
  },
  {
   "cell_type": "markdown",
   "metadata": {},
   "source": [
    "### 6.3.2 长宽型格式的自由互转\n",
    "    df unstack(\n",
    "    level=-1 : 需要处理的索引级别 , 默认为全部 , int/string/list\n",
    "    fill_value : 用于填充缺失值的数值\n",
    "    )\n",
    "    \n",
    "    数据转置\n",
    "    df.T"
   ]
  },
  {
   "cell_type": "markdown",
   "metadata": {},
   "source": [
    "### 6.3.3 其他可用于格式转换的命令\n",
    "    df.melt()\n",
    "    df.pivot()\n",
    "    df.pivot_table()"
   ]
  },
  {
   "cell_type": "markdown",
   "metadata": {},
   "source": [
    "## 6.4 多个数据源的合并"
   ]
  },
  {
   "cell_type": "markdown",
   "metadata": {},
   "source": [
    "### 6.4.1 数据的纵向合并\n",
    "    df.append(\n",
    "    other : 希望添加的 DF/Series/ 字典 / 上述对象的列表\n",
    "        使用列表方式,就可以实现一次合并多个新对象\n",
    "    ignore_index=False : 添加时是否忽略索引\n",
    "    verify_integrity = False : 是否检查索引值的唯一性 , 有重复吋报错\n",
    "    )"
   ]
  },
  {
   "cell_type": "markdown",
   "metadata": {},
   "source": [
    "### 6.4.2 数据的横向合并\n",
    "    merge 命令使用类 SQL 的连接方式\n",
    "    pd.merge(\n",
    "    需要合并的 DF\n",
    "    left : 需要合并的左侧 DF\n",
    "    right : 需要合并的右侧 DF\n",
    "    how = inner : 具体的连接类型\n",
    "        {'left','right','outer','inner'}\n",
    "    两个 DF 的连接方式\n",
    "        on : 用于连接两个 DF 的关键变量 ( 多个时为列表 ) ,必须在两侧都出现\n",
    "        left_on : 左侧 DF 用于连接的关键变量 ( 多个时为列表 )\n",
    "        right_on : 右侧 DF 用于连接的关键变量 ( 多个时为列表 )\n",
    "        left_index=False : 是否将左侧 DF 的索引用于连接\n",
    "     right_index = False : 是否将右侧 DF 的索引用于连接\n",
    "     其他附加设定\n",
    "     sort=False : 是否在合并前按照关键变量排序 ( 会影响合并后的案例顺序 )\n",
    "     suffixes: 重名变量的处理方式,提供长度为 2 的列表元素,分别作为后缀\n",
    "     suffixes=('x','y')\n",
    "     copy = True\n",
    "     indicator = False : 在 结 果 DF 中增加 merge 列,用于记录数据来源\n",
    "     )"
   ]
  },
  {
   "cell_type": "markdown",
   "metadata": {},
   "source": [
    "### 6.4.3 Concat 命令简介\n",
    "    同时支持横向合并与纵向合并\n",
    "    pd.concat(\n",
    "    Objs : 需要合并的对象,列表形式提供\n",
    "    axis = 0 : 对行还是对列方向进行合并\n",
    "    { 0 index , 1 columns }\n",
    "    join = outer : 对另一个轴向的索弓値如何进行处理\n",
    "    {'finner','outer'}\n",
    "    ignore_index=False\n",
    "    keys = None : 为不同数据源的提供合并后的索引值\n",
    "    verify_integrity = False\n",
    "    copy = True  \n",
    "    )"
   ]
  },
  {
   "cell_type": "code",
   "execution_count": null,
   "metadata": {},
   "outputs": [],
   "source": []
  }
 ],
 "metadata": {
  "kernelspec": {
   "display_name": "Python 3",
   "language": "python",
   "name": "python3"
  },
  "language_info": {
   "codemirror_mode": {
    "name": "ipython",
    "version": 3
   },
   "file_extension": ".py",
   "mimetype": "text/x-python",
   "name": "python",
   "nbconvert_exporter": "python",
   "pygments_lexer": "ipython3",
   "version": "3.8.3"
  }
 },
 "nbformat": 4,
 "nbformat_minor": 4
}
